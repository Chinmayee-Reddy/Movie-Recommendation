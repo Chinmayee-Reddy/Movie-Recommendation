{
  "nbformat": 4,
  "nbformat_minor": 0,
  "metadata": {
    "colab": {
      "provenance": []
    },
    "kernelspec": {
      "name": "python3",
      "display_name": "Python 3"
    },
    "language_info": {
      "name": "python"
    }
  },
  "cells": [
    {
      "cell_type": "markdown",
      "source": [
        "Title:**Movie Recommendation System**\n",
        "\n",
        "**Description**:A Movie Recommendation System is a machine learning project that suggests movies to users based on their preferences and past behavior. The system uses different algorithms to predict what movies a user might enjoy, including collaborative filtering, content-based filtering, or a combination of both.\n",
        "\n",
        "In collaborative filtering, the system looks at other users with similar tastes and recommends movies they liked. Content-based filtering, on the other hand, suggests movies similar to the ones the user has previously enjoyed, based on features like genre, director, or actors.\n",
        "\n",
        "Users can create profiles, rate movies, and receive personalized suggestions that update over time. The system uses data like movie ratings, genres, and reviews to make these predictions.\n",
        "\n",
        "Machine learning techniques such as matrix factorization, clustering algorithms, or even deep learning can be used to improve recommendation accuracy. Evaluation metrics like precision, recall, and RMSE (Root Mean Squared Error) help measure the performance of the system.\n",
        "\n",
        "For this project, tools like Python, Scikit-learn, and datasets like MovieLens or IMDB are commonly used. The system can be deployed as a web application using frameworks like Flask or Django."
      ],
      "metadata": {
        "id": "e-NLtB--vtNi"
      }
    },
    {
      "cell_type": "markdown",
      "source": [
        "**Import Library**"
      ],
      "metadata": {
        "id": "eDQcyUB-xZgb"
      }
    },
    {
      "cell_type": "code",
      "source": [
        "import pandas as pd"
      ],
      "metadata": {
        "id": "QlVhwAeKxY9g"
      },
      "execution_count": 1,
      "outputs": []
    },
    {
      "cell_type": "code",
      "execution_count": 2,
      "metadata": {
        "id": "EOgGVmaLvsUL"
      },
      "outputs": [],
      "source": [
        "import numpy as np"
      ]
    },
    {
      "cell_type": "markdown",
      "source": [
        "**Import Dataset**"
      ],
      "metadata": {
        "id": "Ob7asY01xh7b"
      }
    },
    {
      "cell_type": "code",
      "source": [
        "df=pd.read_csv('https://raw.githubusercontent.com/YBIFoundation/Dataset/refs/heads/main/Movies%20Recommendation.csv')"
      ],
      "metadata": {
        "id": "g3QEUGTMxl-0"
      },
      "execution_count": 3,
      "outputs": []
    },
    {
      "cell_type": "code",
      "source": [
        "df.head()"
      ],
      "metadata": {
        "colab": {
          "base_uri": "https://localhost:8080/",
          "height": 672
        },
        "id": "Navb8hSMyzrW",
        "outputId": "79ce0324-2bdb-4e34-e13a-26e65b2d9fe7"
      },
      "execution_count": 4,
      "outputs": [
        {
          "output_type": "execute_result",
          "data": {
            "text/plain": [
              "   Movie_ID      Movie_Title                       Movie_Genre Movie_Language  \\\n",
              "0         1       Four Rooms                      Crime Comedy             en   \n",
              "1         2        Star Wars  Adventure Action Science Fiction             en   \n",
              "2         3     Finding Nemo                  Animation Family             en   \n",
              "3         4     Forrest Gump              Comedy Drama Romance             en   \n",
              "4         5  American Beauty                             Drama             en   \n",
              "\n",
              "   Movie_Budget  Movie_Popularity Movie_Release_Date  Movie_Revenue  \\\n",
              "0       4000000         22.876230         09-12-1995        4300000   \n",
              "1      11000000        126.393695         25-05-1977      775398007   \n",
              "2      94000000         85.688789         30-05-2003      940335536   \n",
              "3      55000000        138.133331         06-07-1994      677945399   \n",
              "4      15000000         80.878605         15-09-1999      356296601   \n",
              "\n",
              "   Movie_Runtime  Movie_Vote  ...  \\\n",
              "0           98.0         6.5  ...   \n",
              "1          121.0         8.1  ...   \n",
              "2          100.0         7.6  ...   \n",
              "3          142.0         8.2  ...   \n",
              "4          122.0         7.9  ...   \n",
              "\n",
              "                                      Movie_Homepage  \\\n",
              "0                                                NaN   \n",
              "1  http://www.starwars.com/films/star-wars-episod...   \n",
              "2              http://movies.disney.com/finding-nemo   \n",
              "3                                                NaN   \n",
              "4                      http://www.dreamworks.com/ab/   \n",
              "\n",
              "                                      Movie_Keywords  \\\n",
              "0          hotel new year's eve witch bet hotel room   \n",
              "1        android galaxy hermit death star lightsaber   \n",
              "2  father son relationship harbor underwater fish...   \n",
              "3  vietnam veteran hippie mentally disabled runni...   \n",
              "4  male nudity female nudity adultery midlife cri...   \n",
              "\n",
              "                                      Movie_Overview  \\\n",
              "0  It's Ted the Bellhop's first night on the job....   \n",
              "1  Princess Leia is captured and held hostage by ...   \n",
              "2  Nemo, an adventurous young clownfish, is unexp...   \n",
              "3  A man with a low IQ has accomplished great thi...   \n",
              "4  Lester Burnham, a depressed suburban father in...   \n",
              "\n",
              "                              Movie_Production_House  \\\n",
              "0  [{\"name\": \"Miramax Films\", \"id\": 14}, {\"name\":...   \n",
              "1  [{\"name\": \"Lucasfilm\", \"id\": 1}, {\"name\": \"Twe...   \n",
              "2     [{\"name\": \"Pixar Animation Studios\", \"id\": 3}]   \n",
              "3          [{\"name\": \"Paramount Pictures\", \"id\": 4}]   \n",
              "4  [{\"name\": \"DreamWorks SKG\", \"id\": 27}, {\"name\"...   \n",
              "\n",
              "                            Movie_Production_Country  \\\n",
              "0  [{\"iso_3166_1\": \"US\", \"name\": \"United States o...   \n",
              "1  [{\"iso_3166_1\": \"US\", \"name\": \"United States o...   \n",
              "2  [{\"iso_3166_1\": \"US\", \"name\": \"United States o...   \n",
              "3  [{\"iso_3166_1\": \"US\", \"name\": \"United States o...   \n",
              "4  [{\"iso_3166_1\": \"US\", \"name\": \"United States o...   \n",
              "\n",
              "                      Movie_Spoken_Language  \\\n",
              "0  [{\"iso_639_1\": \"en\", \"name\": \"English\"}]   \n",
              "1  [{\"iso_639_1\": \"en\", \"name\": \"English\"}]   \n",
              "2  [{\"iso_639_1\": \"en\", \"name\": \"English\"}]   \n",
              "3  [{\"iso_639_1\": \"en\", \"name\": \"English\"}]   \n",
              "4  [{\"iso_639_1\": \"en\", \"name\": \"English\"}]   \n",
              "\n",
              "                                       Movie_Tagline  \\\n",
              "0  Twelve outrageous guests. Four scandalous requ...   \n",
              "1       A long time ago in a galaxy far, far away...   \n",
              "2  There are 3.7 trillion fish in the ocean, they...   \n",
              "3  The world will never be the same, once you've ...   \n",
              "4                                       Look closer.   \n",
              "\n",
              "                                          Movie_Cast  \\\n",
              "0  Tim Roth Antonio Banderas Jennifer Beals Madon...   \n",
              "1  Mark Hamill Harrison Ford Carrie Fisher Peter ...   \n",
              "2  Albert Brooks Ellen DeGeneres Alexander Gould ...   \n",
              "3  Tom Hanks Robin Wright Gary Sinise Mykelti Wil...   \n",
              "4  Kevin Spacey Annette Bening Thora Birch Wes Be...   \n",
              "\n",
              "                                          Movie_Crew   Movie_Director  \n",
              "0  [{'name': 'Allison Anders', 'gender': 1, 'depa...   Allison Anders  \n",
              "1  [{'name': 'George Lucas', 'gender': 2, 'depart...     George Lucas  \n",
              "2  [{'name': 'Andrew Stanton', 'gender': 2, 'depa...   Andrew Stanton  \n",
              "3  [{'name': 'Alan Silvestri', 'gender': 2, 'depa...  Robert Zemeckis  \n",
              "4  [{'name': 'Thomas Newman', 'gender': 2, 'depar...       Sam Mendes  \n",
              "\n",
              "[5 rows x 21 columns]"
            ],
            "text/html": [
              "\n",
              "  <div id=\"df-a93f4473-f125-4303-98f8-7bcffaf5aa23\" class=\"colab-df-container\">\n",
              "    <div>\n",
              "<style scoped>\n",
              "    .dataframe tbody tr th:only-of-type {\n",
              "        vertical-align: middle;\n",
              "    }\n",
              "\n",
              "    .dataframe tbody tr th {\n",
              "        vertical-align: top;\n",
              "    }\n",
              "\n",
              "    .dataframe thead th {\n",
              "        text-align: right;\n",
              "    }\n",
              "</style>\n",
              "<table border=\"1\" class=\"dataframe\">\n",
              "  <thead>\n",
              "    <tr style=\"text-align: right;\">\n",
              "      <th></th>\n",
              "      <th>Movie_ID</th>\n",
              "      <th>Movie_Title</th>\n",
              "      <th>Movie_Genre</th>\n",
              "      <th>Movie_Language</th>\n",
              "      <th>Movie_Budget</th>\n",
              "      <th>Movie_Popularity</th>\n",
              "      <th>Movie_Release_Date</th>\n",
              "      <th>Movie_Revenue</th>\n",
              "      <th>Movie_Runtime</th>\n",
              "      <th>Movie_Vote</th>\n",
              "      <th>...</th>\n",
              "      <th>Movie_Homepage</th>\n",
              "      <th>Movie_Keywords</th>\n",
              "      <th>Movie_Overview</th>\n",
              "      <th>Movie_Production_House</th>\n",
              "      <th>Movie_Production_Country</th>\n",
              "      <th>Movie_Spoken_Language</th>\n",
              "      <th>Movie_Tagline</th>\n",
              "      <th>Movie_Cast</th>\n",
              "      <th>Movie_Crew</th>\n",
              "      <th>Movie_Director</th>\n",
              "    </tr>\n",
              "  </thead>\n",
              "  <tbody>\n",
              "    <tr>\n",
              "      <th>0</th>\n",
              "      <td>1</td>\n",
              "      <td>Four Rooms</td>\n",
              "      <td>Crime Comedy</td>\n",
              "      <td>en</td>\n",
              "      <td>4000000</td>\n",
              "      <td>22.876230</td>\n",
              "      <td>09-12-1995</td>\n",
              "      <td>4300000</td>\n",
              "      <td>98.0</td>\n",
              "      <td>6.5</td>\n",
              "      <td>...</td>\n",
              "      <td>NaN</td>\n",
              "      <td>hotel new year's eve witch bet hotel room</td>\n",
              "      <td>It's Ted the Bellhop's first night on the job....</td>\n",
              "      <td>[{\"name\": \"Miramax Films\", \"id\": 14}, {\"name\":...</td>\n",
              "      <td>[{\"iso_3166_1\": \"US\", \"name\": \"United States o...</td>\n",
              "      <td>[{\"iso_639_1\": \"en\", \"name\": \"English\"}]</td>\n",
              "      <td>Twelve outrageous guests. Four scandalous requ...</td>\n",
              "      <td>Tim Roth Antonio Banderas Jennifer Beals Madon...</td>\n",
              "      <td>[{'name': 'Allison Anders', 'gender': 1, 'depa...</td>\n",
              "      <td>Allison Anders</td>\n",
              "    </tr>\n",
              "    <tr>\n",
              "      <th>1</th>\n",
              "      <td>2</td>\n",
              "      <td>Star Wars</td>\n",
              "      <td>Adventure Action Science Fiction</td>\n",
              "      <td>en</td>\n",
              "      <td>11000000</td>\n",
              "      <td>126.393695</td>\n",
              "      <td>25-05-1977</td>\n",
              "      <td>775398007</td>\n",
              "      <td>121.0</td>\n",
              "      <td>8.1</td>\n",
              "      <td>...</td>\n",
              "      <td>http://www.starwars.com/films/star-wars-episod...</td>\n",
              "      <td>android galaxy hermit death star lightsaber</td>\n",
              "      <td>Princess Leia is captured and held hostage by ...</td>\n",
              "      <td>[{\"name\": \"Lucasfilm\", \"id\": 1}, {\"name\": \"Twe...</td>\n",
              "      <td>[{\"iso_3166_1\": \"US\", \"name\": \"United States o...</td>\n",
              "      <td>[{\"iso_639_1\": \"en\", \"name\": \"English\"}]</td>\n",
              "      <td>A long time ago in a galaxy far, far away...</td>\n",
              "      <td>Mark Hamill Harrison Ford Carrie Fisher Peter ...</td>\n",
              "      <td>[{'name': 'George Lucas', 'gender': 2, 'depart...</td>\n",
              "      <td>George Lucas</td>\n",
              "    </tr>\n",
              "    <tr>\n",
              "      <th>2</th>\n",
              "      <td>3</td>\n",
              "      <td>Finding Nemo</td>\n",
              "      <td>Animation Family</td>\n",
              "      <td>en</td>\n",
              "      <td>94000000</td>\n",
              "      <td>85.688789</td>\n",
              "      <td>30-05-2003</td>\n",
              "      <td>940335536</td>\n",
              "      <td>100.0</td>\n",
              "      <td>7.6</td>\n",
              "      <td>...</td>\n",
              "      <td>http://movies.disney.com/finding-nemo</td>\n",
              "      <td>father son relationship harbor underwater fish...</td>\n",
              "      <td>Nemo, an adventurous young clownfish, is unexp...</td>\n",
              "      <td>[{\"name\": \"Pixar Animation Studios\", \"id\": 3}]</td>\n",
              "      <td>[{\"iso_3166_1\": \"US\", \"name\": \"United States o...</td>\n",
              "      <td>[{\"iso_639_1\": \"en\", \"name\": \"English\"}]</td>\n",
              "      <td>There are 3.7 trillion fish in the ocean, they...</td>\n",
              "      <td>Albert Brooks Ellen DeGeneres Alexander Gould ...</td>\n",
              "      <td>[{'name': 'Andrew Stanton', 'gender': 2, 'depa...</td>\n",
              "      <td>Andrew Stanton</td>\n",
              "    </tr>\n",
              "    <tr>\n",
              "      <th>3</th>\n",
              "      <td>4</td>\n",
              "      <td>Forrest Gump</td>\n",
              "      <td>Comedy Drama Romance</td>\n",
              "      <td>en</td>\n",
              "      <td>55000000</td>\n",
              "      <td>138.133331</td>\n",
              "      <td>06-07-1994</td>\n",
              "      <td>677945399</td>\n",
              "      <td>142.0</td>\n",
              "      <td>8.2</td>\n",
              "      <td>...</td>\n",
              "      <td>NaN</td>\n",
              "      <td>vietnam veteran hippie mentally disabled runni...</td>\n",
              "      <td>A man with a low IQ has accomplished great thi...</td>\n",
              "      <td>[{\"name\": \"Paramount Pictures\", \"id\": 4}]</td>\n",
              "      <td>[{\"iso_3166_1\": \"US\", \"name\": \"United States o...</td>\n",
              "      <td>[{\"iso_639_1\": \"en\", \"name\": \"English\"}]</td>\n",
              "      <td>The world will never be the same, once you've ...</td>\n",
              "      <td>Tom Hanks Robin Wright Gary Sinise Mykelti Wil...</td>\n",
              "      <td>[{'name': 'Alan Silvestri', 'gender': 2, 'depa...</td>\n",
              "      <td>Robert Zemeckis</td>\n",
              "    </tr>\n",
              "    <tr>\n",
              "      <th>4</th>\n",
              "      <td>5</td>\n",
              "      <td>American Beauty</td>\n",
              "      <td>Drama</td>\n",
              "      <td>en</td>\n",
              "      <td>15000000</td>\n",
              "      <td>80.878605</td>\n",
              "      <td>15-09-1999</td>\n",
              "      <td>356296601</td>\n",
              "      <td>122.0</td>\n",
              "      <td>7.9</td>\n",
              "      <td>...</td>\n",
              "      <td>http://www.dreamworks.com/ab/</td>\n",
              "      <td>male nudity female nudity adultery midlife cri...</td>\n",
              "      <td>Lester Burnham, a depressed suburban father in...</td>\n",
              "      <td>[{\"name\": \"DreamWorks SKG\", \"id\": 27}, {\"name\"...</td>\n",
              "      <td>[{\"iso_3166_1\": \"US\", \"name\": \"United States o...</td>\n",
              "      <td>[{\"iso_639_1\": \"en\", \"name\": \"English\"}]</td>\n",
              "      <td>Look closer.</td>\n",
              "      <td>Kevin Spacey Annette Bening Thora Birch Wes Be...</td>\n",
              "      <td>[{'name': 'Thomas Newman', 'gender': 2, 'depar...</td>\n",
              "      <td>Sam Mendes</td>\n",
              "    </tr>\n",
              "  </tbody>\n",
              "</table>\n",
              "<p>5 rows × 21 columns</p>\n",
              "</div>\n",
              "    <div class=\"colab-df-buttons\">\n",
              "\n",
              "  <div class=\"colab-df-container\">\n",
              "    <button class=\"colab-df-convert\" onclick=\"convertToInteractive('df-a93f4473-f125-4303-98f8-7bcffaf5aa23')\"\n",
              "            title=\"Convert this dataframe to an interactive table.\"\n",
              "            style=\"display:none;\">\n",
              "\n",
              "  <svg xmlns=\"http://www.w3.org/2000/svg\" height=\"24px\" viewBox=\"0 -960 960 960\">\n",
              "    <path d=\"M120-120v-720h720v720H120Zm60-500h600v-160H180v160Zm220 220h160v-160H400v160Zm0 220h160v-160H400v160ZM180-400h160v-160H180v160Zm440 0h160v-160H620v160ZM180-180h160v-160H180v160Zm440 0h160v-160H620v160Z\"/>\n",
              "  </svg>\n",
              "    </button>\n",
              "\n",
              "  <style>\n",
              "    .colab-df-container {\n",
              "      display:flex;\n",
              "      gap: 12px;\n",
              "    }\n",
              "\n",
              "    .colab-df-convert {\n",
              "      background-color: #E8F0FE;\n",
              "      border: none;\n",
              "      border-radius: 50%;\n",
              "      cursor: pointer;\n",
              "      display: none;\n",
              "      fill: #1967D2;\n",
              "      height: 32px;\n",
              "      padding: 0 0 0 0;\n",
              "      width: 32px;\n",
              "    }\n",
              "\n",
              "    .colab-df-convert:hover {\n",
              "      background-color: #E2EBFA;\n",
              "      box-shadow: 0px 1px 2px rgba(60, 64, 67, 0.3), 0px 1px 3px 1px rgba(60, 64, 67, 0.15);\n",
              "      fill: #174EA6;\n",
              "    }\n",
              "\n",
              "    .colab-df-buttons div {\n",
              "      margin-bottom: 4px;\n",
              "    }\n",
              "\n",
              "    [theme=dark] .colab-df-convert {\n",
              "      background-color: #3B4455;\n",
              "      fill: #D2E3FC;\n",
              "    }\n",
              "\n",
              "    [theme=dark] .colab-df-convert:hover {\n",
              "      background-color: #434B5C;\n",
              "      box-shadow: 0px 1px 3px 1px rgba(0, 0, 0, 0.15);\n",
              "      filter: drop-shadow(0px 1px 2px rgba(0, 0, 0, 0.3));\n",
              "      fill: #FFFFFF;\n",
              "    }\n",
              "  </style>\n",
              "\n",
              "    <script>\n",
              "      const buttonEl =\n",
              "        document.querySelector('#df-a93f4473-f125-4303-98f8-7bcffaf5aa23 button.colab-df-convert');\n",
              "      buttonEl.style.display =\n",
              "        google.colab.kernel.accessAllowed ? 'block' : 'none';\n",
              "\n",
              "      async function convertToInteractive(key) {\n",
              "        const element = document.querySelector('#df-a93f4473-f125-4303-98f8-7bcffaf5aa23');\n",
              "        const dataTable =\n",
              "          await google.colab.kernel.invokeFunction('convertToInteractive',\n",
              "                                                    [key], {});\n",
              "        if (!dataTable) return;\n",
              "\n",
              "        const docLinkHtml = 'Like what you see? Visit the ' +\n",
              "          '<a target=\"_blank\" href=https://colab.research.google.com/notebooks/data_table.ipynb>data table notebook</a>'\n",
              "          + ' to learn more about interactive tables.';\n",
              "        element.innerHTML = '';\n",
              "        dataTable['output_type'] = 'display_data';\n",
              "        await google.colab.output.renderOutput(dataTable, element);\n",
              "        const docLink = document.createElement('div');\n",
              "        docLink.innerHTML = docLinkHtml;\n",
              "        element.appendChild(docLink);\n",
              "      }\n",
              "    </script>\n",
              "  </div>\n",
              "\n",
              "\n",
              "<div id=\"df-caf63b7f-6453-40e7-87ea-8f9ae320531d\">\n",
              "  <button class=\"colab-df-quickchart\" onclick=\"quickchart('df-caf63b7f-6453-40e7-87ea-8f9ae320531d')\"\n",
              "            title=\"Suggest charts\"\n",
              "            style=\"display:none;\">\n",
              "\n",
              "<svg xmlns=\"http://www.w3.org/2000/svg\" height=\"24px\"viewBox=\"0 0 24 24\"\n",
              "     width=\"24px\">\n",
              "    <g>\n",
              "        <path d=\"M19 3H5c-1.1 0-2 .9-2 2v14c0 1.1.9 2 2 2h14c1.1 0 2-.9 2-2V5c0-1.1-.9-2-2-2zM9 17H7v-7h2v7zm4 0h-2V7h2v10zm4 0h-2v-4h2v4z\"/>\n",
              "    </g>\n",
              "</svg>\n",
              "  </button>\n",
              "\n",
              "<style>\n",
              "  .colab-df-quickchart {\n",
              "      --bg-color: #E8F0FE;\n",
              "      --fill-color: #1967D2;\n",
              "      --hover-bg-color: #E2EBFA;\n",
              "      --hover-fill-color: #174EA6;\n",
              "      --disabled-fill-color: #AAA;\n",
              "      --disabled-bg-color: #DDD;\n",
              "  }\n",
              "\n",
              "  [theme=dark] .colab-df-quickchart {\n",
              "      --bg-color: #3B4455;\n",
              "      --fill-color: #D2E3FC;\n",
              "      --hover-bg-color: #434B5C;\n",
              "      --hover-fill-color: #FFFFFF;\n",
              "      --disabled-bg-color: #3B4455;\n",
              "      --disabled-fill-color: #666;\n",
              "  }\n",
              "\n",
              "  .colab-df-quickchart {\n",
              "    background-color: var(--bg-color);\n",
              "    border: none;\n",
              "    border-radius: 50%;\n",
              "    cursor: pointer;\n",
              "    display: none;\n",
              "    fill: var(--fill-color);\n",
              "    height: 32px;\n",
              "    padding: 0;\n",
              "    width: 32px;\n",
              "  }\n",
              "\n",
              "  .colab-df-quickchart:hover {\n",
              "    background-color: var(--hover-bg-color);\n",
              "    box-shadow: 0 1px 2px rgba(60, 64, 67, 0.3), 0 1px 3px 1px rgba(60, 64, 67, 0.15);\n",
              "    fill: var(--button-hover-fill-color);\n",
              "  }\n",
              "\n",
              "  .colab-df-quickchart-complete:disabled,\n",
              "  .colab-df-quickchart-complete:disabled:hover {\n",
              "    background-color: var(--disabled-bg-color);\n",
              "    fill: var(--disabled-fill-color);\n",
              "    box-shadow: none;\n",
              "  }\n",
              "\n",
              "  .colab-df-spinner {\n",
              "    border: 2px solid var(--fill-color);\n",
              "    border-color: transparent;\n",
              "    border-bottom-color: var(--fill-color);\n",
              "    animation:\n",
              "      spin 1s steps(1) infinite;\n",
              "  }\n",
              "\n",
              "  @keyframes spin {\n",
              "    0% {\n",
              "      border-color: transparent;\n",
              "      border-bottom-color: var(--fill-color);\n",
              "      border-left-color: var(--fill-color);\n",
              "    }\n",
              "    20% {\n",
              "      border-color: transparent;\n",
              "      border-left-color: var(--fill-color);\n",
              "      border-top-color: var(--fill-color);\n",
              "    }\n",
              "    30% {\n",
              "      border-color: transparent;\n",
              "      border-left-color: var(--fill-color);\n",
              "      border-top-color: var(--fill-color);\n",
              "      border-right-color: var(--fill-color);\n",
              "    }\n",
              "    40% {\n",
              "      border-color: transparent;\n",
              "      border-right-color: var(--fill-color);\n",
              "      border-top-color: var(--fill-color);\n",
              "    }\n",
              "    60% {\n",
              "      border-color: transparent;\n",
              "      border-right-color: var(--fill-color);\n",
              "    }\n",
              "    80% {\n",
              "      border-color: transparent;\n",
              "      border-right-color: var(--fill-color);\n",
              "      border-bottom-color: var(--fill-color);\n",
              "    }\n",
              "    90% {\n",
              "      border-color: transparent;\n",
              "      border-bottom-color: var(--fill-color);\n",
              "    }\n",
              "  }\n",
              "</style>\n",
              "\n",
              "  <script>\n",
              "    async function quickchart(key) {\n",
              "      const quickchartButtonEl =\n",
              "        document.querySelector('#' + key + ' button');\n",
              "      quickchartButtonEl.disabled = true;  // To prevent multiple clicks.\n",
              "      quickchartButtonEl.classList.add('colab-df-spinner');\n",
              "      try {\n",
              "        const charts = await google.colab.kernel.invokeFunction(\n",
              "            'suggestCharts', [key], {});\n",
              "      } catch (error) {\n",
              "        console.error('Error during call to suggestCharts:', error);\n",
              "      }\n",
              "      quickchartButtonEl.classList.remove('colab-df-spinner');\n",
              "      quickchartButtonEl.classList.add('colab-df-quickchart-complete');\n",
              "    }\n",
              "    (() => {\n",
              "      let quickchartButtonEl =\n",
              "        document.querySelector('#df-caf63b7f-6453-40e7-87ea-8f9ae320531d button');\n",
              "      quickchartButtonEl.style.display =\n",
              "        google.colab.kernel.accessAllowed ? 'block' : 'none';\n",
              "    })();\n",
              "  </script>\n",
              "</div>\n",
              "\n",
              "    </div>\n",
              "  </div>\n"
            ],
            "application/vnd.google.colaboratory.intrinsic+json": {
              "type": "dataframe",
              "variable_name": "df"
            }
          },
          "metadata": {},
          "execution_count": 4
        }
      ]
    },
    {
      "cell_type": "code",
      "source": [
        "df.info()"
      ],
      "metadata": {
        "colab": {
          "base_uri": "https://localhost:8080/"
        },
        "id": "-5eYp1XPy5Gf",
        "outputId": "73045059-7c15-46a8-fb0d-9a92cb0b6777"
      },
      "execution_count": 5,
      "outputs": [
        {
          "output_type": "stream",
          "name": "stdout",
          "text": [
            "<class 'pandas.core.frame.DataFrame'>\n",
            "RangeIndex: 4760 entries, 0 to 4759\n",
            "Data columns (total 21 columns):\n",
            " #   Column                    Non-Null Count  Dtype  \n",
            "---  ------                    --------------  -----  \n",
            " 0   Movie_ID                  4760 non-null   int64  \n",
            " 1   Movie_Title               4760 non-null   object \n",
            " 2   Movie_Genre               4760 non-null   object \n",
            " 3   Movie_Language            4760 non-null   object \n",
            " 4   Movie_Budget              4760 non-null   int64  \n",
            " 5   Movie_Popularity          4760 non-null   float64\n",
            " 6   Movie_Release_Date        4760 non-null   object \n",
            " 7   Movie_Revenue             4760 non-null   int64  \n",
            " 8   Movie_Runtime             4758 non-null   float64\n",
            " 9   Movie_Vote                4760 non-null   float64\n",
            " 10  Movie_Vote_Count          4760 non-null   int64  \n",
            " 11  Movie_Homepage            1699 non-null   object \n",
            " 12  Movie_Keywords            4373 non-null   object \n",
            " 13  Movie_Overview            4757 non-null   object \n",
            " 14  Movie_Production_House    4760 non-null   object \n",
            " 15  Movie_Production_Country  4760 non-null   object \n",
            " 16  Movie_Spoken_Language     4760 non-null   object \n",
            " 17  Movie_Tagline             3942 non-null   object \n",
            " 18  Movie_Cast                4733 non-null   object \n",
            " 19  Movie_Crew                4760 non-null   object \n",
            " 20  Movie_Director            4738 non-null   object \n",
            "dtypes: float64(3), int64(4), object(14)\n",
            "memory usage: 781.1+ KB\n"
          ]
        }
      ]
    },
    {
      "cell_type": "code",
      "source": [
        "df.shape"
      ],
      "metadata": {
        "colab": {
          "base_uri": "https://localhost:8080/"
        },
        "id": "Oyv_ONYey5DH",
        "outputId": "c1a63eb3-8d1d-46df-c402-0df0265e8934"
      },
      "execution_count": 7,
      "outputs": [
        {
          "output_type": "execute_result",
          "data": {
            "text/plain": [
              "(4760, 21)"
            ]
          },
          "metadata": {},
          "execution_count": 7
        }
      ]
    },
    {
      "cell_type": "code",
      "source": [
        "df.columns"
      ],
      "metadata": {
        "colab": {
          "base_uri": "https://localhost:8080/"
        },
        "id": "egUOdw57y5Az",
        "outputId": "06f3e250-d097-4304-8812-cfe882710392"
      },
      "execution_count": 8,
      "outputs": [
        {
          "output_type": "execute_result",
          "data": {
            "text/plain": [
              "Index(['Movie_ID', 'Movie_Title', 'Movie_Genre', 'Movie_Language',\n",
              "       'Movie_Budget', 'Movie_Popularity', 'Movie_Release_Date',\n",
              "       'Movie_Revenue', 'Movie_Runtime', 'Movie_Vote', 'Movie_Vote_Count',\n",
              "       'Movie_Homepage', 'Movie_Keywords', 'Movie_Overview',\n",
              "       'Movie_Production_House', 'Movie_Production_Country',\n",
              "       'Movie_Spoken_Language', 'Movie_Tagline', 'Movie_Cast', 'Movie_Crew',\n",
              "       'Movie_Director'],\n",
              "      dtype='object')"
            ]
          },
          "metadata": {},
          "execution_count": 8
        }
      ]
    },
    {
      "cell_type": "markdown",
      "source": [
        "**Get Feature Selection**"
      ],
      "metadata": {
        "id": "iU0YiLs8zwyb"
      }
    },
    {
      "cell_type": "code",
      "source": [
        "df_features=df[['Movie_Genre','Movie_Keywords','Movie_Tagline','Movie_Cast','Movie_Director']].fillna('')"
      ],
      "metadata": {
        "id": "wUKglu9jy4-R"
      },
      "execution_count": 9,
      "outputs": []
    },
    {
      "cell_type": "code",
      "source": [
        "df_features.shape"
      ],
      "metadata": {
        "colab": {
          "base_uri": "https://localhost:8080/"
        },
        "id": "1BtxOFM3y48G",
        "outputId": "df9315e9-875c-4e03-b19f-2920c0999a91"
      },
      "execution_count": 10,
      "outputs": [
        {
          "output_type": "execute_result",
          "data": {
            "text/plain": [
              "(4760, 5)"
            ]
          },
          "metadata": {},
          "execution_count": 10
        }
      ]
    },
    {
      "cell_type": "code",
      "source": [
        "df_features"
      ],
      "metadata": {
        "colab": {
          "base_uri": "https://localhost:8080/",
          "height": 579
        },
        "id": "olai1cVY0Fm3",
        "outputId": "f4f3aa2e-1759-4a4e-864e-dfaad8181c41"
      },
      "execution_count": 11,
      "outputs": [
        {
          "output_type": "execute_result",
          "data": {
            "text/plain": [
              "                           Movie_Genre  \\\n",
              "0                         Crime Comedy   \n",
              "1     Adventure Action Science Fiction   \n",
              "2                     Animation Family   \n",
              "3                 Comedy Drama Romance   \n",
              "4                                Drama   \n",
              "...                                ...   \n",
              "4755                            Horror   \n",
              "4756               Comedy Family Drama   \n",
              "4757                    Thriller Drama   \n",
              "4758                            Family   \n",
              "4759                       Documentary   \n",
              "\n",
              "                                         Movie_Keywords  \\\n",
              "0             hotel new year's eve witch bet hotel room   \n",
              "1           android galaxy hermit death star lightsaber   \n",
              "2     father son relationship harbor underwater fish...   \n",
              "3     vietnam veteran hippie mentally disabled runni...   \n",
              "4     male nudity female nudity adultery midlife cri...   \n",
              "...                                                 ...   \n",
              "4755                                                      \n",
              "4756                                                      \n",
              "4757                     christian film sex trafficking   \n",
              "4758                                                      \n",
              "4759  music actors legendary perfomer classic hollyw...   \n",
              "\n",
              "                                          Movie_Tagline  \\\n",
              "0     Twelve outrageous guests. Four scandalous requ...   \n",
              "1          A long time ago in a galaxy far, far away...   \n",
              "2     There are 3.7 trillion fish in the ocean, they...   \n",
              "3     The world will never be the same, once you've ...   \n",
              "4                                          Look closer.   \n",
              "...                                                 ...   \n",
              "4755                The hot spot where Satan's waitin'.   \n",
              "4756           It’s better to stand out than to fit in.   \n",
              "4757           She never knew it could happen to her...   \n",
              "4758                                                      \n",
              "4759                                                      \n",
              "\n",
              "                                             Movie_Cast     Movie_Director  \n",
              "0     Tim Roth Antonio Banderas Jennifer Beals Madon...     Allison Anders  \n",
              "1     Mark Hamill Harrison Ford Carrie Fisher Peter ...       George Lucas  \n",
              "2     Albert Brooks Ellen DeGeneres Alexander Gould ...     Andrew Stanton  \n",
              "3     Tom Hanks Robin Wright Gary Sinise Mykelti Wil...    Robert Zemeckis  \n",
              "4     Kevin Spacey Annette Bening Thora Birch Wes Be...         Sam Mendes  \n",
              "...                                                 ...                ...  \n",
              "4755  Lisa Hart Carroll Michael Des Barres Paul Drak...         Pece Dingo  \n",
              "4756  Roni Akurati Brighton Sharbino Jason Lee Anjul...       Frank Lotito  \n",
              "4757  Nicole Smolen Kim Baldwin Ariana Stephens Brys...       Jaco Booyens  \n",
              "4758                                                                        \n",
              "4759                                    Tony Oppedisano  Simon Napier-Bell  \n",
              "\n",
              "[4760 rows x 5 columns]"
            ],
            "text/html": [
              "\n",
              "  <div id=\"df-3993ae69-50e5-46f7-ae60-5bb5b8799e25\" class=\"colab-df-container\">\n",
              "    <div>\n",
              "<style scoped>\n",
              "    .dataframe tbody tr th:only-of-type {\n",
              "        vertical-align: middle;\n",
              "    }\n",
              "\n",
              "    .dataframe tbody tr th {\n",
              "        vertical-align: top;\n",
              "    }\n",
              "\n",
              "    .dataframe thead th {\n",
              "        text-align: right;\n",
              "    }\n",
              "</style>\n",
              "<table border=\"1\" class=\"dataframe\">\n",
              "  <thead>\n",
              "    <tr style=\"text-align: right;\">\n",
              "      <th></th>\n",
              "      <th>Movie_Genre</th>\n",
              "      <th>Movie_Keywords</th>\n",
              "      <th>Movie_Tagline</th>\n",
              "      <th>Movie_Cast</th>\n",
              "      <th>Movie_Director</th>\n",
              "    </tr>\n",
              "  </thead>\n",
              "  <tbody>\n",
              "    <tr>\n",
              "      <th>0</th>\n",
              "      <td>Crime Comedy</td>\n",
              "      <td>hotel new year's eve witch bet hotel room</td>\n",
              "      <td>Twelve outrageous guests. Four scandalous requ...</td>\n",
              "      <td>Tim Roth Antonio Banderas Jennifer Beals Madon...</td>\n",
              "      <td>Allison Anders</td>\n",
              "    </tr>\n",
              "    <tr>\n",
              "      <th>1</th>\n",
              "      <td>Adventure Action Science Fiction</td>\n",
              "      <td>android galaxy hermit death star lightsaber</td>\n",
              "      <td>A long time ago in a galaxy far, far away...</td>\n",
              "      <td>Mark Hamill Harrison Ford Carrie Fisher Peter ...</td>\n",
              "      <td>George Lucas</td>\n",
              "    </tr>\n",
              "    <tr>\n",
              "      <th>2</th>\n",
              "      <td>Animation Family</td>\n",
              "      <td>father son relationship harbor underwater fish...</td>\n",
              "      <td>There are 3.7 trillion fish in the ocean, they...</td>\n",
              "      <td>Albert Brooks Ellen DeGeneres Alexander Gould ...</td>\n",
              "      <td>Andrew Stanton</td>\n",
              "    </tr>\n",
              "    <tr>\n",
              "      <th>3</th>\n",
              "      <td>Comedy Drama Romance</td>\n",
              "      <td>vietnam veteran hippie mentally disabled runni...</td>\n",
              "      <td>The world will never be the same, once you've ...</td>\n",
              "      <td>Tom Hanks Robin Wright Gary Sinise Mykelti Wil...</td>\n",
              "      <td>Robert Zemeckis</td>\n",
              "    </tr>\n",
              "    <tr>\n",
              "      <th>4</th>\n",
              "      <td>Drama</td>\n",
              "      <td>male nudity female nudity adultery midlife cri...</td>\n",
              "      <td>Look closer.</td>\n",
              "      <td>Kevin Spacey Annette Bening Thora Birch Wes Be...</td>\n",
              "      <td>Sam Mendes</td>\n",
              "    </tr>\n",
              "    <tr>\n",
              "      <th>...</th>\n",
              "      <td>...</td>\n",
              "      <td>...</td>\n",
              "      <td>...</td>\n",
              "      <td>...</td>\n",
              "      <td>...</td>\n",
              "    </tr>\n",
              "    <tr>\n",
              "      <th>4755</th>\n",
              "      <td>Horror</td>\n",
              "      <td></td>\n",
              "      <td>The hot spot where Satan's waitin'.</td>\n",
              "      <td>Lisa Hart Carroll Michael Des Barres Paul Drak...</td>\n",
              "      <td>Pece Dingo</td>\n",
              "    </tr>\n",
              "    <tr>\n",
              "      <th>4756</th>\n",
              "      <td>Comedy Family Drama</td>\n",
              "      <td></td>\n",
              "      <td>It’s better to stand out than to fit in.</td>\n",
              "      <td>Roni Akurati Brighton Sharbino Jason Lee Anjul...</td>\n",
              "      <td>Frank Lotito</td>\n",
              "    </tr>\n",
              "    <tr>\n",
              "      <th>4757</th>\n",
              "      <td>Thriller Drama</td>\n",
              "      <td>christian film sex trafficking</td>\n",
              "      <td>She never knew it could happen to her...</td>\n",
              "      <td>Nicole Smolen Kim Baldwin Ariana Stephens Brys...</td>\n",
              "      <td>Jaco Booyens</td>\n",
              "    </tr>\n",
              "    <tr>\n",
              "      <th>4758</th>\n",
              "      <td>Family</td>\n",
              "      <td></td>\n",
              "      <td></td>\n",
              "      <td></td>\n",
              "      <td></td>\n",
              "    </tr>\n",
              "    <tr>\n",
              "      <th>4759</th>\n",
              "      <td>Documentary</td>\n",
              "      <td>music actors legendary perfomer classic hollyw...</td>\n",
              "      <td></td>\n",
              "      <td>Tony Oppedisano</td>\n",
              "      <td>Simon Napier-Bell</td>\n",
              "    </tr>\n",
              "  </tbody>\n",
              "</table>\n",
              "<p>4760 rows × 5 columns</p>\n",
              "</div>\n",
              "    <div class=\"colab-df-buttons\">\n",
              "\n",
              "  <div class=\"colab-df-container\">\n",
              "    <button class=\"colab-df-convert\" onclick=\"convertToInteractive('df-3993ae69-50e5-46f7-ae60-5bb5b8799e25')\"\n",
              "            title=\"Convert this dataframe to an interactive table.\"\n",
              "            style=\"display:none;\">\n",
              "\n",
              "  <svg xmlns=\"http://www.w3.org/2000/svg\" height=\"24px\" viewBox=\"0 -960 960 960\">\n",
              "    <path d=\"M120-120v-720h720v720H120Zm60-500h600v-160H180v160Zm220 220h160v-160H400v160Zm0 220h160v-160H400v160ZM180-400h160v-160H180v160Zm440 0h160v-160H620v160ZM180-180h160v-160H180v160Zm440 0h160v-160H620v160Z\"/>\n",
              "  </svg>\n",
              "    </button>\n",
              "\n",
              "  <style>\n",
              "    .colab-df-container {\n",
              "      display:flex;\n",
              "      gap: 12px;\n",
              "    }\n",
              "\n",
              "    .colab-df-convert {\n",
              "      background-color: #E8F0FE;\n",
              "      border: none;\n",
              "      border-radius: 50%;\n",
              "      cursor: pointer;\n",
              "      display: none;\n",
              "      fill: #1967D2;\n",
              "      height: 32px;\n",
              "      padding: 0 0 0 0;\n",
              "      width: 32px;\n",
              "    }\n",
              "\n",
              "    .colab-df-convert:hover {\n",
              "      background-color: #E2EBFA;\n",
              "      box-shadow: 0px 1px 2px rgba(60, 64, 67, 0.3), 0px 1px 3px 1px rgba(60, 64, 67, 0.15);\n",
              "      fill: #174EA6;\n",
              "    }\n",
              "\n",
              "    .colab-df-buttons div {\n",
              "      margin-bottom: 4px;\n",
              "    }\n",
              "\n",
              "    [theme=dark] .colab-df-convert {\n",
              "      background-color: #3B4455;\n",
              "      fill: #D2E3FC;\n",
              "    }\n",
              "\n",
              "    [theme=dark] .colab-df-convert:hover {\n",
              "      background-color: #434B5C;\n",
              "      box-shadow: 0px 1px 3px 1px rgba(0, 0, 0, 0.15);\n",
              "      filter: drop-shadow(0px 1px 2px rgba(0, 0, 0, 0.3));\n",
              "      fill: #FFFFFF;\n",
              "    }\n",
              "  </style>\n",
              "\n",
              "    <script>\n",
              "      const buttonEl =\n",
              "        document.querySelector('#df-3993ae69-50e5-46f7-ae60-5bb5b8799e25 button.colab-df-convert');\n",
              "      buttonEl.style.display =\n",
              "        google.colab.kernel.accessAllowed ? 'block' : 'none';\n",
              "\n",
              "      async function convertToInteractive(key) {\n",
              "        const element = document.querySelector('#df-3993ae69-50e5-46f7-ae60-5bb5b8799e25');\n",
              "        const dataTable =\n",
              "          await google.colab.kernel.invokeFunction('convertToInteractive',\n",
              "                                                    [key], {});\n",
              "        if (!dataTable) return;\n",
              "\n",
              "        const docLinkHtml = 'Like what you see? Visit the ' +\n",
              "          '<a target=\"_blank\" href=https://colab.research.google.com/notebooks/data_table.ipynb>data table notebook</a>'\n",
              "          + ' to learn more about interactive tables.';\n",
              "        element.innerHTML = '';\n",
              "        dataTable['output_type'] = 'display_data';\n",
              "        await google.colab.output.renderOutput(dataTable, element);\n",
              "        const docLink = document.createElement('div');\n",
              "        docLink.innerHTML = docLinkHtml;\n",
              "        element.appendChild(docLink);\n",
              "      }\n",
              "    </script>\n",
              "  </div>\n",
              "\n",
              "\n",
              "<div id=\"df-85a1ed8a-d901-4b68-9fa9-d2c3c4e9a4e7\">\n",
              "  <button class=\"colab-df-quickchart\" onclick=\"quickchart('df-85a1ed8a-d901-4b68-9fa9-d2c3c4e9a4e7')\"\n",
              "            title=\"Suggest charts\"\n",
              "            style=\"display:none;\">\n",
              "\n",
              "<svg xmlns=\"http://www.w3.org/2000/svg\" height=\"24px\"viewBox=\"0 0 24 24\"\n",
              "     width=\"24px\">\n",
              "    <g>\n",
              "        <path d=\"M19 3H5c-1.1 0-2 .9-2 2v14c0 1.1.9 2 2 2h14c1.1 0 2-.9 2-2V5c0-1.1-.9-2-2-2zM9 17H7v-7h2v7zm4 0h-2V7h2v10zm4 0h-2v-4h2v4z\"/>\n",
              "    </g>\n",
              "</svg>\n",
              "  </button>\n",
              "\n",
              "<style>\n",
              "  .colab-df-quickchart {\n",
              "      --bg-color: #E8F0FE;\n",
              "      --fill-color: #1967D2;\n",
              "      --hover-bg-color: #E2EBFA;\n",
              "      --hover-fill-color: #174EA6;\n",
              "      --disabled-fill-color: #AAA;\n",
              "      --disabled-bg-color: #DDD;\n",
              "  }\n",
              "\n",
              "  [theme=dark] .colab-df-quickchart {\n",
              "      --bg-color: #3B4455;\n",
              "      --fill-color: #D2E3FC;\n",
              "      --hover-bg-color: #434B5C;\n",
              "      --hover-fill-color: #FFFFFF;\n",
              "      --disabled-bg-color: #3B4455;\n",
              "      --disabled-fill-color: #666;\n",
              "  }\n",
              "\n",
              "  .colab-df-quickchart {\n",
              "    background-color: var(--bg-color);\n",
              "    border: none;\n",
              "    border-radius: 50%;\n",
              "    cursor: pointer;\n",
              "    display: none;\n",
              "    fill: var(--fill-color);\n",
              "    height: 32px;\n",
              "    padding: 0;\n",
              "    width: 32px;\n",
              "  }\n",
              "\n",
              "  .colab-df-quickchart:hover {\n",
              "    background-color: var(--hover-bg-color);\n",
              "    box-shadow: 0 1px 2px rgba(60, 64, 67, 0.3), 0 1px 3px 1px rgba(60, 64, 67, 0.15);\n",
              "    fill: var(--button-hover-fill-color);\n",
              "  }\n",
              "\n",
              "  .colab-df-quickchart-complete:disabled,\n",
              "  .colab-df-quickchart-complete:disabled:hover {\n",
              "    background-color: var(--disabled-bg-color);\n",
              "    fill: var(--disabled-fill-color);\n",
              "    box-shadow: none;\n",
              "  }\n",
              "\n",
              "  .colab-df-spinner {\n",
              "    border: 2px solid var(--fill-color);\n",
              "    border-color: transparent;\n",
              "    border-bottom-color: var(--fill-color);\n",
              "    animation:\n",
              "      spin 1s steps(1) infinite;\n",
              "  }\n",
              "\n",
              "  @keyframes spin {\n",
              "    0% {\n",
              "      border-color: transparent;\n",
              "      border-bottom-color: var(--fill-color);\n",
              "      border-left-color: var(--fill-color);\n",
              "    }\n",
              "    20% {\n",
              "      border-color: transparent;\n",
              "      border-left-color: var(--fill-color);\n",
              "      border-top-color: var(--fill-color);\n",
              "    }\n",
              "    30% {\n",
              "      border-color: transparent;\n",
              "      border-left-color: var(--fill-color);\n",
              "      border-top-color: var(--fill-color);\n",
              "      border-right-color: var(--fill-color);\n",
              "    }\n",
              "    40% {\n",
              "      border-color: transparent;\n",
              "      border-right-color: var(--fill-color);\n",
              "      border-top-color: var(--fill-color);\n",
              "    }\n",
              "    60% {\n",
              "      border-color: transparent;\n",
              "      border-right-color: var(--fill-color);\n",
              "    }\n",
              "    80% {\n",
              "      border-color: transparent;\n",
              "      border-right-color: var(--fill-color);\n",
              "      border-bottom-color: var(--fill-color);\n",
              "    }\n",
              "    90% {\n",
              "      border-color: transparent;\n",
              "      border-bottom-color: var(--fill-color);\n",
              "    }\n",
              "  }\n",
              "</style>\n",
              "\n",
              "  <script>\n",
              "    async function quickchart(key) {\n",
              "      const quickchartButtonEl =\n",
              "        document.querySelector('#' + key + ' button');\n",
              "      quickchartButtonEl.disabled = true;  // To prevent multiple clicks.\n",
              "      quickchartButtonEl.classList.add('colab-df-spinner');\n",
              "      try {\n",
              "        const charts = await google.colab.kernel.invokeFunction(\n",
              "            'suggestCharts', [key], {});\n",
              "      } catch (error) {\n",
              "        console.error('Error during call to suggestCharts:', error);\n",
              "      }\n",
              "      quickchartButtonEl.classList.remove('colab-df-spinner');\n",
              "      quickchartButtonEl.classList.add('colab-df-quickchart-complete');\n",
              "    }\n",
              "    (() => {\n",
              "      let quickchartButtonEl =\n",
              "        document.querySelector('#df-85a1ed8a-d901-4b68-9fa9-d2c3c4e9a4e7 button');\n",
              "      quickchartButtonEl.style.display =\n",
              "        google.colab.kernel.accessAllowed ? 'block' : 'none';\n",
              "    })();\n",
              "  </script>\n",
              "</div>\n",
              "\n",
              "  <div id=\"id_bc893a97-942f-4343-9bf8-51a0b712f23d\">\n",
              "    <style>\n",
              "      .colab-df-generate {\n",
              "        background-color: #E8F0FE;\n",
              "        border: none;\n",
              "        border-radius: 50%;\n",
              "        cursor: pointer;\n",
              "        display: none;\n",
              "        fill: #1967D2;\n",
              "        height: 32px;\n",
              "        padding: 0 0 0 0;\n",
              "        width: 32px;\n",
              "      }\n",
              "\n",
              "      .colab-df-generate:hover {\n",
              "        background-color: #E2EBFA;\n",
              "        box-shadow: 0px 1px 2px rgba(60, 64, 67, 0.3), 0px 1px 3px 1px rgba(60, 64, 67, 0.15);\n",
              "        fill: #174EA6;\n",
              "      }\n",
              "\n",
              "      [theme=dark] .colab-df-generate {\n",
              "        background-color: #3B4455;\n",
              "        fill: #D2E3FC;\n",
              "      }\n",
              "\n",
              "      [theme=dark] .colab-df-generate:hover {\n",
              "        background-color: #434B5C;\n",
              "        box-shadow: 0px 1px 3px 1px rgba(0, 0, 0, 0.15);\n",
              "        filter: drop-shadow(0px 1px 2px rgba(0, 0, 0, 0.3));\n",
              "        fill: #FFFFFF;\n",
              "      }\n",
              "    </style>\n",
              "    <button class=\"colab-df-generate\" onclick=\"generateWithVariable('df_features')\"\n",
              "            title=\"Generate code using this dataframe.\"\n",
              "            style=\"display:none;\">\n",
              "\n",
              "  <svg xmlns=\"http://www.w3.org/2000/svg\" height=\"24px\"viewBox=\"0 0 24 24\"\n",
              "       width=\"24px\">\n",
              "    <path d=\"M7,19H8.4L18.45,9,17,7.55,7,17.6ZM5,21V16.75L18.45,3.32a2,2,0,0,1,2.83,0l1.4,1.43a1.91,1.91,0,0,1,.58,1.4,1.91,1.91,0,0,1-.58,1.4L9.25,21ZM18.45,9,17,7.55Zm-12,3A5.31,5.31,0,0,0,4.9,8.1,5.31,5.31,0,0,0,1,6.5,5.31,5.31,0,0,0,4.9,4.9,5.31,5.31,0,0,0,6.5,1,5.31,5.31,0,0,0,8.1,4.9,5.31,5.31,0,0,0,12,6.5,5.46,5.46,0,0,0,6.5,12Z\"/>\n",
              "  </svg>\n",
              "    </button>\n",
              "    <script>\n",
              "      (() => {\n",
              "      const buttonEl =\n",
              "        document.querySelector('#id_bc893a97-942f-4343-9bf8-51a0b712f23d button.colab-df-generate');\n",
              "      buttonEl.style.display =\n",
              "        google.colab.kernel.accessAllowed ? 'block' : 'none';\n",
              "\n",
              "      buttonEl.onclick = () => {\n",
              "        google.colab.notebook.generateWithVariable('df_features');\n",
              "      }\n",
              "      })();\n",
              "    </script>\n",
              "  </div>\n",
              "\n",
              "    </div>\n",
              "  </div>\n"
            ],
            "application/vnd.google.colaboratory.intrinsic+json": {
              "type": "dataframe",
              "variable_name": "df_features",
              "summary": "{\n  \"name\": \"df_features\",\n  \"rows\": 4760,\n  \"fields\": [\n    {\n      \"column\": \"Movie_Genre\",\n      \"properties\": {\n        \"dtype\": \"category\",\n        \"num_unique_values\": 1164,\n        \"samples\": [\n          \"Family Animation Adventure\",\n          \"Adventure Science Fiction Action\",\n          \"Action Crime Drama Romance Thriller\"\n        ],\n        \"semantic_type\": \"\",\n        \"description\": \"\"\n      }\n    },\n    {\n      \"column\": \"Movie_Keywords\",\n      \"properties\": {\n        \"dtype\": \"string\",\n        \"num_unique_values\": 4203,\n        \"samples\": [\n          \"canada nazis sequel spin off ancient evil\",\n          \"sex professor wedding woman director columbia university\",\n          \"prophecy sea beach gold small town\"\n        ],\n        \"semantic_type\": \"\",\n        \"description\": \"\"\n      }\n    },\n    {\n      \"column\": \"Movie_Tagline\",\n      \"properties\": {\n        \"dtype\": \"string\",\n        \"num_unique_values\": 3928,\n        \"samples\": [\n          \"The messenger must be silenced.\",\n          \"It's not the house that's haunted.\",\n          \"The final hunt begins.\"\n        ],\n        \"semantic_type\": \"\",\n        \"description\": \"\"\n      }\n    },\n    {\n      \"column\": \"Movie_Cast\",\n      \"properties\": {\n        \"dtype\": \"string\",\n        \"num_unique_values\": 4715,\n        \"samples\": [\n          \"Robin Tunney Fairuza Balk Neve Campbell Rachel True Skeet Ulrich\",\n          \"Peter Sellers Christopher Plummer Herbert Lom Catherine Schell Peter Arne\",\n          \"John Wayne Laraine Day Cedric Hardwicke Judith Anderson Anthony Quinn\"\n        ],\n        \"semantic_type\": \"\",\n        \"description\": \"\"\n      }\n    },\n    {\n      \"column\": \"Movie_Director\",\n      \"properties\": {\n        \"dtype\": \"category\",\n        \"num_unique_values\": 2332,\n        \"samples\": [\n          \"Rob McKittrick\",\n          \"Terron R. Parsons\",\n          \"Cyrus Nowrasteh\"\n        ],\n        \"semantic_type\": \"\",\n        \"description\": \"\"\n      }\n    }\n  ]\n}"
            }
          },
          "metadata": {},
          "execution_count": 11
        }
      ]
    },
    {
      "cell_type": "code",
      "source": [
        "x=df_features['Movie_Genre']+' '+df_features['Movie_Keywords']+' '+df_features['Movie_Tagline']+' '+df_features['Movie_Cast']+' '+df_features['Movie_Director']"
      ],
      "metadata": {
        "id": "3JkpcwAU0IjU"
      },
      "execution_count": 12,
      "outputs": []
    },
    {
      "cell_type": "code",
      "source": [
        "x"
      ],
      "metadata": {
        "colab": {
          "base_uri": "https://localhost:8080/",
          "height": 458
        },
        "id": "pOIklSw_0IhN",
        "outputId": "09c9d20b-de50-4013-d6ad-d995ce6edc07"
      },
      "execution_count": 13,
      "outputs": [
        {
          "output_type": "execute_result",
          "data": {
            "text/plain": [
              "0       Crime Comedy hotel new year's eve witch bet ho...\n",
              "1       Adventure Action Science Fiction android galax...\n",
              "2       Animation Family father son relationship harbo...\n",
              "3       Comedy Drama Romance vietnam veteran hippie me...\n",
              "4       Drama male nudity female nudity adultery midli...\n",
              "                              ...                        \n",
              "4755    Horror  The hot spot where Satan's waitin'. Li...\n",
              "4756    Comedy Family Drama  It’s better to stand out ...\n",
              "4757    Thriller Drama christian film sex trafficking ...\n",
              "4758                                           Family    \n",
              "4759    Documentary music actors legendary perfomer cl...\n",
              "Length: 4760, dtype: object"
            ],
            "text/html": [
              "<div>\n",
              "<style scoped>\n",
              "    .dataframe tbody tr th:only-of-type {\n",
              "        vertical-align: middle;\n",
              "    }\n",
              "\n",
              "    .dataframe tbody tr th {\n",
              "        vertical-align: top;\n",
              "    }\n",
              "\n",
              "    .dataframe thead th {\n",
              "        text-align: right;\n",
              "    }\n",
              "</style>\n",
              "<table border=\"1\" class=\"dataframe\">\n",
              "  <thead>\n",
              "    <tr style=\"text-align: right;\">\n",
              "      <th></th>\n",
              "      <th>0</th>\n",
              "    </tr>\n",
              "  </thead>\n",
              "  <tbody>\n",
              "    <tr>\n",
              "      <th>0</th>\n",
              "      <td>Crime Comedy hotel new year's eve witch bet ho...</td>\n",
              "    </tr>\n",
              "    <tr>\n",
              "      <th>1</th>\n",
              "      <td>Adventure Action Science Fiction android galax...</td>\n",
              "    </tr>\n",
              "    <tr>\n",
              "      <th>2</th>\n",
              "      <td>Animation Family father son relationship harbo...</td>\n",
              "    </tr>\n",
              "    <tr>\n",
              "      <th>3</th>\n",
              "      <td>Comedy Drama Romance vietnam veteran hippie me...</td>\n",
              "    </tr>\n",
              "    <tr>\n",
              "      <th>4</th>\n",
              "      <td>Drama male nudity female nudity adultery midli...</td>\n",
              "    </tr>\n",
              "    <tr>\n",
              "      <th>...</th>\n",
              "      <td>...</td>\n",
              "    </tr>\n",
              "    <tr>\n",
              "      <th>4755</th>\n",
              "      <td>Horror  The hot spot where Satan's waitin'. Li...</td>\n",
              "    </tr>\n",
              "    <tr>\n",
              "      <th>4756</th>\n",
              "      <td>Comedy Family Drama  It’s better to stand out ...</td>\n",
              "    </tr>\n",
              "    <tr>\n",
              "      <th>4757</th>\n",
              "      <td>Thriller Drama christian film sex trafficking ...</td>\n",
              "    </tr>\n",
              "    <tr>\n",
              "      <th>4758</th>\n",
              "      <td>Family</td>\n",
              "    </tr>\n",
              "    <tr>\n",
              "      <th>4759</th>\n",
              "      <td>Documentary music actors legendary perfomer cl...</td>\n",
              "    </tr>\n",
              "  </tbody>\n",
              "</table>\n",
              "<p>4760 rows × 1 columns</p>\n",
              "</div><br><label><b>dtype:</b> object</label>"
            ]
          },
          "metadata": {},
          "execution_count": 13
        }
      ]
    },
    {
      "cell_type": "code",
      "source": [
        "x.shape"
      ],
      "metadata": {
        "colab": {
          "base_uri": "https://localhost:8080/"
        },
        "id": "0e86V0XG0IfL",
        "outputId": "3a9c2f79-eb5d-4ddf-e99f-6ecff2e63b71"
      },
      "execution_count": 14,
      "outputs": [
        {
          "output_type": "execute_result",
          "data": {
            "text/plain": [
              "(4760,)"
            ]
          },
          "metadata": {},
          "execution_count": 14
        }
      ]
    },
    {
      "cell_type": "markdown",
      "source": [
        "**Get Feature text conversion to tokens**"
      ],
      "metadata": {
        "id": "iMUW5r7004Qv"
      }
    },
    {
      "cell_type": "code",
      "source": [
        "from sklearn.feature_extraction.text import TfidfVectorizer"
      ],
      "metadata": {
        "id": "OPzDxy2l0Icr"
      },
      "execution_count": 15,
      "outputs": []
    },
    {
      "cell_type": "code",
      "source": [
        "tfidf=TfidfVectorizer()"
      ],
      "metadata": {
        "id": "uJxr2g7T0Iaf"
      },
      "execution_count": 16,
      "outputs": []
    },
    {
      "cell_type": "code",
      "source": [
        "x=tfidf.fit_transform(x)"
      ],
      "metadata": {
        "id": "ZH87sE6U0IYN"
      },
      "execution_count": 17,
      "outputs": []
    },
    {
      "cell_type": "code",
      "source": [
        "x.shape"
      ],
      "metadata": {
        "colab": {
          "base_uri": "https://localhost:8080/"
        },
        "id": "WFMbwmgV0IV_",
        "outputId": "f69adf0b-d5ac-4893-93ff-7d8ac7d31337"
      },
      "execution_count": 18,
      "outputs": [
        {
          "output_type": "execute_result",
          "data": {
            "text/plain": [
              "(4760, 17258)"
            ]
          },
          "metadata": {},
          "execution_count": 18
        }
      ]
    },
    {
      "cell_type": "code",
      "source": [
        "print(x)"
      ],
      "metadata": {
        "colab": {
          "base_uri": "https://localhost:8080/"
        },
        "id": "fUxksGRo0ITr",
        "outputId": "84e9579a-eeae-4c6f-91a0-931b70c0179a"
      },
      "execution_count": 21,
      "outputs": [
        {
          "output_type": "stream",
          "name": "stdout",
          "text": [
            "  (0, 3583)\t0.06486754376295062\n",
            "  (0, 3240)\t0.04527089872278055\n",
            "  (0, 7213)\t0.25146675849405775\n",
            "  (0, 10898)\t0.17625708810661284\n",
            "  (0, 17052)\t0.26079573581490934\n",
            "  (0, 5059)\t0.29553419178998613\n",
            "  (0, 16862)\t0.12768803549311025\n",
            "  (0, 1595)\t0.15687561633854538\n",
            "  (0, 13052)\t0.1465525095337543\n",
            "  (0, 15708)\t0.17654247479915475\n",
            "  (0, 11362)\t0.18801785343006192\n",
            "  (0, 6463)\t0.18801785343006192\n",
            "  (0, 5662)\t0.1465525095337543\n",
            "  (0, 13467)\t0.19712637387361423\n",
            "  (0, 12731)\t0.19712637387361423\n",
            "  (0, 614)\t0.07642616241686973\n",
            "  (0, 11244)\t0.08262965296941757\n",
            "  (0, 9206)\t0.15186283580984414\n",
            "  (0, 1495)\t0.19712637387361423\n",
            "  (0, 7454)\t0.14745635785412262\n",
            "  (0, 7071)\t0.19822417598406614\n",
            "  (0, 5499)\t0.11454057510303811\n",
            "  (0, 3878)\t0.11998399582562203\n",
            "  (0, 11242)\t0.07277788238484746\n",
            "  (0, 15219)\t0.09800472886453934\n",
            "  :\t:\n",
            "  (4757, 3485)\t0.199161573117024\n",
            "  (4757, 1184)\t0.18890726729447022\n",
            "  (4757, 14568)\t0.24255077606762876\n",
            "  (4757, 15508)\t0.24255077606762876\n",
            "  (4757, 5802)\t0.24255077606762876\n",
            "  (4757, 819)\t0.27474840155297187\n",
            "  (4757, 14195)\t0.28805858134028367\n",
            "  (4757, 2227)\t0.28805858134028367\n",
            "  (4757, 7691)\t0.28805858134028367\n",
            "  (4757, 1932)\t0.28805858134028367\n",
            "  (4758, 5238)\t1.0\n",
            "  (4759, 10666)\t0.15888268987343043\n",
            "  (4759, 1490)\t0.21197258705292082\n",
            "  (4759, 15431)\t0.19628653185946862\n",
            "  (4759, 5690)\t0.19534291014627303\n",
            "  (4759, 14051)\t0.20084315377640435\n",
            "  (4759, 4358)\t0.18306542312175342\n",
            "  (4759, 10761)\t0.3126617295732147\n",
            "  (4759, 7130)\t0.26419662449963793\n",
            "  (4759, 3058)\t0.2812896191863103\n",
            "  (4759, 14062)\t0.3237911628497312\n",
            "  (4759, 8902)\t0.3040290704566037\n",
            "  (4759, 205)\t0.3237911628497312\n",
            "  (4759, 11708)\t0.33947721804318337\n",
            "  (4759, 11264)\t0.33947721804318337\n"
          ]
        }
      ]
    },
    {
      "cell_type": "markdown",
      "source": [
        "**Get Similarity Score using Cosine Similarity**"
      ],
      "metadata": {
        "id": "W1iZ0QjZ1y5x"
      }
    },
    {
      "cell_type": "code",
      "source": [
        "from sklearn.metrics.pairwise import cosine_similarity"
      ],
      "metadata": {
        "id": "eARkTd701f0-"
      },
      "execution_count": 22,
      "outputs": []
    },
    {
      "cell_type": "code",
      "source": [
        "similarity_score=cosine_similarity(x)"
      ],
      "metadata": {
        "id": "pRe-U2Ns1-OB"
      },
      "execution_count": 23,
      "outputs": []
    },
    {
      "cell_type": "code",
      "source": [
        "similarity_score"
      ],
      "metadata": {
        "colab": {
          "base_uri": "https://localhost:8080/"
        },
        "id": "2HWsTYGu2BFY",
        "outputId": "8a5895b1-b4c2-443e-b9a0-a88fa5bfa020"
      },
      "execution_count": 24,
      "outputs": [
        {
          "output_type": "execute_result",
          "data": {
            "text/plain": [
              "array([[1.        , 0.01351235, 0.03570468, ..., 0.        , 0.        ,\n",
              "        0.        ],\n",
              "       [0.01351235, 1.        , 0.00806674, ..., 0.        , 0.        ,\n",
              "        0.        ],\n",
              "       [0.03570468, 0.00806674, 1.        , ..., 0.        , 0.08014876,\n",
              "        0.        ],\n",
              "       ...,\n",
              "       [0.        , 0.        , 0.        , ..., 1.        , 0.        ,\n",
              "        0.        ],\n",
              "       [0.        , 0.        , 0.08014876, ..., 0.        , 1.        ,\n",
              "        0.        ],\n",
              "       [0.        , 0.        , 0.        , ..., 0.        , 0.        ,\n",
              "        1.        ]])"
            ]
          },
          "metadata": {},
          "execution_count": 24
        }
      ]
    },
    {
      "cell_type": "code",
      "source": [
        "similarity_score.shape"
      ],
      "metadata": {
        "colab": {
          "base_uri": "https://localhost:8080/"
        },
        "id": "9IiSnA6O2Fm5",
        "outputId": "736c2ecc-d138-49d5-ca2d-65b5e239a712"
      },
      "execution_count": 25,
      "outputs": [
        {
          "output_type": "execute_result",
          "data": {
            "text/plain": [
              "(4760, 4760)"
            ]
          },
          "metadata": {},
          "execution_count": 25
        }
      ]
    },
    {
      "cell_type": "markdown",
      "source": [
        "**Get Movie Name as input from user and validate for closest spelling**"
      ],
      "metadata": {
        "id": "2BY2JnRw2Ipo"
      }
    },
    {
      "cell_type": "code",
      "source": [
        "favourite_movie_name=input('Enter your favourite movie name:')"
      ],
      "metadata": {
        "colab": {
          "base_uri": "https://localhost:8080/"
        },
        "id": "o_TPzvwh2Z0t",
        "outputId": "0bd8aaed-06a7-416c-9e4d-c02f15ecc055"
      },
      "execution_count": 26,
      "outputs": [
        {
          "name": "stdout",
          "output_type": "stream",
          "text": [
            "Enter your favourite movie name:Family Star\n"
          ]
        }
      ]
    },
    {
      "cell_type": "code",
      "source": [
        "All_movies_title_list=df['Movie_Title'].tolist()"
      ],
      "metadata": {
        "id": "7wGQMF552mUF"
      },
      "execution_count": 27,
      "outputs": []
    },
    {
      "cell_type": "code",
      "source": [
        "import difflib"
      ],
      "metadata": {
        "id": "99KPC5r92ndS"
      },
      "execution_count": 28,
      "outputs": []
    },
    {
      "cell_type": "code",
      "source": [
        "movie_Recommandation = difflib.get_close_matches(favourite_movie_name,All_movies_title_list)\n",
        "print(movie_Recommandation)"
      ],
      "metadata": {
        "colab": {
          "base_uri": "https://localhost:8080/"
        },
        "id": "q6P-bsyb2p6N",
        "outputId": "1e8c178d-1dba-4e5c-d3d3-0eca3ae98f88"
      },
      "execution_count": 29,
      "outputs": [
        {
          "output_type": "stream",
          "name": "stdout",
          "text": [
            "['Family Plot', 'The Family Stone', 'The Family Man']\n"
          ]
        }
      ]
    },
    {
      "cell_type": "code",
      "source": [
        "Close_Match = movie_Recommandation[0]\n",
        "print(Close_Match)"
      ],
      "metadata": {
        "colab": {
          "base_uri": "https://localhost:8080/"
        },
        "id": "pd1JBk2A3FYy",
        "outputId": "cab47e05-228b-4374-c68c-e9f9fdf34067"
      },
      "execution_count": 30,
      "outputs": [
        {
          "output_type": "stream",
          "name": "stdout",
          "text": [
            "Family Plot\n"
          ]
        }
      ]
    },
    {
      "cell_type": "code",
      "source": [
        "Index_of_Close_Match_Movie = df[df.Movie_Title == Close_Match]['Movie_ID'].values[0]\n",
        "print(Index_of_Close_Match_Movie)"
      ],
      "metadata": {
        "colab": {
          "base_uri": "https://localhost:8080/"
        },
        "id": "2KXJp2mE3T-0",
        "outputId": "96002115-9a79-4690-db26-254336cc1a88"
      },
      "execution_count": 31,
      "outputs": [
        {
          "output_type": "stream",
          "name": "stdout",
          "text": [
            "932\n"
          ]
        }
      ]
    },
    {
      "cell_type": "code",
      "source": [
        "Recommendation_Score = list(enumerate(similarity_score[Index_of_Close_Match_Movie]))\n",
        "print(Recommendation_Score)"
      ],
      "metadata": {
        "colab": {
          "base_uri": "https://localhost:8080/"
        },
        "id": "WbaV9rXB3a7h",
        "outputId": "377066d8-e52d-41e7-de9a-972259e89868"
      },
      "execution_count": 32,
      "outputs": [
        {
          "output_type": "stream",
          "name": "stdout",
          "text": [
            "[(0, 0.0), (1, 0.015857237966330748), (2, 0.044845671090827245), (3, 0.0), (4, 0.0), (5, 0.0), (6, 0.024211050143785377), (7, 0.012753326647009032), (8, 0.0), (9, 0.0), (10, 0.0), (11, 0.0), (12, 0.0), (13, 0.0), (14, 0.04782528813938533), (15, 0.06262327876726285), (16, 0.003958391467168829), (17, 0.029286597267946222), (18, 0.004553941718540023), (19, 0.027942932966484445), (20, 0.0), (21, 0.005078716565588897), (22, 0.017627646202675224), (23, 0.0), (24, 0.0), (25, 0.0), (26, 0.011922080128988388), (27, 0.023375042680795287), (28, 0.018025109314420543), (29, 0.0), (30, 0.016080122650479506), (31, 0.021162976826709905), (32, 0.0), (33, 0.0), (34, 0.004941860582051031), (35, 0.016462962814537536), (36, 0.01630437246831304), (37, 0.0), (38, 0.0), (39, 0.022594890617962972), (40, 0.0), (41, 0.0), (42, 0.01824958846679104), (43, 0.0), (44, 0.00395336030030767), (45, 0.03422276375770694), (46, 0.020914897551345173), (47, 0.02005180755496404), (48, 0.005232896902209581), (49, 0.0), (50, 0.0), (51, 0.004996706294267588), (52, 0.0045409138659497), (53, 0.04952563655303773), (54, 0.05092033274295287), (55, 0.0), (56, 0.0), (57, 0.01845575988637732), (58, 0.010216713503355046), (59, 0.023055845228527813), (60, 0.0), (61, 0.023095498548976082), (62, 0.027026712214886266), (63, 0.0), (64, 0.014869130242940051), (65, 0.028720086494873398), (66, 0.0), (67, 0.020405118656607303), (68, 0.005036760741155667), (69, 0.04927890227969133), (70, 0.049751608846299325), (71, 0.0), (72, 0.021909289101127705), (73, 0.01537001172414854), (74, 0.018881320274018423), (75, 0.014911258041697753), (76, 0.018360845893808802), (77, 0.044524066304187565), (78, 0.01891528942714432), (79, 0.06768245378315138), (80, 0.02061838414057837), (81, 0.020026005180508545), (82, 0.0), (83, 0.0048126103288400855), (84, 0.033007006105777364), (85, 0.01078254243101782), (86, 0.0), (87, 0.015404550620558552), (88, 0.003917095156092836), (89, 0.005354802126107266), (90, 0.022004560201520088), (91, 0.05173418032218058), (92, 0.0), (93, 0.02155268456501466), (94, 0.02066460553286447), (95, 0.023147446085894384), (96, 0.0), (97, 0.0), (98, 0.0), (99, 0.011894150463635445), (100, 0.009847286645107544), (101, 0.0), (102, 0.024584305902432657), (103, 0.0), (104, 0.011279085206651142), (105, 0.0), (106, 0.031317755657694776), (107, 0.032527251774851405), (108, 0.015921260890337068), (109, 0.018557152546051035), (110, 0.0), (111, 0.0), (112, 0.004572208749502075), (113, 0.022671602065504892), (114, 0.0), (115, 0.022772487927131962), (116, 0.015060767519483556), (117, 0.0), (118, 0.03234501421164422), (119, 0.01795965798108671), (120, 0.0), (121, 0.0), (122, 0.0), (123, 0.0), (124, 0.012557938215999605), (125, 0.005436927705426608), (126, 0.09792526108493765), (127, 0.023300742907746478), (128, 0.024963630589983483), (129, 0.0), (130, 0.0), (131, 0.018546345194671222), (132, 0.0), (133, 0.0), (134, 0.0), (135, 0.022483173976166913), (136, 0.11172006610711943), (137, 0.004889549466508168), (138, 0.0045600485350369676), (139, 0.0), (140, 0.08325313514829104), (141, 0.0), (142, 0.0), (143, 0.0), (144, 0.0718700134380977), (145, 0.01626755498318808), (146, 0.08278175192366624), (147, 0.1521563051723581), (148, 0.012480252300197177), (149, 0.01398376758947862), (150, 0.01737870685390217), (151, 0.018339176505856314), (152, 0.021852687368633796), (153, 0.0), (154, 0.028620190670187534), (155, 0.0), (156, 0.0), (157, 0.023314082393484085), (158, 0.01005392644193608), (159, 0.0), (160, 0.028878453062242473), (161, 0.04506921866243859), (162, 0.0), (163, 0.007308322341022115), (164, 0.01771153969087585), (165, 0.0), (166, 0.023957485908067757), (167, 0.017981781774264634), (168, 0.0), (169, 0.011971390980846576), (170, 0.015343091618669915), (171, 0.01685208730952996), (172, 0.024557116319665426), (173, 0.0547762319285494), (174, 0.0), (175, 0.01028880726058256), (176, 0.04003185088195195), (177, 0.0), (178, 0.01925700615458965), (179, 0.011711946132673482), (180, 0.019065629329948954), (181, 0.0), (182, 0.0), (183, 0.03721352534951117), (184, 0.0), (185, 0.011519407205312965), (186, 0.0), (187, 0.02956939779329495), (188, 0.024210304093296928), (189, 0.023302294632030277), (190, 0.00405277651319564), (191, 0.02811061075318026), (192, 0.0), (193, 0.0), (194, 0.0), (195, 0.0), (196, 0.01498592498451922), (197, 0.0), (198, 0.07786620296334563), (199, 0.004330384989868604), (200, 0.014100161631198448), (201, 0.017667649182039585), (202, 0.012213697985469202), (203, 0.04744301830540608), (204, 0.0), (205, 0.0), (206, 0.08085138714422521), (207, 0.005364286789336238), (208, 0.024803354713708394), (209, 0.0), (210, 0.0051184349626215665), (211, 0.0), (212, 0.0), (213, 0.0), (214, 0.010106932858601878), (215, 0.017528098576512635), (216, 0.0), (217, 0.0), (218, 0.09155250550524374), (219, 0.0), (220, 0.023790194204539684), (221, 0.0), (222, 0.012104744841818567), (223, 0.0), (224, 0.0), (225, 0.0), (226, 0.024476139311263145), (227, 0.019563686560841263), (228, 0.0), (229, 0.0), (230, 0.0), (231, 0.0), (232, 0.019709411434976454), (233, 0.004687285377912401), (234, 0.019366776925817984), (235, 0.0), (236, 0.01498914657821502), (237, 0.03304967308719404), (238, 0.004843839266807821), (239, 0.014587650881698144), (240, 0.012729699161604529), (241, 0.00473752385857663), (242, 0.0), (243, 0.016231422816502042), (244, 0.004645983192009212), (245, 0.028279640027361514), (246, 0.0), (247, 0.051676846931781345), (248, 0.11746518975431287), (249, 0.021468393505091707), (250, 0.01785633016915372), (251, 0.009606677972301506), (252, 0.02565377216954407), (253, 0.019506659165476357), (254, 0.01343002988558665), (255, 0.05747895061884827), (256, 0.0), (257, 0.03148290764365136), (258, 0.017874469601526815), (259, 0.01765168348839848), (260, 0.0213434458102355), (261, 0.044798792988330824), (262, 0.0), (263, 0.03368445013234393), (264, 0.03564397464811825), (265, 0.009024886158461233), (266, 0.00365418086319333), (267, 0.0), (268, 0.0), (269, 0.0), (270, 0.011722102532350103), (271, 0.012977779020371073), (272, 0.0), (273, 0.045834476416693935), (274, 0.0), (275, 0.00952134697777304), (276, 0.004477958799627537), (277, 0.019576526495014686), (278, 0.015366358754853782), (279, 0.011406806071511037), (280, 0.0), (281, 0.0), (282, 0.03962261390894119), (283, 0.04276440824515741), (284, 0.012994703583655379), (285, 0.0), (286, 0.010455914893517356), (287, 0.0), (288, 0.0040331988188885524), (289, 0.023018160440227677), (290, 0.003875418010952379), (291, 0.03293356208440505), (292, 0.01182177647864502), (293, 0.01323473416209231), (294, 0.0037814103403163847), (295, 0.003873028322195667), (296, 0.011959818439375623), (297, 0.0), (298, 0.0), (299, 0.0), (300, 0.0), (301, 0.01185628864840469), (302, 0.0), (303, 0.03418861886356942), (304, 0.004378499890693911), (305, 0.027100828692499097), (306, 0.004375698348234609), (307, 0.027165890390025593), (308, 0.0), (309, 0.009691367302342076), (310, 0.004562935378075824), (311, 0.031427660807861635), (312, 0.01226900211396274), (313, 0.02358378786307943), (314, 0.01886325184216677), (315, 0.004763797372734563), (316, 0.004401527847322665), (317, 0.010669198700102139), (318, 0.0), (319, 0.0), (320, 0.023683206030629757), (321, 0.004609600633909267), (322, 0.0046765891605474045), (323, 0.00424817647748584), (324, 0.01123042969296312), (325, 0.0), (326, 0.03278904085917921), (327, 0.004260296547756749), (328, 0.0), (329, 0.015480031003483614), (330, 0.0), (331, 0.008942414621790327), (332, 0.0035560359657959783), (333, 0.020015561103751085), (334, 0.08859334503688078), (335, 0.0), (336, 0.012795799229325168), (337, 0.008171925535439993), (338, 0.008214521455618533), (339, 0.052115815439991754), (340, 0.0), (341, 0.026876590726987996), (342, 0.0), (343, 0.01844463037873087), (344, 0.0), (345, 0.0), (346, 0.024215005358297695), (347, 0.03382499994601306), (348, 0.0), (349, 0.0), (350, 0.00517025604983358), (351, 0.009296168138694005), (352, 0.008183283373571883), (353, 0.0), (354, 0.022842747107042594), (355, 0.09492708856891502), (356, 0.004530044562150124), (357, 0.0), (358, 0.0), (359, 0.01854868870228832), (360, 0.015141665040812543), (361, 0.0), (362, 0.0), (363, 0.0), (364, 0.015273287760278363), (365, 0.024731612966377246), (366, 0.0), (367, 0.01700728476346096), (368, 0.02131002918007141), (369, 0.022912317085965), (370, 0.004741497976346871), (371, 0.024858727354346844), (372, 0.0), (373, 0.0), (374, 0.04019294881639282), (375, 0.02223877908556779), (376, 0.03297923768539602), (377, 0.0), (378, 0.017829370421410754), (379, 0.041739473618032694), (380, 0.06443508884165933), (381, 0.009154455271644754), (382, 0.0), (383, 0.0), (384, 0.0), (385, 0.0), (386, 0.0), (387, 0.0), (388, 0.0), (389, 0.022402546797152183), (390, 0.0170871058148684), (391, 0.0), (392, 0.0), (393, 0.0), (394, 0.034296296514981575), (395, 0.013072938426936492), (396, 0.021504463199013814), (397, 0.02057458521789142), (398, 0.0), (399, 0.0), (400, 0.018137735139000282), (401, 0.0), (402, 0.0), (403, 0.0), (404, 0.0), (405, 0.0477356044095037), (406, 0.004845439418051415), (407, 0.0), (408, 0.022624991637224364), (409, 0.0), (410, 0.020819149246978832), (411, 0.008264203330338143), (412, 0.0), (413, 0.01895746819675936), (414, 0.0274649320970367), (415, 0.03863032932593544), (416, 0.0), (417, 0.0044113828781023184), (418, 0.005023472693084736), (419, 0.0), (420, 0.014788514716710568), (421, 0.0), (422, 0.0), (423, 0.0), (424, 0.0053923912113530035), (425, 0.00538771271223065), (426, 0.004442103062085244), (427, 0.017028691521144296), (428, 0.0), (429, 0.04180351449362033), (430, 0.028799328820895243), (431, 0.0), (432, 0.03271374483278347), (433, 0.013053151849697643), (434, 0.0), (435, 0.003850986413817622), (436, 0.017853722959321312), (437, 0.0), (438, 0.02755888676779062), (439, 0.037741927810403426), (440, 0.01438300492544095), (441, 0.010068999963679841), (442, 0.00393790060917713), (443, 0.018457021770951047), (444, 0.026663579255679325), (445, 0.0), (446, 0.0), (447, 0.030350212885375105), (448, 0.0), (449, 0.02023888551721376), (450, 0.03517763353931001), (451, 0.03537160263265395), (452, 0.0), (453, 0.020460225876894302), (454, 0.01130850750528555), (455, 0.0195637270264957), (456, 0.0), (457, 0.031721955860986015), (458, 0.04820671125981135), (459, 0.0), (460, 0.022397931650035705), (461, 0.014429302457086596), (462, 0.0), (463, 0.004401412558060447), (464, 0.0), (465, 0.011124053891507554), (466, 0.02212388114593227), (467, 0.004681544957614802), (468, 0.004444120054033296), (469, 0.003924795577649672), (470, 0.030247809457283933), (471, 0.04520776746384246), (472, 0.01827711293410225), (473, 0.011023590295716451), (474, 0.0), (475, 0.0), (476, 0.0), (477, 0.017764931150906917), (478, 0.0), (479, 0.0), (480, 0.015656008207894784), (481, 0.005164780593076943), (482, 0.016655990500078918), (483, 0.0), (484, 0.0), (485, 0.0), (486, 0.0), (487, 0.023433692337777867), (488, 0.05055322633204702), (489, 0.0145759417002107), (490, 0.0), (491, 0.02075478133882114), (492, 0.016575214806709555), (493, 0.005042410180818854), (494, 0.0), (495, 0.019792462842556494), (496, 0.02353787993512388), (497, 0.03571241780920303), (498, 0.0), (499, 0.0), (500, 0.004630742514809082), (501, 0.020979139087407565), (502, 0.004971874249549014), (503, 0.0), (504, 0.0), (505, 0.0), (506, 0.007296407581587484), (507, 0.0), (508, 0.0), (509, 0.032310254814800245), (510, 0.0), (511, 0.03689392084994818), (512, 0.005644677069874178), (513, 0.005162651494323789), (514, 0.005150294505285848), (515, 0.01608223547540179), (516, 0.02789054086212534), (517, 0.046829493600125026), (518, 0.02610884675877976), (519, 0.004193284093428077), (520, 0.0), (521, 0.0), (522, 0.039387822450629856), (523, 0.01677454762008822), (524, 0.011177928007793162), (525, 0.0), (526, 0.0), (527, 0.0), (528, 0.0), (529, 0.0), (530, 0.03181429853369276), (531, 0.0), (532, 0.004410017239343374), (533, 0.005341645808665071), (534, 0.004690601605686683), (535, 0.0), (536, 0.0), (537, 0.02561433824756909), (538, 0.03317692202846996), (539, 0.0), (540, 0.004383189709743281), (541, 0.0), (542, 0.011190148191429293), (543, 0.004946345465361073), (544, 0.0), (545, 0.015595668593161499), (546, 0.017129168075942048), (547, 0.0), (548, 0.06574194800375692), (549, 0.011305005939149038), (550, 0.024952676819564347), (551, 0.0), (552, 0.009040766736085738), (553, 0.02059616920376794), (554, 0.017221398560852027), (555, 0.029204629888320354), (556, 0.00870344241448662), (557, 0.008773876799600575), (558, 0.008302469427767252), (559, 0.012252499605670665), (560, 0.004763553666169026), (561, 0.01309137943353358), (562, 0.0036029735036995033), (563, 0.004282445218108909), (564, 0.0), (565, 0.016581739968801974), (566, 0.0), (567, 0.017312348651843504), (568, 0.0), (569, 0.0196691487740883), (570, 0.0), (571, 0.020915458978190273), (572, 0.036490244512608), (573, 0.0), (574, 0.0), (575, 0.0), (576, 0.0), (577, 0.04490706902553542), (578, 0.023103627447470437), (579, 0.0), (580, 0.04472726161574049), (581, 0.02912476553604595), (582, 0.0), (583, 0.0), (584, 0.004914092414552113), (585, 0.03527052478484645), (586, 0.0), (587, 0.051532985547326174), (588, 0.030186604698131596), (589, 0.0), (590, 0.0043771564477045714), (591, 0.01949660049992001), (592, 0.0), (593, 0.0), (594, 0.0), (595, 0.025355690230347387), (596, 0.0), (597, 0.0), (598, 0.0), (599, 0.018677241661886095), (600, 0.031502010386114956), (601, 0.01514504220068116), (602, 0.014494994774083924), (603, 0.0188828405128941), (604, 0.020776590531728825), (605, 0.0), (606, 0.059521617032363444), (607, 0.009389085676739607), (608, 0.0043050082502903006), (609, 0.0), (610, 0.0), (611, 0.009788233083147753), (612, 0.0), (613, 0.017499022167446008), (614, 0.05200191402219845), (615, 0.01928146637732984), (616, 0.0), (617, 0.0836120449516098), (618, 0.0), (619, 0.03136020245123476), (620, 0.032320869031590954), (621, 0.004018228257958167), (622, 0.01695621854430963), (623, 0.0), (624, 0.0), (625, 0.06189961587936536), (626, 0.0), (627, 0.015177004151833757), (628, 0.017073120861747774), (629, 0.02985260805502548), (630, 0.009097446484413588), (631, 0.0), (632, 0.0), (633, 0.02445358298915082), (634, 0.013510308283583343), (635, 0.005185061377121375), (636, 0.016115822570623686), (637, 0.0049179954190632855), (638, 0.01644395885393304), (639, 0.004010302376305075), (640, 0.0039758062664628354), (641, 0.008725435318946472), (642, 0.004102179217310515), (643, 0.05524810881902087), (644, 0.004511528060686085), (645, 0.0), (646, 0.011717439763310616), (647, 0.0), (648, 0.0), (649, 0.0), (650, 0.0), (651, 0.020724942298276757), (652, 0.01632209049475511), (653, 0.004132049794624718), (654, 0.01681870911287111), (655, 0.010466652242110215), (656, 0.018651403070229156), (657, 0.016255935206366243), (658, 0.0), (659, 0.0), (660, 0.016668902407100183), (661, 0.01496959200499501), (662, 0.011813867599630575), (663, 0.019731458266605693), (664, 0.0), (665, 0.0), (666, 0.025321682892473208), (667, 0.004993086325563159), (668, 0.06523728465303445), (669, 0.0043697902574685275), (670, 0.005852838715550829), (671, 0.01890229388089776), (672, 0.0), (673, 0.005182609888709288), (674, 0.017598473528974205), (675, 0.005179163798365801), (676, 0.038670315838399805), (677, 0.0), (678, 0.029456440257217564), (679, 0.0), (680, 0.0), (681, 0.020099454104297507), (682, 0.03634848004828389), (683, 0.0), (684, 0.0), (685, 0.004878642202119039), (686, 0.019621160454670373), (687, 0.005269055437435875), (688, 0.005261012241006073), (689, 0.02156414736634879), (690, 0.004418677614886363), (691, 0.09793701775230558), (692, 0.004104701418791296), (693, 0.011859270804526487), (694, 0.0044660068020420446), (695, 0.08538436005282557), (696, 0.004780325789652252), (697, 0.0), (698, 0.0), (699, 0.0), (700, 0.0), (701, 0.017813003646585293), (702, 0.016609900559851044), (703, 0.01987782319149703), (704, 0.02419680742674621), (705, 0.04627008370686786), (706, 0.014784102566542693), (707, 0.0), (708, 0.0), (709, 0.0), (710, 0.0), (711, 0.0), (712, 0.0), (713, 0.0), (714, 0.0), (715, 0.05511717343362731), (716, 0.004980176584926475), (717, 0.0), (718, 0.0), (719, 0.01281992878870869), (720, 0.01760601002741946), (721, 0.0), (722, 0.0), (723, 0.004020413248536821), (724, 0.012100670295153413), (725, 0.0), (726, 0.0), (727, 0.015677956810620647), (728, 0.005122313966487824), (729, 0.04447942115548206), (730, 0.025092489069600734), (731, 0.0), (732, 0.004239602010033927), (733, 0.019469797133849456), (734, 0.0), (735, 0.0), (736, 0.0), (737, 0.0), (738, 0.003912377756138218), (739, 0.02306374545463908), (740, 0.0), (741, 0.0), (742, 0.048948038428519164), (743, 0.004880227884961413), (744, 0.06945328766902835), (745, 0.016414358335887815), (746, 0.008792355403337246), (747, 0.03228935542569842), (748, 0.02144744951558513), (749, 0.0), (750, 0.05252041873927529), (751, 0.021423163252994003), (752, 0.07417124694333047), (753, 0.00550527439240086), (754, 0.0), (755, 0.011841423768282011), (756, 0.040773332655250086), (757, 0.0), (758, 0.03689561925732775), (759, 0.0), (760, 0.018306148020866945), (761, 0.004749896174882409), (762, 0.019504717422625762), (763, 0.016760319761792108), (764, 0.0), (765, 0.01686488590866755), (766, 0.0), (767, 0.0), (768, 0.0), (769, 0.034233128414821304), (770, 0.008316151392307992), (771, 0.025781331181455362), (772, 0.02136537842046368), (773, 0.0), (774, 0.0), (775, 0.0036332960236336665), (776, 0.02442138249314106), (777, 0.029421618210850615), (778, 0.018270333700159364), (779, 0.02318852370442331), (780, 0.010663878129463442), (781, 0.019278422289511748), (782, 0.0), (783, 0.0), (784, 0.0), (785, 0.040600764019717996), (786, 0.0), (787, 0.0), (788, 0.020448342728426327), (789, 0.04046416621409285), (790, 0.05595326018420677), (791, 0.0), (792, 0.0), (793, 0.0049322046041310385), (794, 0.0), (795, 0.0), (796, 0.01848978888315283), (797, 0.0), (798, 0.021355303855289703), (799, 0.0046297368989164185), (800, 0.00426872794698287), (801, 0.014617423656884558), (802, 0.05080617298762424), (803, 0.004244693742820832), (804, 0.004271526593262874), (805, 0.0), (806, 0.03371972803183379), (807, 0.0), (808, 0.014067862161170355), (809, 0.0048756708576151685), (810, 0.02332101311110646), (811, 0.025306328402868433), (812, 0.033656340515234445), (813, 0.012588544730179067), (814, 0.018327672095057514), (815, 0.03998469793079713), (816, 0.009122575200364557), (817, 0.018012653895382293), (818, 0.0), (819, 0.0), (820, 0.02113856538983058), (821, 0.0), (822, 0.0), (823, 0.0), (824, 0.028368447218409417), (825, 0.00460608161348732), (826, 0.0), (827, 0.00450542528293564), (828, 0.0), (829, 0.004362743237499875), (830, 0.0), (831, 0.011954601169687502), (832, 0.016225340568544598), (833, 0.018915937771844596), (834, 0.020047461458145642), (835, 0.019110443789169256), (836, 0.0), (837, 0.0), (838, 0.0), (839, 0.010172507996013902), (840, 0.0), (841, 0.0), (842, 0.005807072960887791), (843, 0.01002031470732824), (844, 0.0), (845, 0.004971963687025712), (846, 0.039892178109929184), (847, 0.013972582701202003), (848, 0.0), (849, 0.016922713128250135), (850, 0.0), (851, 0.0), (852, 0.029166469542427152), (853, 0.020974093375739054), (854, 0.0), (855, 0.015703284442760902), (856, 0.0), (857, 0.0), (858, 0.0), (859, 0.0), (860, 0.005502598525308567), (861, 0.004089647871866363), (862, 0.0), (863, 0.00434115541062412), (864, 0.011325645653272324), (865, 0.027491685615231094), (866, 0.004415049750966556), (867, 0.0), (868, 0.004409438911426226), (869, 0.0), (870, 0.026563264251976797), (871, 0.0), (872, 0.03205038164833313), (873, 0.0), (874, 0.0), (875, 0.024794505791588463), (876, 0.005420790736318287), (877, 0.017995345051551575), (878, 0.004485671937736678), (879, 0.004954755308744264), (880, 0.03778499310443854), (881, 0.017652653866906527), (882, 0.0), (883, 0.0), (884, 0.0), (885, 0.0), (886, 0.0), (887, 0.0), (888, 0.005263536225394896), (889, 0.0), (890, 0.0), (891, 0.023703474323994854), (892, 0.0), (893, 0.012401328777808415), (894, 0.0), (895, 0.059053945500950215), (896, 0.017432421858425397), (897, 0.0), (898, 0.04643604802567905), (899, 0.019788217341663934), (900, 0.02451135053780629), (901, 0.015417147654558533), (902, 0.03458069589128833), (903, 0.016641410035107742), (904, 0.005590513914611202), (905, 0.005493792226884123), (906, 0.0), (907, 0.0), (908, 0.02290062845331067), (909, 0.0), (910, 0.01460746977815348), (911, 0.004499305701260463), (912, 0.015611126719082791), (913, 0.01883152421754106), (914, 0.0), (915, 0.03252343195331495), (916, 0.004400586646934156), (917, 0.0), (918, 0.02328723963122326), (919, 0.022957532692807574), (920, 0.0), (921, 0.0), (922, 0.0), (923, 0.044661027060210225), (924, 0.0), (925, 0.010352741055671605), (926, 0.01391566211047544), (927, 0.01565263585324899), (928, 0.004956028246414728), (929, 0.0), (930, 0.005040849011676997), (931, 0.004745912074055602), (932, 1.0), (933, 0.0), (934, 0.0), (935, 0.1134351032047765), (936, 0.004273173924745816), (937, 0.018643576794043625), (938, 0.0), (939, 0.0), (940, 0.0), (941, 0.0), (942, 0.003860933158830022), (943, 0.0), (944, 0.0), (945, 0.0), (946, 0.0), (947, 0.006406328386369638), (948, 0.0), (949, 0.0), (950, 0.010519412826820486), (951, 0.0), (952, 0.12470771503091217), (953, 0.011073216225529457), (954, 0.020000119051772992), (955, 0.0), (956, 0.0), (957, 0.0), (958, 0.0), (959, 0.0), (960, 0.009555618697991297), (961, 0.0277015403496225), (962, 0.0), (963, 0.029450638139998885), (964, 0.048392127828512294), (965, 0.0), (966, 0.0), (967, 0.005243372189894497), (968, 0.020614088530541353), (969, 0.0), (970, 0.011619654158800513), (971, 0.01254180431814611), (972, 0.0), (973, 0.0), (974, 0.00444584781747131), (975, 0.0), (976, 0.03611352456353373), (977, 0.019365029957289448), (978, 0.011270244191803603), (979, 0.022072165198043864), (980, 0.016492507338840032), (981, 0.020258507432124255), (982, 0.0), (983, 0.0), (984, 0.0), (985, 0.0), (986, 0.004745565601603896), (987, 0.0), (988, 0.08548369981620281), (989, 0.02221978844296714), (990, 0.012312555168013729), (991, 0.014762713763435752), (992, 0.07750906392335913), (993, 0.01844044101493843), (994, 0.045812146416002064), (995, 0.02192227392196737), (996, 0.006701556458746632), (997, 0.02023801147566505), (998, 0.013812958538300783), (999, 0.0), (1000, 0.0042716104201929415), (1001, 0.025752233570465057), (1002, 0.0), (1003, 0.03220394315787005), (1004, 0.027329194223780398), (1005, 0.0), (1006, 0.012729892331672476), (1007, 0.011799579551167411), (1008, 0.022942459630836916), (1009, 0.015022492145350192), (1010, 0.0), (1011, 0.0511857416785014), (1012, 0.00470471011896188), (1013, 0.01875878720068246), (1014, 0.020568387699733934), (1015, 0.0051337430511130995), (1016, 0.0), (1017, 0.015510390790882227), (1018, 0.047865554882331705), (1019, 0.0), (1020, 0.0), (1021, 0.048657553893551975), (1022, 0.017672137964982685), (1023, 0.0), (1024, 0.004946434841379937), (1025, 0.0), (1026, 0.0), (1027, 0.0), (1028, 0.0), (1029, 0.0), (1030, 0.004597173926552893), (1031, 0.02844867775323432), (1032, 0.0), (1033, 0.010743468650935927), (1034, 0.0), (1035, 0.0046137212573131026), (1036, 0.0), (1037, 0.0), (1038, 0.04773334118706181), (1039, 0.0), (1040, 0.00951676763996429), (1041, 0.061969161737586646), (1042, 0.0), (1043, 0.02615088331534348), (1044, 0.004600641995658418), (1045, 0.0), (1046, 0.015079017526285586), (1047, 0.02826337600310788), (1048, 0.0), (1049, 0.03615473256821508), (1050, 0.05514787636285091), (1051, 0.013707696687281265), (1052, 0.0325305839346222), (1053, 0.0), (1054, 0.004484497748753538), (1055, 0.04065827208748071), (1056, 0.02911197996531058), (1057, 0.02871046526888419), (1058, 0.00582104886656769), (1059, 0.0), (1060, 0.0), (1061, 0.00427554359831674), (1062, 0.0101881392165522), (1063, 0.004588671029714711), (1064, 0.019333074880200297), (1065, 0.00434073887447554), (1066, 0.016350877471374918), (1067, 0.023242604889707055), (1068, 0.014757505759938182), (1069, 0.044900520839393145), (1070, 0.0), (1071, 0.01702912813433824), (1072, 0.07590260486057482), (1073, 0.046391471636835505), (1074, 0.04491096577114389), (1075, 0.0), (1076, 0.011745334598009163), (1077, 0.01244804183682515), (1078, 0.0), (1079, 0.0), (1080, 0.0), (1081, 0.018595571017328054), (1082, 0.03094303005522922), (1083, 0.058358081748337454), (1084, 0.011939409683113392), (1085, 0.0), (1086, 0.0), (1087, 0.0), (1088, 0.01591159938422728), (1089, 0.0), (1090, 0.0), (1091, 0.019435923300915117), (1092, 0.003958466117194984), (1093, 0.0), (1094, 0.0), (1095, 0.03195836869400566), (1096, 0.04808575086013667), (1097, 0.054730389809217295), (1098, 0.0), (1099, 0.024446939960539635), (1100, 0.0), (1101, 0.01804514751634019), (1102, 0.04441936680198869), (1103, 0.013129987872535354), (1104, 0.027300513844165257), (1105, 0.0), (1106, 0.0), (1107, 0.070364470284048), (1108, 0.018114407232039997), (1109, 0.0), (1110, 0.0), (1111, 0.0181418703675263), (1112, 0.03880309351111152), (1113, 0.0), (1114, 0.03329408240740088), (1115, 0.0038160693675418174), (1116, 0.009538460662606886), (1117, 0.023516346039374254), (1118, 0.0), (1119, 0.01468349582356827), (1120, 0.019184904748561094), (1121, 0.0), (1122, 0.0), (1123, 0.004513586005669361), (1124, 0.0), (1125, 0.021504068165233856), (1126, 0.0), (1127, 0.004674373561570858), (1128, 0.034431135500444174), (1129, 0.022511022928031553), (1130, 0.0), (1131, 0.0), (1132, 0.0160933671788636), (1133, 0.0), (1134, 0.020283615875070146), (1135, 0.008355156170939132), (1136, 0.0), (1137, 0.033051343162013), (1138, 0.016142143508478545), (1139, 0.0), (1140, 0.036095035696591636), (1141, 0.005075327867800731), (1142, 0.0), (1143, 0.0), (1144, 0.0), (1145, 0.0), (1146, 0.030463409080859434), (1147, 0.0), (1148, 0.005362150669369248), (1149, 0.024682452939721367), (1150, 0.0242709536353381), (1151, 0.01780158709689312), (1152, 0.0), (1153, 0.00964268681732027), (1154, 0.02796921535694522), (1155, 0.0), (1156, 0.0), (1157, 0.0), (1158, 0.015365310645712773), (1159, 0.0), (1160, 0.0), (1161, 0.0), (1162, 0.04545986228183234), (1163, 0.008987826766496086), (1164, 0.05495301774105686), (1165, 0.0), (1166, 0.0), (1167, 0.01506711807656235), (1168, 0.028736208962579435), (1169, 0.0), (1170, 0.0), (1171, 0.01608160013900678), (1172, 0.0), (1173, 0.0042978467633379746), (1174, 0.004855099760345486), (1175, 0.0), (1176, 0.06578802669410173), (1177, 0.023513534799631575), (1178, 0.0), (1179, 0.0494982552424714), (1180, 0.0), (1181, 0.0255398797126212), (1182, 0.09130601648963135), (1183, 0.020968799450603242), (1184, 0.018204809543809944), (1185, 0.005003498874057845), (1186, 0.0), (1187, 0.0), (1188, 0.004984759781595884), (1189, 0.009464706047871533), (1190, 0.0), (1191, 0.004767920977980664), (1192, 0.0261525164102615), (1193, 0.0), (1194, 0.0), (1195, 0.03769695397101036), (1196, 0.0), (1197, 0.022950374781816052), (1198, 0.0), (1199, 0.019740607780888434), (1200, 0.0), (1201, 0.0), (1202, 0.022000840559087468), (1203, 0.0), (1204, 0.018573052536155255), (1205, 0.038050027371511835), (1206, 0.020819161329779064), (1207, 0.013138753857064272), (1208, 0.023338256496336016), (1209, 0.0), (1210, 0.019725753236575484), (1211, 0.013031607486988582), (1212, 0.01531561153395951), (1213, 0.0), (1214, 0.0), (1215, 0.06613856024769946), (1216, 0.0), (1217, 0.0), (1218, 0.008589345039340718), (1219, 0.021467981967753576), (1220, 0.03729662645438431), (1221, 0.0), (1222, 0.0), (1223, 0.013806080737225522), (1224, 0.02831719090856518), (1225, 0.005010124580357992), (1226, 0.004701375776299481), (1227, 0.0), (1228, 0.0), (1229, 0.016659565709684628), (1230, 0.021598742433845658), (1231, 0.011676006563972404), (1232, 0.00478582624523977), (1233, 0.039778922333931606), (1234, 0.0), (1235, 0.0), (1236, 0.004319054862543918), (1237, 0.024624909881160506), (1238, 0.0), (1239, 0.020028414279955026), (1240, 0.0), (1241, 0.0), (1242, 0.0), (1243, 0.0), (1244, 0.0), (1245, 0.017208940199566227), (1246, 0.029783918877269056), (1247, 0.0), (1248, 0.026063443417638166), (1249, 0.015391475669795172), (1250, 0.055371650385534196), (1251, 0.0), (1252, 0.015810118723484052), (1253, 0.027185246421065744), (1254, 0.0), (1255, 0.055585247344302806), (1256, 0.01676241349078912), (1257, 0.004679894093485452), (1258, 0.0), (1259, 0.004340768309451655), (1260, 0.0), (1261, 0.021562682966408727), (1262, 0.022442547401532884), (1263, 0.06172964446185226), (1264, 0.0), (1265, 0.029080889255180514), (1266, 0.004845209670067136), (1267, 0.017247511961842283), (1268, 0.0), (1269, 0.017724706662444512), (1270, 0.07900095405936644), (1271, 0.021206475259874756), (1272, 0.013550698767323309), (1273, 0.0), (1274, 0.034733451100770224), (1275, 0.0054798682260992675), (1276, 0.02023359879436402), (1277, 0.017895205320461603), (1278, 0.0), (1279, 0.07263538865431425), (1280, 0.0239617240179627), (1281, 0.028640584426644574), (1282, 0.0), (1283, 0.01569019801251049), (1284, 0.05087726713416998), (1285, 0.016996848332403985), (1286, 0.0), (1287, 0.008674669139153653), (1288, 0.0), (1289, 0.0), (1290, 0.0), (1291, 0.0), (1292, 0.01665233566889835), (1293, 0.0), (1294, 0.0), (1295, 0.037593200679186305), (1296, 0.03298397159671331), (1297, 0.0), (1298, 0.0), (1299, 0.0), (1300, 0.004015790391061946), (1301, 0.015587339956254928), (1302, 0.0048168178654063865), (1303, 0.01286587870829879), (1304, 0.0), (1305, 0.0), (1306, 0.01631320574668317), (1307, 0.010547718785041748), (1308, 0.0), (1309, 0.0040646056832513485), (1310, 0.0347069628295452), (1311, 0.0), (1312, 0.0), (1313, 0.0), (1314, 0.015697686239395922), (1315, 0.05284319892566994), (1316, 0.0), (1317, 0.0), (1318, 0.0), (1319, 0.09059958807147513), (1320, 0.0), (1321, 0.0), (1322, 0.0), (1323, 0.021032557802100234), (1324, 0.0), (1325, 0.01729605561626241), (1326, 0.02250629620162771), (1327, 0.021279789028653594), (1328, 0.0), (1329, 0.0), (1330, 0.0), (1331, 0.04595799463155274), (1332, 0.0052914074046814825), (1333, 0.0), (1334, 0.011505947888143195), (1335, 0.004796479238147494), (1336, 0.0), (1337, 0.004846578068153392), (1338, 0.0), (1339, 0.0), (1340, 0.0), (1341, 0.014570956763752932), (1342, 0.007518542261798459), (1343, 0.01634894163803737), (1344, 0.0), (1345, 0.022328357208215546), (1346, 0.0), (1347, 0.013283905841612981), (1348, 0.013899772446073776), (1349, 0.0), (1350, 0.0), (1351, 0.0101423695756474), (1352, 0.010350139699365673), (1353, 0.02276101752732807), (1354, 0.016377284301554707), (1355, 0.0), (1356, 0.013506253695834587), (1357, 0.046207132902055054), (1358, 0.041081615279357026), (1359, 0.0), (1360, 0.014523250686673456), (1361, 0.12953958891698955), (1362, 0.0), (1363, 0.0), (1364, 0.031178069815386032), (1365, 0.010289272920980053), (1366, 0.0), (1367, 0.0), (1368, 0.02148785563583978), (1369, 0.0038870715746513024), (1370, 0.0), (1371, 0.0), (1372, 0.022963255287683147), (1373, 0.011804510950838978), (1374, 0.017854543999622358), (1375, 0.015166746842940233), (1376, 0.01767459191208864), (1377, 0.0038310269042299994), (1378, 0.02019485599434158), (1379, 0.04345979017619189), (1380, 0.005008653360733266), (1381, 0.03868517054556778), (1382, 0.0), (1383, 0.029593114737889597), (1384, 0.024143469908083116), (1385, 0.004755163725961253), (1386, 0.028029280380076096), (1387, 0.010118231829311118), (1388, 0.011257130458766246), (1389, 0.01960063338405922), (1390, 0.0), (1391, 0.027847777810464176), (1392, 0.0), (1393, 0.0), (1394, 0.015807316295321557), (1395, 0.0110703022571036), (1396, 0.023532662629417393), (1397, 0.0), (1398, 0.0), (1399, 0.0), (1400, 0.016820990560743574), (1401, 0.0), (1402, 0.05834078024612659), (1403, 0.014064614507741845), (1404, 0.0), (1405, 0.05666073265112276), (1406, 0.016550132182744474), (1407, 0.014615247520069095), (1408, 0.0), (1409, 0.05591409286896003), (1410, 0.0), (1411, 0.0), (1412, 0.004520358621133115), (1413, 0.022837351583920272), (1414, 0.014236072443847527), (1415, 0.0), (1416, 0.017493272039289534), (1417, 0.03550688404961648), (1418, 0.0), (1419, 0.028713672404207587), (1420, 0.024859607756812816), (1421, 0.016324841504522698), (1422, 0.0), (1423, 0.0), (1424, 0.0), (1425, 0.0), (1426, 0.024109806282073418), (1427, 0.019616601708106716), (1428, 0.013036886520527348), (1429, 0.01918374410457417), (1430, 0.012787989909877425), (1431, 0.014082737144236884), (1432, 0.0049469994470867475), (1433, 0.06955910040882912), (1434, 0.0), (1435, 0.029320920730953548), (1436, 0.005024973159585021), (1437, 0.0), (1438, 0.0), (1439, 0.0), (1440, 0.0), (1441, 0.0), (1442, 0.0047017635871687245), (1443, 0.004899858397279449), (1444, 0.0), (1445, 0.0), (1446, 0.0), (1447, 0.012018277416205364), (1448, 0.004388286133955837), (1449, 0.014478457385078324), (1450, 0.019284427820233284), (1451, 0.01291827020082238), (1452, 0.014536633117109279), (1453, 0.0), (1454, 0.005216366697066279), (1455, 0.004743419888293865), (1456, 0.022721584650234043), (1457, 0.016615488676345186), (1458, 0.004019589586927498), (1459, 0.0), (1460, 0.0), (1461, 0.018821818048940217), (1462, 0.004356056500222122), (1463, 0.03529940229103336), (1464, 0.009980998006918646), (1465, 0.0), (1466, 0.0), (1467, 0.013966414629285294), (1468, 0.015736342437672815), (1469, 0.03261657672113685), (1470, 0.018467480730079165), (1471, 0.04070428552764654), (1472, 0.004804405803813839), (1473, 0.0), (1474, 0.0), (1475, 0.0), (1476, 0.0), (1477, 0.016374950845775303), (1478, 0.004547808167130866), (1479, 0.0), (1480, 0.012783028996183233), (1481, 0.004596565806320609), (1482, 0.010650442534792717), (1483, 0.004712354541379802), (1484, 0.03033716190299164), (1485, 0.0), (1486, 0.04407818768797922), (1487, 0.025385002992380848), (1488, 0.00476113152757825), (1489, 0.0053364969429291025), (1490, 0.0), (1491, 0.0), (1492, 0.010544516122094323), (1493, 0.013259026422203547), (1494, 0.11308607314520636), (1495, 0.0), (1496, 0.0), (1497, 0.0), (1498, 0.05262933293198675), (1499, 0.020491987925508385), (1500, 0.0176284617171595), (1501, 0.05007734928596952), (1502, 0.023762979705822473), (1503, 0.0), (1504, 0.0), (1505, 0.017804725799136136), (1506, 0.0032523077949412793), (1507, 0.0), (1508, 0.0), (1509, 0.01090136095158463), (1510, 0.03236442062244604), (1511, 0.02194789524073374), (1512, 0.0), (1513, 0.023199669251556695), (1514, 0.03497770026594708), (1515, 0.07739891227550745), (1516, 0.0), (1517, 0.0), (1518, 0.0), (1519, 0.014756397287353524), (1520, 0.0), (1521, 0.0), (1522, 0.0), (1523, 0.04465124085828867), (1524, 0.0), (1525, 0.0), (1526, 0.0), (1527, 0.0), (1528, 0.016205248625945017), (1529, 0.01112467295382602), (1530, 0.018428297693726902), (1531, 0.014531222714213806), (1532, 0.020112576582991416), (1533, 0.0), (1534, 0.034846773757189364), (1535, 0.0224994879950911), (1536, 0.027824066108500134), (1537, 0.005084630492333509), (1538, 0.022119848758828956), (1539, 0.021338369737946276), (1540, 0.0), (1541, 0.0), (1542, 0.00491707394291747), (1543, 0.0), (1544, 0.0), (1545, 0.0), (1546, 0.01935842092626072), (1547, 0.0), (1548, 0.03489831061297426), (1549, 0.0), (1550, 0.0), (1551, 0.013516881566822535), (1552, 0.02329957098476164), (1553, 0.0), (1554, 0.02477534016751095), (1555, 0.012802931225477135), (1556, 0.008433044270994249), (1557, 0.07874626018830837), (1558, 0.0), (1559, 0.0312697986095331), (1560, 0.04121409557140622), (1561, 0.011711789866493166), (1562, 0.01273866244336781), (1563, 0.0), (1564, 0.019063390804694647), (1565, 0.015392041204290653), (1566, 0.022520595292566087), (1567, 0.0), (1568, 0.012550320048648863), (1569, 0.0), (1570, 0.0), (1571, 0.0), (1572, 0.019478194147913873), (1573, 0.013548743509222732), (1574, 0.0), (1575, 0.03609470597823926), (1576, 0.003803977826605125), (1577, 0.0), (1578, 0.053334232570077106), (1579, 0.03772217501526627), (1580, 0.027012192227843432), (1581, 0.0), (1582, 0.0), (1583, 0.0), (1584, 0.01621313568670377), (1585, 0.0), (1586, 0.03699641834075561), (1587, 0.027613126344206915), (1588, 0.043176854615188366), (1589, 0.017477013717109833), (1590, 0.03520882487369969), (1591, 0.005500267923986093), (1592, 0.01721809875085727), (1593, 0.0), (1594, 0.013642267210164566), (1595, 0.038735310713821164), (1596, 0.0), (1597, 0.0), (1598, 0.0), (1599, 0.0), (1600, 0.0), (1601, 0.0), (1602, 0.0), (1603, 0.0), (1604, 0.0), (1605, 0.0), (1606, 0.0), (1607, 0.0), (1608, 0.019862602386141227), (1609, 0.02553670775458724), (1610, 0.0), (1611, 0.022506833652298386), (1612, 0.0), (1613, 0.041631464375004756), (1614, 0.014712579202938534), (1615, 0.0), (1616, 0.0), (1617, 0.0), (1618, 0.0), (1619, 0.0), (1620, 0.02092467586214577), (1621, 0.01669379535864085), (1622, 0.042075243485975376), (1623, 0.02311412580474305), (1624, 0.0), (1625, 0.010956626447063507), (1626, 0.0), (1627, 0.011756075861307468), (1628, 0.0), (1629, 0.027061157866108784), (1630, 0.01304942150964324), (1631, 0.03427931116621017), (1632, 0.013186088475863904), (1633, 0.01314113277596882), (1634, 0.008923751656290486), (1635, 0.013487641258136462), (1636, 0.02813777948883335), (1637, 0.0), (1638, 0.0), (1639, 0.06139180062095122), (1640, 0.0), (1641, 0.0), (1642, 0.0), (1643, 0.036975402279879444), (1644, 0.0), (1645, 0.04949370657754609), (1646, 0.009803902297227406), (1647, 0.054489298794504294), (1648, 0.0), (1649, 0.024936554940261896), (1650, 0.0), (1651, 0.036416782252996244), (1652, 0.0), (1653, 0.03934239762740285), (1654, 0.0), (1655, 0.0), (1656, 0.0), (1657, 0.016034031659177446), (1658, 0.0), (1659, 0.005062086014395072), (1660, 0.0), (1661, 0.014809966052216803), (1662, 0.02936434017547695), (1663, 0.011478866865794466), (1664, 0.04292542471486402), (1665, 0.014941162979245503), (1666, 0.0), (1667, 0.023904264701064895), (1668, 0.01717836781290849), (1669, 0.0), (1670, 0.0), (1671, 0.03272333487028657), (1672, 0.02048568948445886), (1673, 0.02083294966287963), (1674, 0.0), (1675, 0.024712757903549404), (1676, 0.0), (1677, 0.01396723647428855), (1678, 0.004722057214625571), (1679, 0.0), (1680, 0.004313198278169296), (1681, 0.005214011268447719), (1682, 0.0), (1683, 0.0), (1684, 0.0), (1685, 0.0), (1686, 0.0), (1687, 0.005035412528617262), (1688, 0.018666631303274436), (1689, 0.0), (1690, 0.0), (1691, 0.08556615667479593), (1692, 0.0), (1693, 0.0), (1694, 0.004216630457000304), (1695, 0.0), (1696, 0.0220659487434144), (1697, 0.0), (1698, 0.0), (1699, 0.01189890675461915), (1700, 0.02132690591343953), (1701, 0.017769022005206775), (1702, 0.0), (1703, 0.0), (1704, 0.0), (1705, 0.012002265619365715), (1706, 0.0), (1707, 0.0), (1708, 0.0), (1709, 0.10290714815749846), (1710, 0.021096318849065987), (1711, 0.0), (1712, 0.019896001689369388), (1713, 0.005392839038089217), (1714, 0.0), (1715, 0.04680928219566846), (1716, 0.14069083216440637), (1717, 0.0), (1718, 0.06835980974350006), (1719, 0.04047775284202046), (1720, 0.0), (1721, 0.0), (1722, 0.07407798573605906), (1723, 0.012910620487435746), (1724, 0.014808106543828688), (1725, 0.0), (1726, 0.031604070798894525), (1727, 0.0), (1728, 0.03873309241080141), (1729, 0.020381775944885154), (1730, 0.0), (1731, 0.019625947280237376), (1732, 0.00507589199257496), (1733, 0.020071575418506665), (1734, 0.0), (1735, 0.023077640693605937), (1736, 0.0), (1737, 0.0), (1738, 0.0), (1739, 0.004270231624901361), (1740, 0.02304494651862031), (1741, 0.0122832774111948), (1742, 0.0), (1743, 0.0), (1744, 0.017463378741309703), (1745, 0.046499709623703075), (1746, 0.0), (1747, 0.0), (1748, 0.0), (1749, 0.004454333358134618), (1750, 0.031810944755381834), (1751, 0.0), (1752, 0.036914997326953865), (1753, 0.035519844710809795), (1754, 0.0), (1755, 0.0), (1756, 0.03580155387957571), (1757, 0.023573864507570264), (1758, 0.0), (1759, 0.036810653992813046), (1760, 0.014753754804236522), (1761, 0.016307266663227817), (1762, 0.01086999247748047), (1763, 0.0), (1764, 0.0), (1765, 0.0), (1766, 0.0), (1767, 0.0), (1768, 0.012527575718924657), (1769, 0.0), (1770, 0.0), (1771, 0.0), (1772, 0.03500921674613376), (1773, 0.01347453711023833), (1774, 0.03511063642433249), (1775, 0.0), (1776, 0.0), (1777, 0.0), (1778, 0.022698521613395993), (1779, 0.016989415980122716), (1780, 0.0), (1781, 0.004040916612681609), (1782, 0.0), (1783, 0.016704373654559932), (1784, 0.014490174781749333), (1785, 0.0), (1786, 0.0), (1787, 0.0), (1788, 0.004465871766693725), (1789, 0.004385467210396803), (1790, 0.0), (1791, 0.023956084150773247), (1792, 0.0), (1793, 0.03818209747529706), (1794, 0.028617258745924017), (1795, 0.03307021378657657), (1796, 0.014559752703798176), (1797, 0.0), (1798, 0.0), (1799, 0.02464574515168602), (1800, 0.0), (1801, 0.0), (1802, 0.015121106887328303), (1803, 0.05105576271235841), (1804, 0.0), (1805, 0.009671293372003573), (1806, 0.0), (1807, 0.0), (1808, 0.0200692727631943), (1809, 0.004292073136824485), (1810, 0.04333153040104039), (1811, 0.015829190886745795), (1812, 0.039977959103821875), (1813, 0.01748241846689245), (1814, 0.0), (1815, 0.005497607765392245), (1816, 0.045198461334406366), (1817, 0.022400771328638217), (1818, 0.0), (1819, 0.012812733178607106), (1820, 0.0), (1821, 0.019209517944468898), (1822, 0.0), (1823, 0.0), (1824, 0.008463326507385793), (1825, 0.008612680804657444), (1826, 0.0), (1827, 0.0), (1828, 0.0), (1829, 0.07256183912520316), (1830, 0.0), (1831, 0.0), (1832, 0.004850398963412606), (1833, 0.020031158298412902), (1834, 0.0), (1835, 0.050134903329074554), (1836, 0.019711663746356772), (1837, 0.0), (1838, 0.011852029230970569), (1839, 0.0), (1840, 0.012513120338494225), (1841, 0.0), (1842, 0.021895126809363348), (1843, 0.021111685923450467), (1844, 0.04221853831346654), (1845, 0.03696154842060133), (1846, 0.02275889978039793), (1847, 0.0), (1848, 0.0), (1849, 0.04936124201938239), (1850, 0.0), (1851, 0.0), (1852, 0.051802636235382636), (1853, 0.005026954364375079), (1854, 0.0), (1855, 0.03627096186475638), (1856, 0.0), (1857, 0.033437132904052105), (1858, 0.0), (1859, 0.02632047514798242), (1860, 0.023013823706813985), (1861, 0.03961626912776764), (1862, 0.0), (1863, 0.00777597698058172), (1864, 0.050950263275363214), (1865, 0.004308431709888398), (1866, 0.0051857505975053475), (1867, 0.01762027002331587), (1868, 0.0), (1869, 0.14070880385963858), (1870, 0.0), (1871, 0.019046508338638513), (1872, 0.0), (1873, 0.024985918103566068), (1874, 0.0), (1875, 0.046044255506502874), (1876, 0.004776473447671737), (1877, 0.011627144014336505), (1878, 0.0), (1879, 0.02420978745655988), (1880, 0.0), (1881, 0.00496736191249008), (1882, 0.008821698752077922), (1883, 0.0), (1884, 0.0), (1885, 0.0), (1886, 0.0), (1887, 0.0), (1888, 0.0), (1889, 0.022610463420958786), (1890, 0.0), (1891, 0.008925573562641878), (1892, 0.014490155868835525), (1893, 0.0), (1894, 0.0), (1895, 0.0), (1896, 0.0), (1897, 0.017301841858664138), (1898, 0.0), (1899, 0.00839365143892661), (1900, 0.019935696337235867), (1901, 0.004867261788510852), (1902, 0.024556662146479682), (1903, 0.016607352601874553), (1904, 0.033319240636306265), (1905, 0.026688297641942953), (1906, 0.0), (1907, 0.039367923679153455), (1908, 0.03578415329105661), (1909, 0.0), (1910, 0.004012116512218484), (1911, 0.01843632434348368), (1912, 0.011665749157293367), (1913, 0.03567187698045138), (1914, 0.012925283388071116), (1915, 0.0), (1916, 0.038541177335718116), (1917, 0.0), (1918, 0.005016472712648792), (1919, 0.0), (1920, 0.010363369184246761), (1921, 0.02392809769814692), (1922, 0.0), (1923, 0.0), (1924, 0.01823054581873117), (1925, 0.02750372580598795), (1926, 0.0323775709033617), (1927, 0.09219753656190723), (1928, 0.02517811290938023), (1929, 0.0), (1930, 0.023004614796443938), (1931, 0.004852330444002857), (1932, 0.023125651791087196), (1933, 0.013405759393204698), (1934, 0.004240552601255688), (1935, 0.0565730380368126), (1936, 0.0), (1937, 0.026540710695855736), (1938, 0.0), (1939, 0.006302719632976592), (1940, 0.029173636453289506), (1941, 0.005684206871722456), (1942, 0.029737108787853878), (1943, 0.0), (1944, 0.0), (1945, 0.0), (1946, 0.0), (1947, 0.0), (1948, 0.01216492191866201), (1949, 0.016543485001802076), (1950, 0.018191248444259404), (1951, 0.012927670376116019), (1952, 0.01718351394389676), (1953, 0.02520186707599739), (1954, 0.021587056574892564), (1955, 0.0), (1956, 0.0), (1957, 0.0), (1958, 0.03528741888583803), (1959, 0.07633761015338918), (1960, 0.0052582635422219045), (1961, 0.0), (1962, 0.046034533984316756), (1963, 0.06486129806684168), (1964, 0.014424909155269337), (1965, 0.0), (1966, 0.025999525277595997), (1967, 0.0046137022123945255), (1968, 0.03710360146348441), (1969, 0.02149256649625121), (1970, 0.049813939226683916), (1971, 0.018967521609784536), (1972, 0.0), (1973, 0.011462319169426671), (1974, 0.0), (1975, 0.035775149399081475), (1976, 0.02513764798553334), (1977, 0.0), (1978, 0.0), (1979, 0.011211431184211976), (1980, 0.0), (1981, 0.0), (1982, 0.01626110406945366), (1983, 0.06646548337887354), (1984, 0.016317248042165857), (1985, 0.013896898649066083), (1986, 0.0), (1987, 0.0), (1988, 0.0), (1989, 0.0038144873573739304), (1990, 0.012529663359651399), (1991, 0.03419786738382019), (1992, 0.03375467230932424), (1993, 0.023832364857420355), (1994, 0.0), (1995, 0.019184806081123603), (1996, 0.023984072140196534), (1997, 0.005159833232914876), (1998, 0.04331932559922648), (1999, 0.0), (2000, 0.0), (2001, 0.0), (2002, 0.0), (2003, 0.0), (2004, 0.0), (2005, 0.0), (2006, 0.0), (2007, 0.0), (2008, 0.01551859518095781), (2009, 0.014431394648582122), (2010, 0.0), (2011, 0.0), (2012, 0.005461671904560838), (2013, 0.02161344871564571), (2014, 0.0), (2015, 0.004959076910717237), (2016, 0.01163564957913754), (2017, 0.009188723047875675), (2018, 0.014480656439642324), (2019, 0.0), (2020, 0.0), (2021, 0.01921683208604837), (2022, 0.0), (2023, 0.0), (2024, 0.004547802465966501), (2025, 0.0), (2026, 0.017827464212182773), (2027, 0.0), (2028, 0.014491702033945597), (2029, 0.01787186128974541), (2030, 0.0), (2031, 0.012410353348587776), (2032, 0.05282627147621791), (2033, 0.020355203097146123), (2034, 0.0), (2035, 0.0849540038900401), (2036, 0.0), (2037, 0.005175652080653475), (2038, 0.033053287504531105), (2039, 0.028251671379983963), (2040, 0.02896225177381346), (2041, 0.0), (2042, 0.0), (2043, 0.0), (2044, 0.016950161065511605), (2045, 0.04390680627025621), (2046, 0.0), (2047, 0.019774619861288648), (2048, 0.0), (2049, 0.0), (2050, 0.0), (2051, 0.0), (2052, 0.0), (2053, 0.004903159493368719), (2054, 0.0), (2055, 0.0), (2056, 0.008676304398722126), (2057, 0.013337414789216401), (2058, 0.016020924447648088), (2059, 0.007852446805833427), (2060, 0.07178241693623094), (2061, 0.022791687440633646), (2062, 0.05207172522433082), (2063, 0.0), (2064, 0.016482730476068665), (2065, 0.0), (2066, 0.005342607032670275), (2067, 0.0), (2068, 0.0), (2069, 0.0046661598664538605), (2070, 0.023203106830517038), (2071, 0.0), (2072, 0.0), (2073, 0.00917626491073744), (2074, 0.012141243315683406), (2075, 0.006222864799923974), (2076, 0.0), (2077, 0.0), (2078, 0.017896415495494835), (2079, 0.02089718076292858), (2080, 0.0), (2081, 0.0), (2082, 0.012159415647387678), (2083, 0.0), (2084, 0.005125388717280564), (2085, 0.0), (2086, 0.018908292440983934), (2087, 0.0), (2088, 0.0049757584382167435), (2089, 0.01875078923676962), (2090, 0.01852862635059515), (2091, 0.02281573011846515), (2092, 0.0), (2093, 0.004392306981494409), (2094, 0.060178692771423674), (2095, 0.0), (2096, 0.005062020564173703), (2097, 0.012196889524228817), (2098, 0.0), (2099, 0.0), (2100, 0.0), (2101, 0.01970574214799619), (2102, 0.0), (2103, 0.0), (2104, 0.005071986643796015), (2105, 0.04775963680298302), (2106, 0.0), (2107, 0.0), (2108, 0.0), (2109, 0.03073527187465211), (2110, 0.012618450623048783), (2111, 0.0364654763804134), (2112, 0.017612645338636237), (2113, 0.04089898394732411), (2114, 0.03378576146413897), (2115, 0.010059906895163747), (2116, 0.013150727590329026), (2117, 0.01168771922360717), (2118, 0.0), (2119, 0.014803222088961822), (2120, 0.0), (2121, 0.03384170274484878), (2122, 0.0), (2123, 0.0), (2124, 0.0), (2125, 0.01623696752745269), (2126, 0.0), (2127, 0.0), (2128, 0.0), (2129, 0.0), (2130, 0.016130597936801036), (2131, 0.0), (2132, 0.0), (2133, 0.0), (2134, 0.0), (2135, 0.01697408458221342), (2136, 0.024387942678557515), (2137, 0.0), (2138, 0.013810032290716305), (2139, 0.01290757041610472), (2140, 0.0), (2141, 0.0), (2142, 0.0), (2143, 0.011649706686989341), (2144, 0.16410832029459974), (2145, 0.0), (2146, 0.0), (2147, 0.0), (2148, 0.0), (2149, 0.0), (2150, 0.02167042985274879), (2151, 0.0), (2152, 0.017187746344173915), (2153, 0.0), (2154, 0.006083217793614302), (2155, 0.01862580958449689), (2156, 0.0), (2157, 0.0), (2158, 0.0), (2159, 0.0), (2160, 0.0), (2161, 0.0), (2162, 0.0), (2163, 0.0), (2164, 0.0), (2165, 0.0), (2166, 0.0), (2167, 0.04818161509001943), (2168, 0.0), (2169, 0.0), (2170, 0.0), (2171, 0.0), (2172, 0.0), (2173, 0.0), (2174, 0.04217009205970259), (2175, 0.0), (2176, 0.0), (2177, 0.015262603816251948), (2178, 0.030645427372513454), (2179, 0.0), (2180, 0.030585837970216787), (2181, 0.018112959208775835), (2182, 0.026883302275206935), (2183, 0.0), (2184, 0.0), (2185, 0.0), (2186, 0.0), (2187, 0.0), (2188, 0.028136766427910104), (2189, 0.0), (2190, 0.05458413189509439), (2191, 0.014311049332839762), (2192, 0.012270642911993883), (2193, 0.0), (2194, 0.00933819070426099), (2195, 0.0), (2196, 0.005022252660094149), (2197, 0.004016780634401138), (2198, 0.03852757161942901), (2199, 0.0), (2200, 0.0), (2201, 0.047576099355182706), (2202, 0.021081911335090946), (2203, 0.01675057158096396), (2204, 0.042504696170797135), (2205, 0.027109375292212072), (2206, 0.004539472616091402), (2207, 0.0), (2208, 0.0050335647286804865), (2209, 0.02725286184111553), (2210, 0.016224468196997393), (2211, 0.028960551381101263), (2212, 0.0), (2213, 0.0), (2214, 0.005163687760471981), (2215, 0.0), (2216, 0.004654461997433947), (2217, 0.018585592804793157), (2218, 0.0), (2219, 0.0), (2220, 0.0), (2221, 0.014759050599871704), (2222, 0.027655201219639814), (2223, 0.0), (2224, 0.004506542161391473), (2225, 0.022421520338844265), (2226, 0.09805778519517545), (2227, 0.01859493649786664), (2228, 0.0), (2229, 0.015029604859212276), (2230, 0.0), (2231, 0.017634103164713255), (2232, 0.043846800474173324), (2233, 0.019482590253524924), (2234, 0.012514467071256072), (2235, 0.01639737149720284), (2236, 0.01619003597405202), (2237, 0.0439977783203393), (2238, 0.0), (2239, 0.0), (2240, 0.015656935826149403), (2241, 0.07069317002922007), (2242, 0.0), (2243, 0.0), (2244, 0.0), (2245, 0.02505226490456579), (2246, 0.024914309740802984), (2247, 0.0), (2248, 0.0), (2249, 0.0), (2250, 0.05040751474854083), (2251, 0.0), (2252, 0.00511699178627529), (2253, 0.0), (2254, 0.017123943053254088), (2255, 0.01774353574455049), (2256, 0.0), (2257, 0.022970808006612848), (2258, 0.0), (2259, 0.0), (2260, 0.0), (2261, 0.0), (2262, 0.0), (2263, 0.023902574094246905), (2264, 0.030705826300474436), (2265, 0.016116840457713798), (2266, 0.0), (2267, 0.0), (2268, 0.0), (2269, 0.020604773033926122), (2270, 0.0), (2271, 0.0), (2272, 0.0), (2273, 0.029461625304443205), (2274, 0.0), (2275, 0.006431422362117076), (2276, 0.04370043805025584), (2277, 0.053615932166439326), (2278, 0.03196303981421937), (2279, 0.0), (2280, 0.022291012955157088), (2281, 0.0), (2282, 0.0), (2283, 0.023980381836188003), (2284, 0.013827089914662187), (2285, 0.016471954766117233), (2286, 0.07474920078426259), (2287, 0.0), (2288, 0.0), (2289, 0.0), (2290, 0.0), (2291, 0.0), (2292, 0.0813111977930068), (2293, 0.05465455522130736), (2294, 0.0), (2295, 0.013971543292963361), (2296, 0.01879822342057747), (2297, 0.0), (2298, 0.0), (2299, 0.0), (2300, 0.0), (2301, 0.0), (2302, 0.0), (2303, 0.021105426557012568), (2304, 0.0), (2305, 0.0), (2306, 0.0), (2307, 0.0), (2308, 0.0), (2309, 0.0), (2310, 0.0), (2311, 0.047166628389642536), (2312, 0.0), (2313, 0.0), (2314, 0.027459036627949764), (2315, 0.0), (2316, 0.012005467479119847), (2317, 0.04639376262668906), (2318, 0.03755728302987888), (2319, 0.0), (2320, 0.0), (2321, 0.0), (2322, 0.0), (2323, 0.0), (2324, 0.0), (2325, 0.023120061058239973), (2326, 0.017669653805537425), (2327, 0.027994887819213447), (2328, 0.005829001169170159), (2329, 0.0), (2330, 0.023791869870272098), (2331, 0.0), (2332, 0.039627565714034925), (2333, 0.0), (2334, 0.004888211350348683), (2335, 0.0), (2336, 0.004722534275475671), (2337, 0.018795927190224816), (2338, 0.0), (2339, 0.0), (2340, 0.0), (2341, 0.0), (2342, 0.0), (2343, 0.0), (2344, 0.0159906860385168), (2345, 0.0), (2346, 0.0), (2347, 0.0), (2348, 0.0044733494739893406), (2349, 0.0), (2350, 0.0), (2351, 0.0), (2352, 0.01041336849321876), (2353, 0.0), (2354, 0.0), (2355, 0.01876025545424409), (2356, 0.0), (2357, 0.030376039822215983), (2358, 0.0), (2359, 0.028032972405719205), (2360, 0.019777090400171365), (2361, 0.0), (2362, 0.0), (2363, 0.0), (2364, 0.0), (2365, 0.061737390661861666), (2366, 0.0), (2367, 0.0), (2368, 0.0), (2369, 0.019409252254659996), (2370, 0.05445097968781553), (2371, 0.0), (2372, 0.013548972847484245), (2373, 0.007508761915139011), (2374, 0.04042482944365991), (2375, 0.0), (2376, 0.0), (2377, 0.017764033687527454), (2378, 0.0), (2379, 0.0), (2380, 0.0), (2381, 0.0), (2382, 0.019169471230531233), (2383, 0.00528059532005656), (2384, 0.0), (2385, 0.0), (2386, 0.0), (2387, 0.0), (2388, 0.0), (2389, 0.0), (2390, 0.03788937199325217), (2391, 0.0), (2392, 0.0), (2393, 0.07481600000457035), (2394, 0.0), (2395, 0.0), (2396, 0.0), (2397, 0.0), (2398, 0.009199414297789352), (2399, 0.0), (2400, 0.010183657324286891), (2401, 0.0), (2402, 0.01103472772271759), (2403, 0.0), (2404, 0.0), (2405, 0.012672836292736066), (2406, 0.0055785020996670645), (2407, 0.0), (2408, 0.0), (2409, 0.0), (2410, 0.0), (2411, 0.0), (2412, 0.004123741020008835), (2413, 0.023603888682875863), (2414, 0.0), (2415, 0.0), (2416, 0.0), (2417, 0.0), (2418, 0.0), (2419, 0.0), (2420, 0.0), (2421, 0.04157884690881318), (2422, 0.0), (2423, 0.0), (2424, 0.0), (2425, 0.0), (2426, 0.0), (2427, 0.00551651700608958), (2428, 0.03566699356723985), (2429, 0.004402373264396121), (2430, 0.0), (2431, 0.0), (2432, 0.030368746244861765), (2433, 0.0), (2434, 0.0), (2435, 0.0), (2436, 0.0), (2437, 0.0), (2438, 0.0), (2439, 0.021967889613901857), (2440, 0.0), (2441, 0.009866861169539517), (2442, 0.06255182752480799), (2443, 0.03538809958128883), (2444, 0.0), (2445, 0.0), (2446, 0.0), (2447, 0.04379066086931658), (2448, 0.0), (2449, 0.0), (2450, 0.027830821453412213), (2451, 0.08440218508385841), (2452, 0.0), (2453, 0.00815843655589224), (2454, 0.0), (2455, 0.0), (2456, 0.023096631809886393), (2457, 0.0), (2458, 0.0), (2459, 0.005780540858303863), (2460, 0.03195235277445744), (2461, 0.0), (2462, 0.0), (2463, 0.07117766158098264), (2464, 0.0), (2465, 0.02359291164831434), (2466, 0.0), (2467, 0.023617858854449354), (2468, 0.005548988687286575), (2469, 0.0), (2470, 0.0), (2471, 0.017549547429359325), (2472, 0.0), (2473, 0.017726960608628023), (2474, 0.0), (2475, 0.02632553219700002), (2476, 0.030845603708060415), (2477, 0.017240875344751407), (2478, 0.0), (2479, 0.04469395208487534), (2480, 0.013634682907914641), (2481, 0.0), (2482, 0.016873419575986277), (2483, 0.0), (2484, 0.0237374240040484), (2485, 0.0), (2486, 0.01821926280221127), (2487, 0.0), (2488, 0.021804454997026768), (2489, 0.0), (2490, 0.0), (2491, 0.0), (2492, 0.0), (2493, 0.019733825365709567), (2494, 0.0), (2495, 0.0), (2496, 0.029463829717185808), (2497, 0.03377846976526538), (2498, 0.008868780002808878), (2499, 0.0), (2500, 0.024769774263908813), (2501, 0.0226107564158481), (2502, 0.0), (2503, 0.017856550979002395), (2504, 0.0), (2505, 0.0), (2506, 0.0047646116401190335), (2507, 0.0), (2508, 0.0), (2509, 0.0), (2510, 0.0), (2511, 0.0), (2512, 0.0), (2513, 0.020754577735201174), (2514, 0.0), (2515, 0.0), (2516, 0.019396150983030068), (2517, 0.0), (2518, 0.020141485144850563), (2519, 0.0), (2520, 0.0), (2521, 0.02311322005748939), (2522, 0.0050615571093085635), (2523, 0.0), (2524, 0.012858493107765386), (2525, 0.022533824775286374), (2526, 0.0), (2527, 0.03829705429950851), (2528, 0.011315353634610106), (2529, 0.0), (2530, 0.0), (2531, 0.0), (2532, 0.0), (2533, 0.0), (2534, 0.007958978967053802), (2535, 0.0), (2536, 0.14339507573564866), (2537, 0.0), (2538, 0.0), (2539, 0.015411572245912764), (2540, 0.004526346156531903), (2541, 0.030660736683971596), (2542, 0.0), (2543, 0.022969528389078925), (2544, 0.03650202272569462), (2545, 0.0), (2546, 0.0), (2547, 0.0), (2548, 0.0), (2549, 0.0), (2550, 0.0374942826190382), (2551, 0.0), (2552, 0.0), (2553, 0.04762320103150894), (2554, 0.0), (2555, 0.005400605087447439), (2556, 0.0), (2557, 0.0), (2558, 0.004749816236623632), (2559, 0.0), (2560, 0.0), (2561, 0.0), (2562, 0.0), (2563, 0.0), (2564, 0.011185596755210383), (2565, 0.0), (2566, 0.0), (2567, 0.005635716620529137), (2568, 0.06392162996674547), (2569, 0.0), (2570, 0.04794708339485751), (2571, 0.03438994959782578), (2572, 0.0), (2573, 0.025825959772608917), (2574, 0.010925776618732883), (2575, 0.0), (2576, 0.005372761061293678), (2577, 0.0), (2578, 0.016594404292054325), (2579, 0.01365781431309723), (2580, 0.024225481942509446), (2581, 0.0), (2582, 0.0), (2583, 0.0), (2584, 0.0), (2585, 0.0), (2586, 0.0), (2587, 0.0), (2588, 0.0), (2589, 0.024089316270345086), (2590, 0.0), (2591, 0.0), (2592, 0.0), (2593, 0.0), (2594, 0.0), (2595, 0.0), (2596, 0.0081815176639916), (2597, 0.0), (2598, 0.01509755291952777), (2599, 0.03405233617312088), (2600, 0.0), (2601, 0.10736336473140194), (2602, 0.003940638862017523), (2603, 0.0), (2604, 0.0), (2605, 0.018532574005549383), (2606, 0.03254239828574125), (2607, 0.004256915296965051), (2608, 0.015772024094247505), (2609, 0.0), (2610, 0.0), (2611, 0.0), (2612, 0.0), (2613, 0.047992493900811534), (2614, 0.0), (2615, 0.011318740693726858), (2616, 0.0), (2617, 0.01212532532329943), (2618, 0.03000644857605407), (2619, 0.0), (2620, 0.023359055224747394), (2621, 0.004131868498721008), (2622, 0.01909143744301433), (2623, 0.0), (2624, 0.0), (2625, 0.0), (2626, 0.0052122532068937626), (2627, 0.0), (2628, 0.0), (2629, 0.04311638577477718), (2630, 0.014647676096485568), (2631, 0.0), (2632, 0.015582427159339031), (2633, 0.0), (2634, 0.0), (2635, 0.0), (2636, 0.0), (2637, 0.01965393405994114), (2638, 0.018130979429234664), (2639, 0.0), (2640, 0.0), (2641, 0.0), (2642, 0.0171896584768312), (2643, 0.0), (2644, 0.06013949719900355), (2645, 0.006111982761310734), (2646, 0.0), (2647, 0.0048101152129432995), (2648, 0.0), (2649, 0.0), (2650, 0.02543352554233744), (2651, 0.0), (2652, 0.02706774659766285), (2653, 0.0), (2654, 0.06431488249276016), (2655, 0.006293740219789358), (2656, 0.0), (2657, 0.0), (2658, 0.0), (2659, 0.0), (2660, 0.005879216143007714), (2661, 0.03306198566683971), (2662, 0.0), (2663, 0.035307531772426244), (2664, 0.0), (2665, 0.0), (2666, 0.016320120256070377), (2667, 0.0), (2668, 0.0048865654969798685), (2669, 0.0), (2670, 0.0), (2671, 0.0), (2672, 0.0), (2673, 0.0), (2674, 0.0), (2675, 0.019189850520916648), (2676, 0.0), (2677, 0.0), (2678, 0.03986750351399032), (2679, 0.021175550058509796), (2680, 0.09379920421669748), (2681, 0.021514099194535268), (2682, 0.029394970340970522), (2683, 0.048808517296886324), (2684, 0.0), (2685, 0.021503345327940064), (2686, 0.017465871321719867), (2687, 0.022016379926546797), (2688, 0.0), (2689, 0.02385391134884945), (2690, 0.017099730888590153), (2691, 0.01847027388730923), (2692, 0.0041240318599223), (2693, 0.0), (2694, 0.0), (2695, 0.015977201936436723), (2696, 0.0), (2697, 0.044936236552488934), (2698, 0.01092031002003618), (2699, 0.022325438784048704), (2700, 0.005335229020766544), (2701, 0.028875850449608623), (2702, 0.0), (2703, 0.0), (2704, 0.019840456947117075), (2705, 0.0), (2706, 0.0), (2707, 0.0), (2708, 0.04619805881128797), (2709, 0.0), (2710, 0.0), (2711, 0.0214115661982506), (2712, 0.0), (2713, 0.017391985435770172), (2714, 0.005026237965545256), (2715, 0.023371690250059675), (2716, 0.004574517128733375), (2717, 0.0), (2718, 0.0), (2719, 0.0), (2720, 0.0), (2721, 0.0), (2722, 0.0), (2723, 0.019962614363230324), (2724, 0.01999569221945745), (2725, 0.0), (2726, 0.0), (2727, 0.005712170991072236), (2728, 0.020369024618018667), (2729, 0.01894032159723199), (2730, 0.030077180040681883), (2731, 0.0), (2732, 0.012426623660312804), (2733, 0.015277161758563248), (2734, 0.024478559352482637), (2735, 0.0), (2736, 0.023767613360192653), (2737, 0.0), (2738, 0.02160278324700598), (2739, 0.0), (2740, 0.0), (2741, 0.010970958648858086), (2742, 0.004409406625416369), (2743, 0.0), (2744, 0.0), (2745, 0.018477163355065638), (2746, 0.0), (2747, 0.0), (2748, 0.0), (2749, 0.016157291436269382), (2750, 0.0), (2751, 0.030648182569148877), (2752, 0.0), (2753, 0.0), (2754, 0.0), (2755, 0.053019538423127566), (2756, 0.0213719616215226), (2757, 0.0), (2758, 0.0), (2759, 0.013401023845696615), (2760, 0.01369417784423114), (2761, 0.0), (2762, 0.01893748672605355), (2763, 0.017877432740376432), (2764, 0.025418829219848053), (2765, 0.0), (2766, 0.01775644483237954), (2767, 0.0), (2768, 0.006750936474857672), (2769, 0.0), (2770, 0.01468084554777163), (2771, 0.004029827961073576), (2772, 0.0), (2773, 0.00898891195072805), (2774, 0.0), (2775, 0.0), (2776, 0.026364980642513906), (2777, 0.0), (2778, 0.032672017451268937), (2779, 0.021260179327046044), (2780, 0.016522743087587485), (2781, 0.010697556358991436), (2782, 0.02389583807079527), (2783, 0.0), (2784, 0.004854217940095118), (2785, 0.023141654120279), (2786, 0.0), (2787, 0.004515924674932042), (2788, 0.004834971955846787), (2789, 0.03814911883425456), (2790, 0.04707561734208078), (2791, 0.05016302029959536), (2792, 0.0), (2793, 0.04936871347727921), (2794, 0.0), (2795, 0.005997609902485271), (2796, 0.025486971923930173), (2797, 0.04909733590307863), (2798, 0.0), (2799, 0.0), (2800, 0.0473721165836113), (2801, 0.011797571856783557), (2802, 0.11595751592167765), (2803, 0.004321958924273247), (2804, 0.01775876636372069), (2805, 0.0), (2806, 0.0), (2807, 0.0), (2808, 0.0046018781946470825), (2809, 0.05501313686086909), (2810, 0.0), (2811, 0.01953825900800238), (2812, 0.0), (2813, 0.018344847963765867), (2814, 0.0), (2815, 0.0), (2816, 0.0), (2817, 0.0), (2818, 0.0), (2819, 0.005031011549885247), (2820, 0.00415395808013234), (2821, 0.0), (2822, 0.0), (2823, 0.01733158048312399), (2824, 0.05292790073895708), (2825, 0.0), (2826, 0.0), (2827, 0.0188019424182852), (2828, 0.03669754297903523), (2829, 0.008626259631405621), (2830, 0.0), (2831, 0.0), (2832, 0.0), (2833, 0.0), (2834, 0.0), (2835, 0.008228066476812457), (2836, 0.0), (2837, 0.03223475408668514), (2838, 0.0), (2839, 0.008932217572188712), (2840, 0.005296852901557952), (2841, 0.040505859907637484), (2842, 0.031252599773186875), (2843, 0.019714461332852384), (2844, 0.0), (2845, 0.0), (2846, 0.0), (2847, 0.004688947008852058), (2848, 0.0), (2849, 0.0), (2850, 0.017644777651192836), (2851, 0.027400831739073078), (2852, 0.0), (2853, 0.0), (2854, 0.005274433472381743), (2855, 0.0), (2856, 0.0), (2857, 0.0), (2858, 0.0), (2859, 0.0), (2860, 0.019261660935592784), (2861, 0.0), (2862, 0.0), (2863, 0.0), (2864, 0.03500828012056846), (2865, 0.03673775152033639), (2866, 0.0), (2867, 0.0), (2868, 0.0), (2869, 0.0), (2870, 0.0), (2871, 0.012228610256154718), (2872, 0.0), (2873, 0.0), (2874, 0.010402573644981152), (2875, 0.0), (2876, 0.0), (2877, 0.0), (2878, 0.0), (2879, 0.01943377730651401), (2880, 0.0), (2881, 0.018072920726948903), (2882, 0.0), (2883, 0.0), (2884, 0.0), (2885, 0.0), (2886, 0.010693369315577957), (2887, 0.0), (2888, 0.0), (2889, 0.01542941901259127), (2890, 0.0), (2891, 0.0), (2892, 0.0), (2893, 0.0), (2894, 0.0), (2895, 0.0), (2896, 0.027189039068641223), (2897, 0.0), (2898, 0.019346685778625028), (2899, 0.07675152241136066), (2900, 0.0), (2901, 0.0), (2902, 0.0), (2903, 0.005325894613899845), (2904, 0.0), (2905, 0.0), (2906, 0.017794449315543893), (2907, 0.0), (2908, 0.044109895467500396), (2909, 0.0609459301814254), (2910, 0.015613122619820835), (2911, 0.0), (2912, 0.0), (2913, 0.0), (2914, 0.0), (2915, 0.06649201064830408), (2916, 0.0), (2917, 0.012569055255163528), (2918, 0.004575475992049198), (2919, 0.004906163325327199), (2920, 0.0), (2921, 0.010074688974716937), (2922, 0.0), (2923, 0.0), (2924, 0.0), (2925, 0.0038131066434405263), (2926, 0.0), (2927, 0.02151378961198413), (2928, 0.0), (2929, 0.022262332465808776), (2930, 0.0), (2931, 0.010138845578489928), (2932, 0.02109840592562471), (2933, 0.0), (2934, 0.0), (2935, 0.0), (2936, 0.0), (2937, 0.0), (2938, 0.025809784787741992), (2939, 0.005914993085717658), (2940, 0.0), (2941, 0.0), (2942, 0.0), (2943, 0.0), (2944, 0.034892972611165425), (2945, 0.0), (2946, 0.0), (2947, 0.004867678584563452), (2948, 0.0), (2949, 0.014694647573642007), (2950, 0.016871074691664358), (2951, 0.0), (2952, 0.01030433287721855), (2953, 0.0), (2954, 0.020335232269243175), (2955, 0.018129288080437105), (2956, 0.0), (2957, 0.0), (2958, 0.011351557068358602), (2959, 0.01679886078957686), (2960, 0.004843838057000615), (2961, 0.004674717684240227), (2962, 0.0), (2963, 0.005070829451550443), (2964, 0.022939130124850514), (2965, 0.0), (2966, 0.010945347866288554), (2967, 0.0), (2968, 0.046701093858574565), (2969, 0.0), (2970, 0.0), (2971, 0.0), (2972, 0.0), (2973, 0.0), (2974, 0.0), (2975, 0.0), (2976, 0.0), (2977, 0.0), (2978, 0.005164019036041873), (2979, 0.009781974556335515), (2980, 0.011950079011676024), (2981, 0.013631634914878126), (2982, 0.030450486590589305), (2983, 0.0), (2984, 0.022916713340456064), (2985, 0.022332651241164226), (2986, 0.0), (2987, 0.0), (2988, 0.004898246711901536), (2989, 0.0), (2990, 0.02464282247256164), (2991, 0.013936031440488396), (2992, 0.004428181955238542), (2993, 0.0), (2994, 0.0), (2995, 0.01682573277499572), (2996, 0.017561176959271438), (2997, 0.0), (2998, 0.0), (2999, 0.04969590351714616), (3000, 0.0), (3001, 0.029651482549936645), (3002, 0.04828737444035622), (3003, 0.0), (3004, 0.0), (3005, 0.013900309917803324), (3006, 0.0), (3007, 0.02379223635303381), (3008, 0.0), (3009, 0.0), (3010, 0.0), (3011, 0.015409285430881225), (3012, 0.00532456012140932), (3013, 0.030203425153940814), (3014, 0.0), (3015, 0.0), (3016, 0.0), (3017, 0.0), (3018, 0.011705154580781904), (3019, 0.005528653014988015), (3020, 0.0), (3021, 0.025252684829372228), (3022, 0.026178679097818573), (3023, 0.05595777257726957), (3024, 0.0), (3025, 0.0), (3026, 0.0), (3027, 0.029402841032328913), (3028, 0.0), (3029, 0.0), (3030, 0.0), (3031, 0.0), (3032, 0.0053158906588202225), (3033, 0.0), (3034, 0.03690276579969175), (3035, 0.004521192311965597), (3036, 0.017404103028242475), (3037, 0.0), (3038, 0.0), (3039, 0.0), (3040, 0.0), (3041, 0.0), (3042, 0.0), (3043, 0.030709047915065037), (3044, 0.0), (3045, 0.03706265996509431), (3046, 0.0), (3047, 0.016121500945134485), (3048, 0.057548309104581655), (3049, 0.005896758553067528), (3050, 0.0), (3051, 0.025324007796190318), (3052, 0.0), (3053, 0.01712159396251566), (3054, 0.03217176236171894), (3055, 0.0), (3056, 0.0), (3057, 0.02013785771566235), (3058, 0.027323004340791622), (3059, 0.0190191028338449), (3060, 0.0), (3061, 0.0), (3062, 0.0), (3063, 0.01569991158190085), (3064, 0.0), (3065, 0.01984419484189778), (3066, 0.0), (3067, 0.0), (3068, 0.03177677320215723), (3069, 0.01787653917666731), (3070, 0.06893423838708525), (3071, 0.0), (3072, 0.0), (3073, 0.0), (3074, 0.0), (3075, 0.0), (3076, 0.02914640607873896), (3077, 0.0), (3078, 0.0), (3079, 0.031068063016238975), (3080, 0.019788432233986342), (3081, 0.0), (3082, 0.0), (3083, 0.0673139805955311), (3084, 0.0), (3085, 0.004536964201153904), (3086, 0.014856792687506566), (3087, 0.0), (3088, 0.0), (3089, 0.021570171059654933), (3090, 0.0), (3091, 0.0), (3092, 0.009726886299254684), (3093, 0.0), (3094, 0.04290012075745749), (3095, 0.005098714869010201), (3096, 0.0), (3097, 0.0), (3098, 0.011069105994396347), (3099, 0.014193816505794389), (3100, 0.04677307010590864), (3101, 0.0498044061164151), (3102, 0.0), (3103, 0.0), (3104, 0.012156156112351484), (3105, 0.051876624238037405), (3106, 0.0), (3107, 0.0), (3108, 0.03431088525074355), (3109, 0.0), (3110, 0.03854423418572116), (3111, 0.010905527979875115), (3112, 0.005106856419416023), (3113, 0.0), (3114, 0.024735681321071453), (3115, 0.0), (3116, 0.0), (3117, 0.005444430861214207), (3118, 0.023163766363973794), (3119, 0.0), (3120, 0.0), (3121, 0.0), (3122, 0.023812242535170634), (3123, 0.04111896495688448), (3124, 0.004930714656887598), (3125, 0.004772648978303397), (3126, 0.013170692710837978), (3127, 0.021572554724958025), (3128, 0.0), (3129, 0.004080296239793816), (3130, 0.00821390678455869), (3131, 0.03370750463069447), (3132, 0.01882241878243128), (3133, 0.021150940299034346), (3134, 0.023486182406707933), (3135, 0.039847153815616265), (3136, 0.004429446943910511), (3137, 0.0), (3138, 0.0), (3139, 0.0), (3140, 0.0), (3141, 0.01710412580393235), (3142, 0.0), (3143, 0.004410786672936334), (3144, 0.0), (3145, 0.0), (3146, 0.0), (3147, 0.0), (3148, 0.013795690210465027), (3149, 0.0), (3150, 0.0), (3151, 0.0), (3152, 0.0), (3153, 0.016432071159103195), (3154, 0.005812747093018386), (3155, 0.0), (3156, 0.004574186554911734), (3157, 0.0), (3158, 0.03778331604750477), (3159, 0.0), (3160, 0.035471998482634354), (3161, 0.004685156692784605), (3162, 0.0), (3163, 0.0051691852962105975), (3164, 0.0), (3165, 0.0), (3166, 0.0), (3167, 0.0), (3168, 0.005347747806494541), (3169, 0.0), (3170, 0.0), (3171, 0.010661835477344544), (3172, 0.0), (3173, 0.011999663529343235), (3174, 0.0), (3175, 0.0), (3176, 0.0), (3177, 0.0), (3178, 0.028208595908598675), (3179, 0.014121931948969194), (3180, 0.04993126609878706), (3181, 0.019345762180578395), (3182, 0.0), (3183, 0.0), (3184, 0.026292708463283677), (3185, 0.0072062290112906565), (3186, 0.0), (3187, 0.0), (3188, 0.012170804371879092), (3189, 0.023398578536485807), (3190, 0.0), (3191, 0.03243564814198538), (3192, 0.0), (3193, 0.0166770421047874), (3194, 0.0), (3195, 0.031092022229485004), (3196, 0.005325510013488297), (3197, 0.0), (3198, 0.0), (3199, 0.04545196604057749), (3200, 0.0), (3201, 0.01582436090579258), (3202, 0.024330628718783075), (3203, 0.0), (3204, 0.0), (3205, 0.0), (3206, 0.0), (3207, 0.0), (3208, 0.0), (3209, 0.0), (3210, 0.004790455551425975), (3211, 0.0), (3212, 0.0558347686601821), (3213, 0.003981010278420397), (3214, 0.0), (3215, 0.003971817397594869), (3216, 0.018522753806013814), (3217, 0.0), (3218, 0.022885565676984073), (3219, 0.0), (3220, 0.0), (3221, 0.0), (3222, 0.0), (3223, 0.0), (3224, 0.0), (3225, 0.09468269667569035), (3226, 0.01711946163514415), (3227, 0.004788547994116231), (3228, 0.03547116290276974), (3229, 0.01933152312718888), (3230, 0.0), (3231, 0.015897955539312256), (3232, 0.004152310330333474), (3233, 0.05151257239249449), (3234, 0.03951119614932189), (3235, 0.009598280045743085), (3236, 0.0), (3237, 0.0), (3238, 0.010485935442663394), (3239, 0.0), (3240, 0.0), (3241, 0.0), (3242, 0.0), (3243, 0.020105512698374368), (3244, 0.008247889409149658), (3245, 0.0113245424441661), (3246, 0.025667443077626414), (3247, 0.02035176344032212), (3248, 0.0), (3249, 0.0), (3250, 0.016888615834631967), (3251, 0.0), (3252, 0.09097847488031324), (3253, 0.0), (3254, 0.0), (3255, 0.0), (3256, 0.0), (3257, 0.0), (3258, 0.0), (3259, 0.0), (3260, 0.05127885800452758), (3261, 0.0), (3262, 0.0), (3263, 0.00517383108985652), (3264, 0.0), (3265, 0.018386612089990532), (3266, 0.0), (3267, 0.0), (3268, 0.0), (3269, 0.0), (3270, 0.035363537477795526), (3271, 0.0), (3272, 0.0), (3273, 0.0), (3274, 0.0), (3275, 0.005550839420983144), (3276, 0.0), (3277, 0.0), (3278, 0.018378468256730885), (3279, 0.011784673705079945), (3280, 0.008382575313964505), (3281, 0.03245495075013568), (3282, 0.0), (3283, 0.0), (3284, 0.004349621722005518), (3285, 0.016823190072472814), (3286, 0.0), (3287, 0.0), (3288, 0.051137230081849394), (3289, 0.0), (3290, 0.0), (3291, 0.0), (3292, 0.0), (3293, 0.04678248513961937), (3294, 0.016374471500910273), (3295, 0.0), (3296, 0.0), (3297, 0.0), (3298, 0.040265381800447655), (3299, 0.026604979887752487), (3300, 0.0), (3301, 0.017439985344871616), (3302, 0.0), (3303, 0.004832955984901398), (3304, 0.0), (3305, 0.018708012205981915), (3306, 0.0), (3307, 0.0), (3308, 0.0), (3309, 0.0), (3310, 0.01861261721438924), (3311, 0.0), (3312, 0.031383284320698916), (3313, 0.0), (3314, 0.0), (3315, 0.0), (3316, 0.0), (3317, 0.003889842442747662), (3318, 0.0258478747994677), (3319, 0.0), (3320, 0.008456455093213223), (3321, 0.0), (3322, 0.0), (3323, 0.10331211708843029), (3324, 0.0), (3325, 0.028510553010904667), (3326, 0.0), (3327, 0.0), (3328, 0.0), (3329, 0.0), (3330, 0.02487620593919807), (3331, 0.041739993359110356), (3332, 0.038420000620765865), (3333, 0.01946449608649846), (3334, 0.014469947790096745), (3335, 0.0), (3336, 0.0), (3337, 0.0), (3338, 0.02325517593623511), (3339, 0.004087068606332161), (3340, 0.02218274397612392), (3341, 0.05028123399266514), (3342, 0.004410017945915284), (3343, 0.0), (3344, 0.004033309685414646), (3345, 0.07143584145924932), (3346, 0.037128135712542774), (3347, 0.0), (3348, 0.02369026544889399), (3349, 0.004927195275324317), (3350, 0.01202076871128427), (3351, 0.05233107452608573), (3352, 0.0), (3353, 0.0), (3354, 0.0), (3355, 0.020526221675592624), (3356, 0.0), (3357, 0.013932059726853909), (3358, 0.0), (3359, 0.0), (3360, 0.0), (3361, 0.0424848419341593), (3362, 0.01763532142295011), (3363, 0.02984490833690864), (3364, 0.05204079168857645), (3365, 0.0), (3366, 0.0), (3367, 0.022537921820422836), (3368, 0.01733291572799713), (3369, 0.0), (3370, 0.004609890274159297), (3371, 0.019764163922585596), (3372, 0.0), (3373, 0.0), (3374, 0.004713198087897066), (3375, 0.0), (3376, 0.010404849479712697), (3377, 0.005557367764150885), (3378, 0.0), (3379, 0.0), (3380, 0.0), (3381, 0.0), (3382, 0.024970433072455972), (3383, 0.0), (3384, 0.005567804003308773), (3385, 0.05777888707173828), (3386, 0.039027970610105246), (3387, 0.005244458505695765), (3388, 0.0), (3389, 0.016327881977875568), (3390, 0.08798521747556699), (3391, 0.0), (3392, 0.027236818612230592), (3393, 0.019246262724260506), (3394, 0.007852117987402273), (3395, 0.07065758237674082), (3396, 0.025688346112567075), (3397, 0.0), (3398, 0.07105226893225189), (3399, 0.0), (3400, 0.0), (3401, 0.009543450849315896), (3402, 0.0), (3403, 0.03349239000507828), (3404, 0.004831940823292053), (3405, 0.019125716961132473), (3406, 0.023616683454923352), (3407, 0.017185405091746802), (3408, 0.02053039309714077), (3409, 0.009562507520912863), (3410, 0.0), (3411, 0.007899388500034084), (3412, 0.0), (3413, 0.014635271953594011), (3414, 0.0), (3415, 0.0), (3416, 0.0047447463324693335), (3417, 0.0), (3418, 0.0), (3419, 0.02058982743936973), (3420, 0.0), (3421, 0.051893331073762504), (3422, 0.0), (3423, 0.0), (3424, 0.0), (3425, 0.0), (3426, 0.03556162887506335), (3427, 0.017820395061829666), (3428, 0.0), (3429, 0.003228986457301021), (3430, 0.010142149162871582), (3431, 0.0), (3432, 0.033551574355306674), (3433, 0.06533632104334766), (3434, 0.0), (3435, 0.004703030750070023), (3436, 0.004779725531981272), (3437, 0.0238231450669132), (3438, 0.005070050712589898), (3439, 0.011678230111983406), (3440, 0.04801210204711628), (3441, 0.0), (3442, 0.012924532479370802), (3443, 0.004684340664801903), (3444, 0.0), (3445, 0.009220939301664812), (3446, 0.014124113483048175), (3447, 0.0), (3448, 0.005761213248350558), (3449, 0.0), (3450, 0.005515700947030083), (3451, 0.005090351977824741), (3452, 0.020983147194732862), (3453, 0.01952702592967895), (3454, 0.0), (3455, 0.0), (3456, 0.02460314359464972), (3457, 0.0), (3458, 0.07052960812520923), (3459, 0.0), (3460, 0.014673769467507427), (3461, 0.01984082813481377), (3462, 0.0), (3463, 0.018313650157397273), (3464, 0.0), (3465, 0.004510971087755828), (3466, 0.0044709257050802404), (3467, 0.03652008068152238), (3468, 0.0242520200628053), (3469, 0.019881515739748078), (3470, 0.015436903873104505), (3471, 0.010934970992554548), (3472, 0.0), (3473, 0.04052917863339453), (3474, 0.012496798449673968), (3475, 0.0), (3476, 0.0), (3477, 0.0), (3478, 0.0), (3479, 0.0), (3480, 0.029217851866521174), (3481, 0.015406437112195585), (3482, 0.0), (3483, 0.00502838494029836), (3484, 0.026201453377166777), (3485, 0.0), (3486, 0.004849058126916857), (3487, 0.05239096877817053), (3488, 0.026022732592951188), (3489, 0.0), (3490, 0.0), (3491, 0.0), (3492, 0.0), (3493, 0.0), (3494, 0.0), (3495, 0.012229263151075646), (3496, 0.0), (3497, 0.0), (3498, 0.02591887610047541), (3499, 0.004665546068420559), (3500, 0.0), (3501, 0.01721315840291672), (3502, 0.03813472081482815), (3503, 0.036873894174592796), (3504, 0.040929374135125665), (3505, 0.0), (3506, 0.0), (3507, 0.004923227827368), (3508, 0.018317990174548292), (3509, 0.03529726390279093), (3510, 0.0), (3511, 0.012826053449412261), (3512, 0.0), (3513, 0.042269644298683795), (3514, 0.004957994190715945), (3515, 0.0193018020066719), (3516, 0.05366925228942028), (3517, 0.01261612376251429), (3518, 0.0), (3519, 0.0), (3520, 0.013793801449460213), (3521, 0.00585077828289857), (3522, 0.009214903845216523), (3523, 0.0), (3524, 0.0), (3525, 0.0), (3526, 0.009084296656999101), (3527, 0.018922589570662295), (3528, 0.024647930078530996), (3529, 0.0), (3530, 0.009229986340833567), (3531, 0.0), (3532, 0.020440357216455474), (3533, 0.0), (3534, 0.0), (3535, 0.01628523123500165), (3536, 0.0), (3537, 0.05743835535899431), (3538, 0.0), (3539, 0.0), (3540, 0.060958667709581055), (3541, 0.04334792175998374), (3542, 0.018164311756884582), (3543, 0.0), (3544, 0.0), (3545, 0.0), (3546, 0.016615806944372476), (3547, 0.010457117160358402), (3548, 0.03295982353670022), (3549, 0.02314324974352525), (3550, 0.018774849166975673), (3551, 0.0), (3552, 0.0), (3553, 0.004706881796966401), (3554, 0.0), (3555, 0.026291537368448494), (3556, 0.004246398678805554), (3557, 0.0), (3558, 0.0), (3559, 0.014880523072128364), (3560, 0.0), (3561, 0.0), (3562, 0.0), (3563, 0.0), (3564, 0.0), (3565, 0.0), (3566, 0.0), (3567, 0.03621070339473602), (3568, 0.0), (3569, 0.032404124288967405), (3570, 0.01819127905025622), (3571, 0.004856325835418645), (3572, 0.0), (3573, 0.0), (3574, 0.0), (3575, 0.0), (3576, 0.03199907117826731), (3577, 0.0), (3578, 0.0), (3579, 0.0), (3580, 0.008821299086498566), (3581, 0.0), (3582, 0.004575132884627651), (3583, 0.013353909214745423), (3584, 0.014770087183284273), (3585, 0.0), (3586, 0.01206236683061493), (3587, 0.0), (3588, 0.005835062918965906), (3589, 0.0), (3590, 0.0), (3591, 0.0), (3592, 0.0), (3593, 0.04984157853001121), (3594, 0.01768319942994845), (3595, 0.016985810664507474), (3596, 0.0), (3597, 0.022902332528156117), (3598, 0.01620474514962228), (3599, 0.0), (3600, 0.0), (3601, 0.0), (3602, 0.004669692434621356), (3603, 0.0), (3604, 0.04210596015264487), (3605, 0.021511859905297716), (3606, 0.024847076133075605), (3607, 0.0), (3608, 0.0), (3609, 0.008466087459515539), (3610, 0.0), (3611, 0.0), (3612, 0.022386521232227126), (3613, 0.0), (3614, 0.016149168939187677), (3615, 0.011474203716584891), (3616, 0.0), (3617, 0.0), (3618, 0.005034079690285422), (3619, 0.021899881359634492), (3620, 0.0), (3621, 0.0), (3622, 0.0), (3623, 0.023213252222365297), (3624, 0.004705182731857575), (3625, 0.017281976024425504), (3626, 0.009348189684102035), (3627, 0.01722226989643858), (3628, 0.0), (3629, 0.0), (3630, 0.0), (3631, 0.029087473198906953), (3632, 0.0), (3633, 0.0), (3634, 0.015010353267498406), (3635, 0.006420944755629886), (3636, 0.018864881888583356), (3637, 0.004153252687069397), (3638, 0.005921162748151002), (3639, 0.030642251389587982), (3640, 0.005296447876420376), (3641, 0.01714580013772195), (3642, 0.005149972703005595), (3643, 0.0), (3644, 0.0), (3645, 0.01686724608188148), (3646, 0.0), (3647, 0.0), (3648, 0.0), (3649, 0.0), (3650, 0.0), (3651, 0.0), (3652, 0.005247590212349559), (3653, 0.01726183194456726), (3654, 0.04284383965587561), (3655, 0.0), (3656, 0.03402473677810225), (3657, 0.0), (3658, 0.0), (3659, 0.005176073395483073), (3660, 0.00457980968409831), (3661, 0.005416431073227096), (3662, 0.05223865545299285), (3663, 0.0), (3664, 0.013219452796139458), (3665, 0.018569251457182433), (3666, 0.014279792061468793), (3667, 0.0), (3668, 0.0), (3669, 0.0), (3670, 0.016093939735088613), (3671, 0.0), (3672, 0.0), (3673, 0.012135344755458327), (3674, 0.004008914154687124), (3675, 0.005661240274031335), (3676, 0.0), (3677, 0.0), (3678, 0.0), (3679, 0.009981041899061606), (3680, 0.0305544572437012), (3681, 0.013526399903837756), (3682, 0.0), (3683, 0.0), (3684, 0.004121627955897624), (3685, 0.017416709086381953), (3686, 0.0), (3687, 0.0), (3688, 0.03962447821401592), (3689, 0.0), (3690, 0.018143031906388194), (3691, 0.01741882650685193), (3692, 0.024228599672659345), (3693, 0.05776393308547083), (3694, 0.017269702180313644), (3695, 0.0), (3696, 0.016330642114017534), (3697, 0.01965556836569444), (3698, 0.03233951771808398), (3699, 0.023862595319896995), (3700, 0.0), (3701, 0.0), (3702, 0.011827575563111032), (3703, 0.027323325487043665), (3704, 0.017244541662859485), (3705, 0.014439701093471573), (3706, 0.0), (3707, 0.0), (3708, 0.005483434911049284), (3709, 0.017303745707757133), (3710, 0.005048937546780536), (3711, 0.014702483829308475), (3712, 0.0), (3713, 0.00395962513148466), (3714, 0.03941383958888758), (3715, 0.0061282887064349305), (3716, 0.0), (3717, 0.0), (3718, 0.026855508607724794), (3719, 0.0), (3720, 0.03040428995207036), (3721, 0.006300201974569067), (3722, 0.031349273094607305), (3723, 0.004481989658825537), (3724, 0.02837122977996133), (3725, 0.0), (3726, 0.0), (3727, 0.004708780244091193), (3728, 0.0), (3729, 0.0), (3730, 0.0), (3731, 0.007678387903252598), (3732, 0.0), (3733, 0.0), (3734, 0.02971585247914435), (3735, 0.0), (3736, 0.0), (3737, 0.02078432390504324), (3738, 0.008235401962947805), (3739, 0.0), (3740, 0.0), (3741, 0.005516635653684263), (3742, 0.0), (3743, 0.018369425075270493), (3744, 0.027385928733796326), (3745, 0.0), (3746, 0.02085796110163337), (3747, 0.02376684712523397), (3748, 0.0), (3749, 0.0), (3750, 0.0), (3751, 0.0), (3752, 0.0), (3753, 0.0), (3754, 0.0), (3755, 0.0), (3756, 0.018858544984247896), (3757, 0.0), (3758, 0.010768552828741024), (3759, 0.020426961403737322), (3760, 0.0), (3761, 0.0), (3762, 0.0), (3763, 0.04260080853483807), (3764, 0.0), (3765, 0.0), (3766, 0.005663559958393551), (3767, 0.0), (3768, 0.02787130659693321), (3769, 0.026098868366740906), (3770, 0.0), (3771, 0.0292661468541062), (3772, 0.02723261690024133), (3773, 0.028326004822731038), (3774, 0.0646618464121552), (3775, 0.0044072446272467114), (3776, 0.004067395158931625), (3777, 0.005017839103861261), (3778, 0.0), (3779, 0.0), (3780, 0.06761740454324529), (3781, 0.013055339210984084), (3782, 0.005087089008174156), (3783, 0.01674430326845474), (3784, 0.0), (3785, 0.0), (3786, 0.0), (3787, 0.024635495274458262), (3788, 0.012855666450581046), (3789, 0.031619901528207824), (3790, 0.0), (3791, 0.0), (3792, 0.03707313957999803), (3793, 0.013520295356533346), (3794, 0.0044982348878411125), (3795, 0.02001771625753119), (3796, 0.0), (3797, 0.024901185110403446), (3798, 0.018415044135825648), (3799, 0.0), (3800, 0.0), (3801, 0.004254945130343161), (3802, 0.03449870497687095), (3803, 0.0), (3804, 0.0), (3805, 0.02748981950776927), (3806, 0.004006532414653535), (3807, 0.004724289611806599), (3808, 0.07783895901131663), (3809, 0.031239630240582218), (3810, 0.07020074115268482), (3811, 0.0), (3812, 0.0), (3813, 0.0), (3814, 0.004671291566368324), (3815, 0.014021473726684717), (3816, 0.0), (3817, 0.0), (3818, 0.0), (3819, 0.0217682624905789), (3820, 0.0), (3821, 0.0), (3822, 0.02686952628366609), (3823, 0.012930830566748161), (3824, 0.02475585858026845), (3825, 0.0), (3826, 0.0), (3827, 0.0), (3828, 0.006006293251125945), (3829, 0.05683669472826676), (3830, 0.0), (3831, 0.009873392916903147), (3832, 0.0), (3833, 0.013966637358572957), (3834, 0.018995416962790584), (3835, 0.007338493660184478), (3836, 0.0), (3837, 0.0), (3838, 0.0), (3839, 0.03187949333245813), (3840, 0.018199490484095145), (3841, 0.004258998727242503), (3842, 0.0), (3843, 0.0), (3844, 0.01723401026805942), (3845, 0.023341307946606982), (3846, 0.0), (3847, 0.0), (3848, 0.0), (3849, 0.00493272039890669), (3850, 0.02404808807543421), (3851, 0.0), (3852, 0.1108664603726183), (3853, 0.023569129390491647), (3854, 0.004391802124503552), (3855, 0.0), (3856, 0.0), (3857, 0.0), (3858, 0.0), (3859, 0.008516227563457022), (3860, 0.004305958188492614), (3861, 0.034497107098657734), (3862, 0.004960032413823766), (3863, 0.010949145946457114), (3864, 0.03175644084190755), (3865, 0.02387747972981146), (3866, 0.0), (3867, 0.025421473754901745), (3868, 0.017071427534209416), (3869, 0.04968385263569099), (3870, 0.06737818749590374), (3871, 0.05455028070431298), (3872, 0.0086761724457404), (3873, 0.04457157903480741), (3874, 0.0), (3875, 0.0), (3876, 0.004359446114394185), (3877, 0.0), (3878, 0.0), (3879, 0.0), (3880, 0.0), (3881, 0.013115257235606324), (3882, 0.04442535749450621), (3883, 0.005413526625713565), (3884, 0.0), (3885, 0.0), (3886, 0.056734953700361836), (3887, 0.0), (3888, 0.03960192677157462), (3889, 0.01925377345255586), (3890, 0.0235763920256657), (3891, 0.0), (3892, 0.0), (3893, 0.0), (3894, 0.0), (3895, 0.0), (3896, 0.0), (3897, 0.023858232803999315), (3898, 0.0), (3899, 0.05568741722470791), (3900, 0.027849298396979028), (3901, 0.030103233233565556), (3902, 0.0), (3903, 0.0), (3904, 0.0), (3905, 0.0), (3906, 0.052069130820244815), (3907, 0.02334625466322946), (3908, 0.022798614531319022), (3909, 0.020028168226515587), (3910, 0.03735073934978647), (3911, 0.0), (3912, 0.0), (3913, 0.0), (3914, 0.0), (3915, 0.0), (3916, 0.038045315577854774), (3917, 0.0), (3918, 0.0), (3919, 0.018558654603932082), (3920, 0.0), (3921, 0.0), (3922, 0.0), (3923, 0.01631251844956435), (3924, 0.0), (3925, 0.0), (3926, 0.012204271159354262), (3927, 0.0), (3928, 0.0), (3929, 0.0), (3930, 0.0), (3931, 0.0), (3932, 0.0), (3933, 0.0), (3934, 0.0), (3935, 0.0), (3936, 0.0), (3937, 0.017521257894146054), (3938, 0.014911591836697794), (3939, 0.0), (3940, 0.03939489306063044), (3941, 0.0), (3942, 0.01677622961214211), (3943, 0.03310446561319107), (3944, 0.011086072438145876), (3945, 0.0), (3946, 0.003682948391332036), (3947, 0.0184405909542237), (3948, 0.0), (3949, 0.0), (3950, 0.0), (3951, 0.0), (3952, 0.0), (3953, 0.0), (3954, 0.0), (3955, 0.017716646965501726), (3956, 0.046583520308883165), (3957, 0.01854768215909764), (3958, 0.0), (3959, 0.009837817723196578), (3960, 0.00538410670112281), (3961, 0.024934742905368953), (3962, 0.0), (3963, 0.018168780668808542), (3964, 0.0), (3965, 0.016955191601035192), (3966, 0.031440003517243506), (3967, 0.04923916079811047), (3968, 0.018643279676875173), (3969, 0.0), (3970, 0.013153596247419456), (3971, 0.007260965248644311), (3972, 0.020334139349184314), (3973, 0.0), (3974, 0.004274550465505125), (3975, 0.032535424545004105), (3976, 0.0), (3977, 0.019174186630155746), (3978, 0.0045298769265570485), (3979, 0.0), (3980, 0.0), (3981, 0.0), (3982, 0.017748885239345386), (3983, 0.0), (3984, 0.0), (3985, 0.008607181611338683), (3986, 0.07996730379075112), (3987, 0.0), (3988, 0.0), (3989, 0.011079383647417312), (3990, 0.0), (3991, 0.026000058018294404), (3992, 0.0), (3993, 0.004387916836930272), (3994, 0.02600222365005541), (3995, 0.03323741063263829), (3996, 0.0), (3997, 0.05488241838521278), (3998, 0.01710366746858522), (3999, 0.0), (4000, 0.004710698422751296), (4001, 0.027616412061578176), (4002, 0.0), (4003, 0.0), (4004, 0.02291021539057477), (4005, 0.030644915054833445), (4006, 0.03575679704225637), (4007, 0.0), (4008, 0.0), (4009, 0.0), (4010, 0.0), (4011, 0.0), (4012, 0.0), (4013, 0.005170595500862467), (4014, 0.01796281858832327), (4015, 0.057758256524221736), (4016, 0.0), (4017, 0.0), (4018, 0.007565800453275261), (4019, 0.0), (4020, 0.0), (4021, 0.0), (4022, 0.01764309246434972), (4023, 0.049158911739774304), (4024, 0.079218499290205), (4025, 0.0), (4026, 0.0), (4027, 0.0), (4028, 0.0331929251765683), (4029, 0.008823557768107821), (4030, 0.0), (4031, 0.0), (4032, 0.0), (4033, 0.0), (4034, 0.0), (4035, 0.04362811320962726), (4036, 0.0), (4037, 0.06368722811140759), (4038, 0.005077284344617856), (4039, 0.004629560967819856), (4040, 0.01161828358967303), (4041, 0.017956528966708372), (4042, 0.0), (4043, 0.01778649495879666), (4044, 0.05317366476773186), (4045, 0.0), (4046, 0.06610197283497402), (4047, 0.006002697077781745), (4048, 0.0), (4049, 0.0), (4050, 0.00524624245302514), (4051, 0.0), (4052, 0.0), (4053, 0.0), (4054, 0.07424377597221356), (4055, 0.0), (4056, 0.01114776075035718), (4057, 0.0), (4058, 0.0), (4059, 0.0), (4060, 0.022126539085096503), (4061, 0.0), (4062, 0.0), (4063, 0.041158744281911935), (4064, 0.0), (4065, 0.0), (4066, 0.0), (4067, 0.0), (4068, 0.004824831161077879), (4069, 0.0), (4070, 0.01775660405917461), (4071, 0.004493572105685072), (4072, 0.0), (4073, 0.0), (4074, 0.0), (4075, 0.0), (4076, 0.024242156733822965), (4077, 0.019561707404434248), (4078, 0.019981448911376872), (4079, 0.0), (4080, 0.02145658069271767), (4081, 0.0), (4082, 0.06368339153919159), (4083, 0.0), (4084, 0.0), (4085, 0.03480991170431395), (4086, 0.0), (4087, 0.03148344948480418), (4088, 0.004866961400308961), (4089, 0.08171575980599925), (4090, 0.01481961885607165), (4091, 0.055018671092036495), (4092, 0.005374476747779027), (4093, 0.0), (4094, 0.0), (4095, 0.004030434690164702), (4096, 0.004114433024341343), (4097, 0.0), (4098, 0.004868131372551668), (4099, 0.052251020275667505), (4100, 0.018545065870548466), (4101, 0.012233311794089048), (4102, 0.0), (4103, 0.004774890340172639), (4104, 0.010800374706699246), (4105, 0.0), (4106, 0.023221586011180437), (4107, 0.0), (4108, 0.020149462857974434), (4109, 0.008146789264879281), (4110, 0.0), (4111, 0.01304394822201639), (4112, 0.0), (4113, 0.0), (4114, 0.0), (4115, 0.0), (4116, 0.0051776969029786995), (4117, 0.0), (4118, 0.0), (4119, 0.005278468339345743), (4120, 0.01532989013365805), (4121, 0.0256940813756309), (4122, 0.0), (4123, 0.005014533583311265), (4124, 0.0044937913129539245), (4125, 0.0), (4126, 0.0), (4127, 0.0), (4128, 0.017688506491602318), (4129, 0.0), (4130, 0.0), (4131, 0.0), (4132, 0.0), (4133, 0.01499599337538655), (4134, 0.01887374556682484), (4135, 0.0), (4136, 0.0), (4137, 0.0), (4138, 0.013505860208200018), (4139, 0.017143616048969114), (4140, 0.0), (4141, 0.009993419352834581), (4142, 0.0), (4143, 0.0), (4144, 0.0), (4145, 0.0), (4146, 0.0), (4147, 0.03712613713647389), (4148, 0.0047306072912752534), (4149, 0.009102725870645085), (4150, 0.03738481842026659), (4151, 0.0), (4152, 0.06680299713260296), (4153, 0.016178276597278246), (4154, 0.03046156071512799), (4155, 0.0), (4156, 0.035709832183875335), (4157, 0.008823157022505851), (4158, 0.01180863284085054), (4159, 0.008438214321015335), (4160, 0.0), (4161, 0.0), (4162, 0.005466265150454416), (4163, 0.005506131591986444), (4164, 0.004337190178755473), (4165, 0.029054511687143222), (4166, 0.052592959693466126), (4167, 0.009658511152968771), (4168, 0.08767084565573124), (4169, 0.0), (4170, 0.0), (4171, 0.015815397407448556), (4172, 0.0), (4173, 0.0), (4174, 0.01121502186210932), (4175, 0.0), (4176, 0.004366944814263835), (4177, 0.0), (4178, 0.01778090912626605), (4179, 0.0), (4180, 0.009514698542772052), (4181, 0.061229072174511394), (4182, 0.0), (4183, 0.0), (4184, 0.0), (4185, 0.0), (4186, 0.011153808025437454), (4187, 0.04622361493490292), (4188, 0.008946045921457684), (4189, 0.03910340813330847), (4190, 0.0), (4191, 0.027897347221733388), (4192, 0.028580249550619004), (4193, 0.03757970997605088), (4194, 0.0), (4195, 0.0), (4196, 0.0), (4197, 0.024843243623706785), (4198, 0.0), (4199, 0.0), (4200, 0.0), (4201, 0.0), (4202, 0.0), (4203, 0.0), (4204, 0.0), (4205, 0.0), (4206, 0.0), (4207, 0.0), (4208, 0.028848201431703708), (4209, 0.0), (4210, 0.01235899552135917), (4211, 0.004661928133357725), (4212, 0.0), (4213, 0.0), (4214, 0.0), (4215, 0.0), (4216, 0.0045896287243392475), (4217, 0.0), (4218, 0.0), (4219, 0.02051422744574566), (4220, 0.0), (4221, 0.0), (4222, 0.0), (4223, 0.0), (4224, 0.0), (4225, 0.0), (4226, 0.009843193613031894), (4227, 0.015182112612485806), (4228, 0.0), (4229, 0.0), (4230, 0.0), (4231, 0.0050661192133431435), (4232, 0.0), (4233, 0.0), (4234, 0.0), (4235, 0.004351465994018876), (4236, 0.0), (4237, 0.0), (4238, 0.02071667868819469), (4239, 0.03708842255818463), (4240, 0.053774559084580724), (4241, 0.0), (4242, 0.005900046869271418), (4243, 0.0), (4244, 0.005440766725064447), (4245, 0.013091370111778362), (4246, 0.0), (4247, 0.0), (4248, 0.0047210666786612005), (4249, 0.004900174267452354), (4250, 0.018501336607847994), (4251, 0.02333092285341986), (4252, 0.0), (4253, 0.0), (4254, 0.0174772529077465), (4255, 0.004814359688488428), (4256, 0.0), (4257, 0.0), (4258, 0.0), (4259, 0.0), (4260, 0.0), (4261, 0.013171566520192121), (4262, 0.0), (4263, 0.0), (4264, 0.03322022725685443), (4265, 0.005026127716899766), (4266, 0.02922432208146368), (4267, 0.0), (4268, 0.011163059025300376), (4269, 0.0), (4270, 0.0), (4271, 0.025009933012198487), (4272, 0.0), (4273, 0.0), (4274, 0.004354747464851257), (4275, 0.01654548796730064), (4276, 0.020563476314984695), (4277, 0.01966243142015757), (4278, 0.008926924267422351), (4279, 0.021399590731832813), (4280, 0.06194091726642786), (4281, 0.005488965500892984), (4282, 0.026905231747358413), (4283, 0.004841059595508693), (4284, 0.01565729456107581), (4285, 0.02640715399934274), (4286, 0.025300821229307248), (4287, 0.0), (4288, 0.009663609665121139), (4289, 0.0), (4290, 0.012412700130678477), (4291, 0.0), (4292, 0.041010729120012045), (4293, 0.0), (4294, 0.0), (4295, 0.013911692724583308), (4296, 0.0), (4297, 0.017056949951879792), (4298, 0.0), (4299, 0.01557790697307843), (4300, 0.0), (4301, 0.0), (4302, 0.0336286114759229), (4303, 0.0), (4304, 0.0), (4305, 0.0), (4306, 0.0), (4307, 0.005332032463113534), (4308, 0.0), (4309, 0.004635351010919719), (4310, 0.004754002244761898), (4311, 0.0), (4312, 0.02417638979344592), (4313, 0.0), (4314, 0.023074494695147264), (4315, 0.0), (4316, 0.010416659632779872), (4317, 0.0), (4318, 0.018853058002705887), (4319, 0.0), (4320, 0.0), (4321, 0.0), (4322, 0.0043483995463045625), (4323, 0.047242452790943586), (4324, 0.0), (4325, 0.004405034393451712), (4326, 0.0), (4327, 0.01187469030393792), (4328, 0.014907339034150013), (4329, 0.012511096025356716), (4330, 0.0), (4331, 0.015841852028459488), (4332, 0.0), (4333, 0.0), (4334, 0.018349008382401867), (4335, 0.0), (4336, 0.0), (4337, 0.015270479697637528), (4338, 0.0), (4339, 0.020555280773964683), (4340, 0.0), (4341, 0.0), (4342, 0.0), (4343, 0.021652516168062696), (4344, 0.06636999573680649), (4345, 0.0), (4346, 0.04129607204966239), (4347, 0.0), (4348, 0.0), (4349, 0.0), (4350, 0.0), (4351, 0.0), (4352, 0.008797787842450376), (4353, 0.0), (4354, 0.019149828566909808), (4355, 0.0), (4356, 0.0), (4357, 0.0), (4358, 0.030399518263934604), (4359, 0.016712656448276946), (4360, 0.036215979115708764), (4361, 0.0), (4362, 0.016580879379369525), (4363, 0.030911757936668116), (4364, 0.017770197663564725), (4365, 0.029692680958471895), (4366, 0.032390721337972134), (4367, 0.0), (4368, 0.0), (4369, 0.0), (4370, 0.0), (4371, 0.01996029975526458), (4372, 0.02272753376049748), (4373, 0.01336450550992861), (4374, 0.004508115005597724), (4375, 0.0048221419763720165), (4376, 0.004869103890379728), (4377, 0.05391022031345956), (4378, 0.0), (4379, 0.016533505783821786), (4380, 0.028639700884084004), (4381, 0.0), (4382, 0.0), (4383, 0.022581121550508884), (4384, 0.02873224550401143), (4385, 0.007836618274411521), (4386, 0.0), (4387, 0.004630813585501193), (4388, 0.0), (4389, 0.015582243612034825), (4390, 0.0), (4391, 0.017941483865552894), (4392, 0.0619509007633275), (4393, 0.0), (4394, 0.0703335192442794), (4395, 0.0), (4396, 0.013632329411267382), (4397, 0.0), (4398, 0.027652019905620193), (4399, 0.0), (4400, 0.0), (4401, 0.078229104296484), (4402, 0.004391428842785104), (4403, 0.0203390766301903), (4404, 0.009198742142786707), (4405, 0.0), (4406, 0.018778437925947862), (4407, 0.0), (4408, 0.0), (4409, 0.0), (4410, 0.012822918949630717), (4411, 0.010438645584785857), (4412, 0.016110358124958188), (4413, 0.0), (4414, 0.00682369827594029), (4415, 0.03542555174404283), (4416, 0.0), (4417, 0.0), (4418, 0.0), (4419, 0.0), (4420, 0.031445727258890846), (4421, 0.02543877183261378), (4422, 0.01259163055203078), (4423, 0.0), (4424, 0.0), (4425, 0.0), (4426, 0.0279271493757128), (4427, 0.0), (4428, 0.0), (4429, 0.0), (4430, 0.023652427886559947), (4431, 0.005078972426198692), (4432, 0.00415683996780754), (4433, 0.01271241678236552), (4434, 0.0086250436102969), (4435, 0.0), (4436, 0.00512112626342274), (4437, 0.0), (4438, 0.0045531460132611345), (4439, 0.0), (4440, 0.05765100414436054), (4441, 0.013064314652230312), (4442, 0.0), (4443, 0.00581786363535269), (4444, 0.006221178628069916), (4445, 0.0), (4446, 0.0), (4447, 0.0), (4448, 0.0), (4449, 0.06345880819390963), (4450, 0.0042099402068198144), (4451, 0.0), (4452, 0.0), (4453, 0.019822316275193888), (4454, 0.010387402964508534), (4455, 0.0), (4456, 0.0), (4457, 0.0), (4458, 0.0), (4459, 0.00866189789359305), (4460, 0.0), (4461, 0.0), (4462, 0.005366938810126291), (4463, 0.0), (4464, 0.020289953950388115), (4465, 0.0), (4466, 0.023431666068984683), (4467, 0.01833832631589548), (4468, 0.019647366313678673), (4469, 0.0), (4470, 0.004896366191565023), (4471, 0.03783975920793573), (4472, 0.0171613038453556), (4473, 0.0), (4474, 0.005000515560932016), (4475, 0.004270702779872981), (4476, 0.0), (4477, 0.0), (4478, 0.0), (4479, 0.027654654309913117), (4480, 0.02512117858670001), (4481, 0.004537597143100102), (4482, 0.0), (4483, 0.13094728986704185), (4484, 0.0), (4485, 0.04123630460594585), (4486, 0.018493140658083575), (4487, 0.04386901698261297), (4488, 0.011923246394984478), (4489, 0.01188747682283193), (4490, 0.026686281450538668), (4491, 0.0), (4492, 0.0), (4493, 0.019226663196502784), (4494, 0.018027332980723357), (4495, 0.01960756979345246), (4496, 0.0), (4497, 0.03956916588384861), (4498, 0.0), (4499, 0.0), (4500, 0.0), (4501, 0.0184945575309891), (4502, 0.010236878670553635), (4503, 0.016093618240425454), (4504, 0.0), (4505, 0.018885333081805716), (4506, 0.02185545417361606), (4507, 0.0), (4508, 0.0), (4509, 0.0), (4510, 0.028792768297051366), (4511, 0.0121190306047602), (4512, 0.005321370138942473), (4513, 0.029887934299870036), (4514, 0.0057444796005501715), (4515, 0.005284742600555733), (4516, 0.0), (4517, 0.013836075481154552), (4518, 0.03835391915281405), (4519, 0.0), (4520, 0.0), (4521, 0.0), (4522, 0.005175548926237242), (4523, 0.054540036566540745), (4524, 0.005667363680358996), (4525, 0.00824496553987768), (4526, 0.0), (4527, 0.015813414429841938), (4528, 0.0), (4529, 0.0), (4530, 0.011916544198722479), (4531, 0.005263225767773568), (4532, 0.00788145252532046), (4533, 0.00486053673807857), (4534, 0.013375950283757567), (4535, 0.019870772635888535), (4536, 0.01070835603190093), (4537, 0.04173114703126474), (4538, 0.010352271864630964), (4539, 0.06582530825303103), (4540, 0.0), (4541, 0.0), (4542, 0.00890175769458212), (4543, 0.004574431636359799), (4544, 0.0), (4545, 0.0), (4546, 0.029086858364471918), (4547, 0.020480431930263554), (4548, 0.059894239204775726), (4549, 0.009988108574505739), (4550, 0.0), (4551, 0.012404177954186156), (4552, 0.014255270677619237), (4553, 0.0041526892575018005), (4554, 0.018968682299853865), (4555, 0.0), (4556, 0.0), (4557, 0.011889300899509942), (4558, 0.010676121704869807), (4559, 0.0), (4560, 0.0), (4561, 0.0), (4562, 0.0), (4563, 0.0), (4564, 0.0), (4565, 0.017053879603843802), (4566, 0.0), (4567, 0.0233960419514116), (4568, 0.017110259239695967), (4569, 0.0), (4570, 0.0), (4571, 0.0), (4572, 0.0), (4573, 0.0), (4574, 0.025622692237971506), (4575, 0.0), (4576, 0.004612798156417187), (4577, 0.0), (4578, 0.0), (4579, 0.005119034719377813), (4580, 0.0), (4581, 0.017918697014825645), (4582, 0.02313601311449446), (4583, 0.009096982043453071), (4584, 0.0), (4585, 0.012868802329555774), (4586, 0.0049452820583268855), (4587, 0.025854264096729782), (4588, 0.017193519059688637), (4589, 0.0), (4590, 0.0595237342336072), (4591, 0.004417005316082903), (4592, 0.0), (4593, 0.027756085496714187), (4594, 0.0), (4595, 0.014881444391947099), (4596, 0.0), (4597, 0.020672050447737296), (4598, 0.0), (4599, 0.020465641208371618), (4600, 0.0), (4601, 0.005198200780800122), (4602, 0.0), (4603, 0.0), (4604, 0.0), (4605, 0.013534541360024983), (4606, 0.0), (4607, 0.013074376506031816), (4608, 0.0), (4609, 0.012268451657681671), (4610, 0.0), (4611, 0.0), (4612, 0.005912294025005953), (4613, 0.0), (4614, 0.023842395327324878), (4615, 0.019689019581727252), (4616, 0.011255665039732833), (4617, 0.0), (4618, 0.012578012179996004), (4619, 0.0), (4620, 0.0), (4621, 0.03350032603426209), (4622, 0.01884484792093132), (4623, 0.013703225551382505), (4624, 0.004980074560448589), (4625, 0.0), (4626, 0.06621307677788936), (4627, 0.019201753696992507), (4628, 0.0), (4629, 0.004954311540459093), (4630, 0.040398173675306355), (4631, 0.0), (4632, 0.0), (4633, 0.0), (4634, 0.0), (4635, 0.0), (4636, 0.0), (4637, 0.07242712131071924), (4638, 0.03802388411170508), (4639, 0.026119099616415217), (4640, 0.030855198023652504), (4641, 0.0), (4642, 0.03988730256426018), (4643, 0.0), (4644, 0.0), (4645, 0.010667581184315753), (4646, 0.01753493176777567), (4647, 0.01101813141179827), (4648, 0.0), (4649, 0.0), (4650, 0.0), (4651, 0.0), (4652, 0.0), (4653, 0.02762030977067991), (4654, 0.013654048443495976), (4655, 0.0), (4656, 0.0), (4657, 0.0), (4658, 0.004565788732563633), (4659, 0.0), (4660, 0.027748358454981505), (4661, 0.00420975344638352), (4662, 0.0), (4663, 0.01146900516282744), (4664, 0.01911179951846334), (4665, 0.013640246379188054), (4666, 0.006429601298192158), (4667, 0.0), (4668, 0.019915628498941726), (4669, 0.005172504744287811), (4670, 0.03909041831184911), (4671, 0.0), (4672, 0.009253976886346056), (4673, 0.0531635421881424), (4674, 0.011045890623737358), (4675, 0.0), (4676, 0.019270186208435618), (4677, 0.022743995142036018), (4678, 0.004853973734728262), (4679, 0.004175291454036135), (4680, 0.0), (4681, 0.0), (4682, 0.0), (4683, 0.050858041974031945), (4684, 0.004846485791357211), (4685, 0.0), (4686, 0.0), (4687, 0.0), (4688, 0.0), (4689, 0.00433355215623892), (4690, 0.0), (4691, 0.021614630367521474), (4692, 0.0), (4693, 0.0), (4694, 0.0), (4695, 0.04354958808499261), (4696, 0.0), (4697, 0.029286221518039814), (4698, 0.016592856760240027), (4699, 0.028163287177235864), (4700, 0.030155251794867825), (4701, 0.02974965976815472), (4702, 0.0), (4703, 0.018149547990939943), (4704, 0.0), (4705, 0.0), (4706, 0.0), (4707, 0.0), (4708, 0.013647840816414939), (4709, 0.03070664906321354), (4710, 0.0060030880153163005), (4711, 0.0), (4712, 0.0), (4713, 0.0), (4714, 0.051889256121944026), (4715, 0.004761443105074816), (4716, 0.009331574658789478), (4717, 0.0), (4718, 0.02745454030710362), (4719, 0.0), (4720, 0.01092817576095642), (4721, 0.019860628562885438), (4722, 0.0), (4723, 0.0), (4724, 0.005854356729648233), (4725, 0.021672082799090185), (4726, 0.0), (4727, 0.0), (4728, 0.027065409892068643), (4729, 0.0), (4730, 0.021148471356273735), (4731, 0.005377084865604094), (4732, 0.0), (4733, 0.003962664909500371), (4734, 0.0197829333814918), (4735, 0.005619868295695251), (4736, 0.0), (4737, 0.0), (4738, 0.02755748777046058), (4739, 0.0), (4740, 0.0), (4741, 0.0), (4742, 0.0), (4743, 0.0), (4744, 0.0), (4745, 0.0), (4746, 0.015598759252012956), (4747, 0.005465702101704306), (4748, 0.0), (4749, 0.0), (4750, 0.010394175251268966), (4751, 0.04428045978778569), (4752, 0.0), (4753, 0.0), (4754, 0.022034909657014132), (4755, 0.0090583196937143), (4756, 0.023116370203844157), (4757, 0.004987344584225062), (4758, 0.0), (4759, 0.027562432925856)]\n"
          ]
        }
      ]
    },
    {
      "cell_type": "code",
      "source": [
        "len(Recommendation_Score)"
      ],
      "metadata": {
        "colab": {
          "base_uri": "https://localhost:8080/"
        },
        "id": "dqo9eI0U3dop",
        "outputId": "d3ba9ebe-71d8-4b19-a32c-edd52cc83c27"
      },
      "execution_count": 33,
      "outputs": [
        {
          "output_type": "execute_result",
          "data": {
            "text/plain": [
              "4760"
            ]
          },
          "metadata": {},
          "execution_count": 33
        }
      ]
    },
    {
      "cell_type": "markdown",
      "source": [
        "Got all the movies sort Based on Recommendation Score with Favorite Movie"
      ],
      "metadata": {
        "id": "2OXbPNbO3mRY"
      }
    },
    {
      "cell_type": "code",
      "source": [
        "Sorted_Similar_Movies = sorted(Recommendation_Score,key=lambda x:x[1],reverse=True)\n",
        "print(Sorted_Similar_Movies)"
      ],
      "metadata": {
        "colab": {
          "base_uri": "https://localhost:8080/"
        },
        "id": "5N8xsX-H3k_2",
        "outputId": "87dfed9d-b15f-4308-d9ff-ab3b671df0a0"
      },
      "execution_count": 34,
      "outputs": [
        {
          "output_type": "stream",
          "name": "stdout",
          "text": [
            "[(932, 1.0), (2144, 0.16410832029459974), (147, 0.1521563051723581), (2536, 0.14339507573564866), (1869, 0.14070880385963858), (1716, 0.14069083216440637), (4483, 0.13094728986704185), (1361, 0.12953958891698955), (952, 0.12470771503091217), (248, 0.11746518975431287), (2802, 0.11595751592167765), (935, 0.1134351032047765), (1494, 0.11308607314520636), (136, 0.11172006610711943), (3852, 0.1108664603726183), (2601, 0.10736336473140194), (3323, 0.10331211708843029), (1709, 0.10290714815749846), (2226, 0.09805778519517545), (691, 0.09793701775230558), (126, 0.09792526108493765), (355, 0.09492708856891502), (3225, 0.09468269667569035), (2680, 0.09379920421669748), (1927, 0.09219753656190723), (218, 0.09155250550524374), (1182, 0.09130601648963135), (3252, 0.09097847488031324), (1319, 0.09059958807147513), (334, 0.08859334503688078), (3390, 0.08798521747556699), (4168, 0.08767084565573124), (1691, 0.08556615667479593), (988, 0.08548369981620281), (695, 0.08538436005282557), (2035, 0.0849540038900401), (2451, 0.08440218508385841), (617, 0.0836120449516098), (140, 0.08325313514829104), (146, 0.08278175192366624), (4089, 0.08171575980599925), (2292, 0.0813111977930068), (206, 0.08085138714422521), (3986, 0.07996730379075112), (4024, 0.079218499290205), (1270, 0.07900095405936644), (1557, 0.07874626018830837), (4401, 0.078229104296484), (198, 0.07786620296334563), (3808, 0.07783895901131663), (992, 0.07750906392335913), (1515, 0.07739891227550745), (2899, 0.07675152241136066), (1959, 0.07633761015338918), (1072, 0.07590260486057482), (2393, 0.07481600000457035), (2286, 0.07474920078426259), (4054, 0.07424377597221356), (752, 0.07417124694333047), (1722, 0.07407798573605906), (1279, 0.07263538865431425), (1829, 0.07256183912520316), (4637, 0.07242712131071924), (144, 0.0718700134380977), (2060, 0.07178241693623094), (3345, 0.07143584145924932), (2463, 0.07117766158098264), (3398, 0.07105226893225189), (2241, 0.07069317002922007), (3395, 0.07065758237674082), (3458, 0.07052960812520923), (1107, 0.070364470284048), (4394, 0.0703335192442794), (3810, 0.07020074115268482), (1433, 0.06955910040882912), (744, 0.06945328766902835), (3070, 0.06893423838708525), (1718, 0.06835980974350006), (79, 0.06768245378315138), (3780, 0.06761740454324529), (3870, 0.06737818749590374), (3083, 0.0673139805955311), (4152, 0.06680299713260296), (2915, 0.06649201064830408), (1983, 0.06646548337887354), (4344, 0.06636999573680649), (4626, 0.06621307677788936), (1215, 0.06613856024769946), (4046, 0.06610197283497402), (4539, 0.06582530825303103), (1176, 0.06578802669410173), (548, 0.06574194800375692), (3433, 0.06533632104334766), (668, 0.06523728465303445), (1963, 0.06486129806684168), (3774, 0.0646618464121552), (380, 0.06443508884165933), (2654, 0.06431488249276016), (2568, 0.06392162996674547), (4037, 0.06368722811140759), (4082, 0.06368339153919159), (4449, 0.06345880819390963), (15, 0.06262327876726285), (2442, 0.06255182752480799), (1041, 0.061969161737586646), (4392, 0.0619509007633275), (4280, 0.06194091726642786), (625, 0.06189961587936536), (2365, 0.061737390661861666), (1263, 0.06172964446185226), (1639, 0.06139180062095122), (4181, 0.061229072174511394), (3540, 0.060958667709581055), (2909, 0.0609459301814254), (2094, 0.060178692771423674), (2644, 0.06013949719900355), (4548, 0.059894239204775726), (4590, 0.0595237342336072), (606, 0.059521617032363444), (895, 0.059053945500950215), (1083, 0.058358081748337454), (1402, 0.05834078024612659), (3385, 0.05777888707173828), (3693, 0.05776393308547083), (4015, 0.057758256524221736), (4440, 0.05765100414436054), (3048, 0.057548309104581655), (255, 0.05747895061884827), (3537, 0.05743835535899431), (3829, 0.05683669472826676), (3886, 0.056734953700361836), (1405, 0.05666073265112276), (1935, 0.0565730380368126), (3023, 0.05595777257726957), (790, 0.05595326018420677), (1409, 0.05591409286896003), (3212, 0.0558347686601821), (3899, 0.05568741722470791), (1255, 0.055585247344302806), (1250, 0.055371650385534196), (643, 0.05524810881902087), (1050, 0.05514787636285091), (715, 0.05511717343362731), (4091, 0.055018671092036495), (2809, 0.05501313686086909), (1164, 0.05495301774105686), (3997, 0.05488241838521278), (173, 0.0547762319285494), (1097, 0.054730389809217295), (2293, 0.05465455522130736), (2190, 0.05458413189509439), (3871, 0.05455028070431298), (4523, 0.054540036566540745), (1647, 0.054489298794504294), (2370, 0.05445097968781553), (4377, 0.05391022031345956), (4240, 0.053774559084580724), (3516, 0.05366925228942028), (2277, 0.053615932166439326), (1578, 0.053334232570077106), (4044, 0.05317366476773186), (4673, 0.0531635421881424), (2755, 0.053019538423127566), (2824, 0.05292790073895708), (1315, 0.05284319892566994), (2032, 0.05282627147621791), (1498, 0.05262933293198675), (4166, 0.052592959693466126), (750, 0.05252041873927529), (3487, 0.05239096877817053), (3351, 0.05233107452608573), (4099, 0.052251020275667505), (3662, 0.05223865545299285), (339, 0.052115815439991754), (2062, 0.05207172522433082), (3906, 0.052069130820244815), (3364, 0.05204079168857645), (614, 0.05200191402219845), (3421, 0.051893331073762504), (4714, 0.051889256121944026), (3105, 0.051876624238037405), (1852, 0.051802636235382636), (91, 0.05173418032218058), (247, 0.051676846931781345), (587, 0.051532985547326174), (3233, 0.05151257239249449), (3260, 0.05127885800452758), (1011, 0.0511857416785014), (3288, 0.051137230081849394), (1803, 0.05105576271235841), (1864, 0.050950263275363214), (54, 0.05092033274295287), (1284, 0.05087726713416998), (4683, 0.050858041974031945), (802, 0.05080617298762424), (488, 0.05055322633204702), (2250, 0.05040751474854083), (3341, 0.05028123399266514), (2791, 0.05016302029959536), (1835, 0.050134903329074554), (1501, 0.05007734928596952), (3180, 0.04993126609878706), (3593, 0.04984157853001121), (1970, 0.049813939226683916), (3101, 0.0498044061164151), (70, 0.049751608846299325), (2999, 0.04969590351714616), (3869, 0.04968385263569099), (53, 0.04952563655303773), (1179, 0.0494982552424714), (1645, 0.04949370657754609), (2793, 0.04936871347727921), (1849, 0.04936124201938239), (69, 0.04927890227969133), (3967, 0.04923916079811047), (4023, 0.049158911739774304), (2797, 0.04909733590307863), (742, 0.048948038428519164), (2683, 0.048808517296886324), (1021, 0.048657553893551975), (964, 0.048392127828512294), (3002, 0.04828737444035622), (458, 0.04820671125981135), (2167, 0.04818161509001943), (1096, 0.04808575086013667), (3440, 0.04801210204711628), (2613, 0.047992493900811534), (2570, 0.04794708339485751), (1018, 0.047865554882331705), (14, 0.04782528813938533), (2105, 0.04775963680298302), (405, 0.0477356044095037), (1038, 0.04773334118706181), (2553, 0.04762320103150894), (2201, 0.047576099355182706), (203, 0.04744301830540608), (2800, 0.0473721165836113), (4323, 0.047242452790943586), (2311, 0.047166628389642536), (2790, 0.04707561734208078), (517, 0.046829493600125026), (1715, 0.04680928219566846), (3293, 0.04678248513961937), (3100, 0.04677307010590864), (2968, 0.046701093858574565), (3956, 0.046583520308883165), (1745, 0.046499709623703075), (898, 0.04643604802567905), (2317, 0.04639376262668906), (1073, 0.046391471636835505), (705, 0.04627008370686786), (4187, 0.04622361493490292), (1357, 0.046207132902055054), (2708, 0.04619805881128797), (1875, 0.046044255506502874), (1962, 0.046034533984316756), (1331, 0.04595799463155274), (273, 0.045834476416693935), (994, 0.045812146416002064), (1162, 0.04545986228183234), (3199, 0.04545196604057749), (471, 0.04520776746384246), (1816, 0.045198461334406366), (161, 0.04506921866243859), (2697, 0.044936236552488934), (1074, 0.04491096577114389), (577, 0.04490706902553542), (1069, 0.044900520839393145), (2, 0.044845671090827245), (261, 0.044798792988330824), (580, 0.04472726161574049), (2479, 0.04469395208487534), (923, 0.044661027060210225), (1523, 0.04465124085828867), (3873, 0.04457157903480741), (77, 0.044524066304187565), (729, 0.04447942115548206), (3882, 0.04442535749450621), (1102, 0.04441936680198869), (4751, 0.04428045978778569), (2908, 0.044109895467500396), (1486, 0.04407818768797922), (2237, 0.0439977783203393), (2045, 0.04390680627025621), (4487, 0.04386901698261297), (2232, 0.043846800474173324), (2447, 0.04379066086931658), (2276, 0.04370043805025584), (4035, 0.04362811320962726), (4695, 0.04354958808499261), (1379, 0.04345979017619189), (3541, 0.04334792175998374), (1810, 0.04333153040104039), (1998, 0.04331932559922648), (1588, 0.043176854615188366), (2629, 0.04311638577477718), (1664, 0.04292542471486402), (3094, 0.04290012075745749), (3654, 0.04284383965587561), (283, 0.04276440824515741), (3763, 0.04260080853483807), (2204, 0.042504696170797135), (3361, 0.0424848419341593), (3513, 0.042269644298683795), (1844, 0.04221853831346654), (2174, 0.04217009205970259), (3604, 0.04210596015264487), (1622, 0.042075243485975376), (429, 0.04180351449362033), (3331, 0.041739993359110356), (379, 0.041739473618032694), (4537, 0.04173114703126474), (1613, 0.041631464375004756), (2421, 0.04157884690881318), (4346, 0.04129607204966239), (4485, 0.04123630460594585), (1560, 0.04121409557140622), (4063, 0.041158744281911935), (3123, 0.04111896495688448), (1358, 0.041081615279357026), (4292, 0.041010729120012045), (3504, 0.040929374135125665), (2113, 0.04089898394732411), (756, 0.040773332655250086), (1471, 0.04070428552764654), (1055, 0.04065827208748071), (785, 0.040600764019717996), (3473, 0.04052917863339453), (2841, 0.040505859907637484), (1719, 0.04047775284202046), (789, 0.04046416621409285), (2374, 0.04042482944365991), (4630, 0.040398173675306355), (3298, 0.040265381800447655), (374, 0.04019294881639282), (176, 0.04003185088195195), (815, 0.03998469793079713), (1812, 0.039977959103821875), (846, 0.039892178109929184), (4642, 0.03988730256426018), (2678, 0.03986750351399032), (3135, 0.039847153815616265), (1233, 0.039778922333931606), (2332, 0.039627565714034925), (3688, 0.03962447821401592), (282, 0.03962261390894119), (1861, 0.03961626912776764), (3888, 0.03960192677157462), (4497, 0.03956916588384861), (3234, 0.03951119614932189), (3714, 0.03941383958888758), (3940, 0.03939489306063044), (522, 0.039387822450629856), (1907, 0.039367923679153455), (1653, 0.03934239762740285), (4189, 0.03910340813330847), (4670, 0.03909041831184911), (3386, 0.039027970610105246), (1112, 0.03880309351111152), (1595, 0.038735310713821164), (1728, 0.03873309241080141), (1381, 0.03868517054556778), (676, 0.038670315838399805), (415, 0.03863032932593544), (3110, 0.03854423418572116), (1916, 0.038541177335718116), (2198, 0.03852757161942901), (3332, 0.038420000620765865), (4518, 0.03835391915281405), (2527, 0.03829705429950851), (1793, 0.03818209747529706), (2789, 0.03814911883425456), (3502, 0.03813472081482815), (1205, 0.038050027371511835), (3916, 0.038045315577854774), (4638, 0.03802388411170508), (2390, 0.03788937199325217), (4471, 0.03783975920793573), (880, 0.03778499310443854), (3158, 0.03778331604750477), (439, 0.037741927810403426), (1579, 0.03772217501526627), (1195, 0.03769695397101036), (1295, 0.037593200679186305), (4193, 0.03757970997605088), (2318, 0.03755728302987888), (2550, 0.0374942826190382), (4150, 0.03738481842026659), (3910, 0.03735073934978647), (1220, 0.03729662645438431), (183, 0.03721352534951117), (3346, 0.037128135712542774), (4147, 0.03712613713647389), (1968, 0.03710360146348441), (4239, 0.03708842255818463), (3792, 0.03707313957999803), (3045, 0.03706265996509431), (1586, 0.03699641834075561), (1643, 0.036975402279879444), (1845, 0.03696154842060133), (1752, 0.036914997326953865), (3034, 0.03690276579969175), (758, 0.03689561925732775), (511, 0.03689392084994818), (3503, 0.036873894174592796), (1759, 0.036810653992813046), (2865, 0.03673775152033639), (2828, 0.03669754297903523), (3467, 0.03652008068152238), (2544, 0.03650202272569462), (572, 0.036490244512608), (2111, 0.0364654763804134), (1651, 0.036416782252996244), (682, 0.03634848004828389), (1855, 0.03627096186475638), (4360, 0.036215979115708764), (3567, 0.03621070339473602), (1049, 0.03615473256821508), (976, 0.03611352456353373), (1140, 0.036095035696591636), (1575, 0.03609470597823926), (1756, 0.03580155387957571), (1908, 0.03578415329105661), (1975, 0.035775149399081475), (4006, 0.03575679704225637), (497, 0.03571241780920303), (4156, 0.035709832183875335), (1913, 0.03567187698045138), (2428, 0.03566699356723985), (264, 0.03564397464811825), (3426, 0.03556162887506335), (1753, 0.035519844710809795), (1417, 0.03550688404961648), (3160, 0.035471998482634354), (3228, 0.03547116290276974), (4415, 0.03542555174404283), (2443, 0.03538809958128883), (451, 0.03537160263265395), (3270, 0.035363537477795526), (2663, 0.035307531772426244), (1463, 0.03529940229103336), (3509, 0.03529726390279093), (1958, 0.03528741888583803), (585, 0.03527052478484645), (1590, 0.03520882487369969), (450, 0.03517763353931001), (1774, 0.03511063642433249), (1772, 0.03500921674613376), (2864, 0.03500828012056846), (1514, 0.03497770026594708), (1548, 0.03489831061297426), (2944, 0.034892972611165425), (1534, 0.034846773757189364), (4085, 0.03480991170431395), (1274, 0.034733451100770224), (1310, 0.0347069628295452), (902, 0.03458069589128833), (3802, 0.03449870497687095), (3861, 0.034497107098657734), (1128, 0.034431135500444174), (2571, 0.03438994959782578), (3108, 0.03431088525074355), (394, 0.034296296514981575), (1631, 0.03427931116621017), (769, 0.034233128414821304), (45, 0.03422276375770694), (1991, 0.03419786738382019), (303, 0.03418861886356942), (2599, 0.03405233617312088), (3656, 0.03402473677810225), (2121, 0.03384170274484878), (347, 0.03382499994601306), (2114, 0.03378576146413897), (2497, 0.03377846976526538), (1992, 0.03375467230932424), (806, 0.03371972803183379), (3131, 0.03370750463069447), (263, 0.03368445013234393), (812, 0.033656340515234445), (4302, 0.0336286114759229), (3432, 0.033551574355306674), (4621, 0.03350032603426209), (3403, 0.03349239000507828), (1857, 0.033437132904052105), (1904, 0.033319240636306265), (1114, 0.03329408240740088), (3995, 0.03323741063263829), (4264, 0.03322022725685443), (4028, 0.0331929251765683), (538, 0.03317692202846996), (3943, 0.03310446561319107), (1795, 0.03307021378657657), (2661, 0.03306198566683971), (2038, 0.033053287504531105), (1137, 0.033051343162013), (237, 0.03304967308719404), (84, 0.033007006105777364), (1296, 0.03298397159671331), (376, 0.03297923768539602), (3548, 0.03295982353670022), (291, 0.03293356208440505), (326, 0.03278904085917921), (1671, 0.03272333487028657), (432, 0.03271374483278347), (2778, 0.032672017451268937), (1469, 0.03261657672113685), (2606, 0.03254239828574125), (3975, 0.032535424545004105), (1052, 0.0325305839346222), (107, 0.032527251774851405), (915, 0.03252343195331495), (3281, 0.03245495075013568), (3191, 0.03243564814198538), (3569, 0.032404124288967405), (4366, 0.032390721337972134), (1926, 0.0323775709033617), (1510, 0.03236442062244604), (118, 0.03234501421164422), (3698, 0.03233951771808398), (620, 0.032320869031590954), (509, 0.032310254814800245), (747, 0.03228935542569842), (2837, 0.03223475408668514), (1003, 0.03220394315787005), (3054, 0.03217176236171894), (872, 0.03205038164833313), (3576, 0.03199907117826731), (2278, 0.03196303981421937), (1095, 0.03195836869400566), (2460, 0.03195235277445744), (3839, 0.03187949333245813), (530, 0.03181429853369276), (1750, 0.031810944755381834), (3068, 0.03177677320215723), (3864, 0.03175644084190755), (457, 0.031721955860986015), (3789, 0.031619901528207824), (1726, 0.031604070798894525), (600, 0.031502010386114956), (4087, 0.03148344948480418), (257, 0.03148290764365136), (4420, 0.031445727258890846), (3966, 0.031440003517243506), (311, 0.031427660807861635), (3312, 0.031383284320698916), (619, 0.03136020245123476), (3722, 0.031349273094607305), (106, 0.031317755657694776), (1559, 0.0312697986095331), (2842, 0.031252599773186875), (3809, 0.031239630240582218), (1364, 0.031178069815386032), (3195, 0.031092022229485004), (3079, 0.031068063016238975), (1082, 0.03094303005522922), (4363, 0.030911757936668116), (4640, 0.030855198023652504), (2476, 0.030845603708060415), (2109, 0.03073527187465211), (3043, 0.030709047915065037), (4709, 0.03070664906321354), (2264, 0.030705826300474436), (2541, 0.030660736683971596), (2751, 0.030648182569148877), (2178, 0.030645427372513454), (4005, 0.030644915054833445), (3639, 0.030642251389587982), (2180, 0.030585837970216787), (3680, 0.0305544572437012), (1146, 0.030463409080859434), (4154, 0.03046156071512799), (2982, 0.030450486590589305), (3720, 0.03040428995207036), (4358, 0.030399518263934604), (2357, 0.030376039822215983), (2432, 0.030368746244861765), (447, 0.030350212885375105), (1484, 0.03033716190299164), (470, 0.030247809457283933), (3013, 0.030203425153940814), (588, 0.030186604698131596), (4700, 0.030155251794867825), (3901, 0.030103233233565556), (2730, 0.030077180040681883), (2618, 0.03000644857605407), (4513, 0.029887934299870036), (629, 0.02985260805502548), (3363, 0.02984490833690864), (1246, 0.029783918877269056), (4701, 0.02974965976815472), (1942, 0.029737108787853878), (3734, 0.02971585247914435), (4365, 0.029692680958471895), (3001, 0.029651482549936645), (1383, 0.029593114737889597), (187, 0.02956939779329495), (2496, 0.029463829717185808), (2273, 0.029461625304443205), (678, 0.029456440257217564), (963, 0.029450638139998885), (777, 0.029421618210850615), (3027, 0.029402841032328913), (2682, 0.029394970340970522), (1662, 0.02936434017547695), (1435, 0.029320920730953548), (17, 0.029286597267946222), (4697, 0.029286221518039814), (3771, 0.0292661468541062), (4266, 0.02922432208146368), (3480, 0.029217851866521174), (555, 0.029204629888320354), (1940, 0.029173636453289506), (852, 0.029166469542427152), (3076, 0.02914640607873896), (581, 0.02912476553604595), (1056, 0.02911197996531058), (3631, 0.029087473198906953), (4546, 0.029086858364471918), (1265, 0.029080889255180514), (4165, 0.029054511687143222), (2040, 0.02896225177381346), (2211, 0.028960551381101263), (160, 0.028878453062242473), (2701, 0.028875850449608623), (4208, 0.028848201431703708), (430, 0.028799328820895243), (4510, 0.028792768297051366), (1168, 0.028736208962579435), (4384, 0.02873224550401143), (65, 0.028720086494873398), (1419, 0.028713672404207587), (1057, 0.02871046526888419), (1281, 0.028640584426644574), (4380, 0.028639700884084004), (154, 0.028620190670187534), (1794, 0.028617258745924017), (4192, 0.028580249550619004), (3325, 0.028510553010904667), (1031, 0.02844867775323432), (3724, 0.02837122977996133), (824, 0.028368447218409417), (3773, 0.028326004822731038), (1224, 0.02831719090856518), (245, 0.028279640027361514), (1047, 0.02826337600310788), (2039, 0.028251671379983963), (3178, 0.028208595908598675), (4699, 0.028163287177235864), (1636, 0.02813777948883335), (2188, 0.028136766427910104), (191, 0.02811061075318026), (2359, 0.028032972405719205), (1386, 0.028029280380076096), (2327, 0.027994887819213447), (1154, 0.02796921535694522), (19, 0.027942932966484445), (4426, 0.0279271493757128), (4191, 0.027897347221733388), (516, 0.02789054086212534), (3768, 0.02787130659693321), (3900, 0.027849298396979028), (1391, 0.027847777810464176), (2450, 0.027830821453412213), (1536, 0.027824066108500134), (4593, 0.027756085496714187), (4660, 0.027748358454981505), (961, 0.0277015403496225), (2222, 0.027655201219639814), (4479, 0.027654654309913117), (4398, 0.027652019905620193), (4653, 0.02762030977067991), (4001, 0.027616412061578176), (1587, 0.027613126344206915), (4759, 0.027562432925856), (438, 0.02755888676779062), (4738, 0.02755748777046058), (1925, 0.02750372580598795), (865, 0.027491685615231094), (3805, 0.02748981950776927), (414, 0.0274649320970367), (2314, 0.027459036627949764), (4718, 0.02745454030710362), (2851, 0.027400831739073078), (3744, 0.027385928733796326), (1004, 0.027329194223780398), (3703, 0.027323325487043665), (3058, 0.027323004340791622), (1104, 0.027300513844165257), (2209, 0.02725286184111553), (3392, 0.027236818612230592), (3772, 0.02723261690024133), (2896, 0.027189039068641223), (1253, 0.027185246421065744), (307, 0.027165890390025593), (2205, 0.027109375292212072), (305, 0.027100828692499097), (2652, 0.02706774659766285), (4728, 0.027065409892068643), (1629, 0.027061157866108784), (62, 0.027026712214886266), (1580, 0.027012192227843432), (4282, 0.026905231747358413), (2182, 0.026883302275206935), (341, 0.026876590726987996), (3822, 0.02686952628366609), (3718, 0.026855508607724794), (1905, 0.026688297641942953), (4490, 0.026686281450538668), (444, 0.026663579255679325), (3299, 0.026604979887752487), (870, 0.026563264251976797), (1937, 0.026540710695855736), (4285, 0.02640715399934274), (2776, 0.026364980642513906), (2475, 0.02632553219700002), (1859, 0.02632047514798242), (3184, 0.026292708463283677), (3555, 0.026291537368448494), (3484, 0.026201453377166777), (3022, 0.026178679097818573), (1192, 0.0261525164102615), (1043, 0.02615088331534348), (4639, 0.026119099616415217), (518, 0.02610884675877976), (3769, 0.026098868366740906), (1248, 0.026063443417638166), (3488, 0.026022732592951188), (3994, 0.02600222365005541), (3991, 0.026000058018294404), (1966, 0.025999525277595997), (3498, 0.02591887610047541), (4587, 0.025854264096729782), (3318, 0.0258478747994677), (2573, 0.025825959772608917), (2938, 0.025809784787741992), (771, 0.025781331181455362), (1001, 0.025752233570465057), (4121, 0.0256940813756309), (3396, 0.025688346112567075), (3246, 0.025667443077626414), (252, 0.02565377216954407), (4574, 0.025622692237971506), (537, 0.02561433824756909), (1181, 0.0255398797126212), (1609, 0.02553670775458724), (2796, 0.025486971923930173), (4421, 0.02543877183261378), (2650, 0.02543352554233744), (3867, 0.025421473754901745), (2764, 0.025418829219848053), (1487, 0.025385002992380848), (595, 0.025355690230347387), (3051, 0.025324007796190318), (666, 0.025321682892473208), (811, 0.025306328402868433), (4286, 0.025300821229307248), (3021, 0.025252684829372228), (1953, 0.02520186707599739), (1928, 0.02517811290938023), (1976, 0.02513764798553334), (4480, 0.02512117858670001), (730, 0.025092489069600734), (2245, 0.02505226490456579), (4271, 0.025009933012198487), (1873, 0.024985918103566068), (3382, 0.024970433072455972), (128, 0.024963630589983483), (550, 0.024952676819564347), (1649, 0.024936554940261896), (3961, 0.024934742905368953), (2246, 0.024914309740802984), (3797, 0.024901185110403446), (3330, 0.02487620593919807), (1420, 0.024859607756812816), (371, 0.024858727354346844), (3606, 0.024847076133075605), (4197, 0.024843243623706785), (208, 0.024803354713708394), (875, 0.024794505791588463), (1554, 0.02477534016751095), (2500, 0.024769774263908813), (3824, 0.02475585858026845), (3114, 0.024735681321071453), (365, 0.024731612966377246), (1675, 0.024712757903549404), (1149, 0.024682452939721367), (3528, 0.024647930078530996), (1799, 0.02464574515168602), (2990, 0.02464282247256164), (3787, 0.024635495274458262), (1237, 0.024624909881160506), (3456, 0.02460314359464972), (102, 0.024584305902432657), (172, 0.024557116319665426), (1902, 0.024556662146479682), (900, 0.02451135053780629), (2734, 0.024478559352482637), (226, 0.024476139311263145), (633, 0.02445358298915082), (1099, 0.024446939960539635), (776, 0.02442138249314106), (2136, 0.024387942678557515), (3202, 0.024330628718783075), (1150, 0.0242709536353381), (3468, 0.0242520200628053), (4076, 0.024242156733822965), (3692, 0.024228599672659345), (2580, 0.024225481942509446), (346, 0.024215005358297695), (6, 0.024211050143785377), (188, 0.024210304093296928), (1879, 0.02420978745655988), (704, 0.02419680742674621), (4312, 0.02417638979344592), (1384, 0.024143469908083116), (1426, 0.024109806282073418), (2589, 0.024089316270345086), (3850, 0.02404808807543421), (1996, 0.023984072140196534), (2283, 0.023980381836188003), (1280, 0.0239617240179627), (166, 0.023957485908067757), (1791, 0.023956084150773247), (1921, 0.02392809769814692), (1667, 0.023904264701064895), (2263, 0.023902574094246905), (2782, 0.02389583807079527), (3865, 0.02387747972981146), (3699, 0.023862595319896995), (3897, 0.023858232803999315), (2689, 0.02385391134884945), (4614, 0.023842395327324878), (1993, 0.023832364857420355), (3437, 0.0238231450669132), (3122, 0.023812242535170634), (3007, 0.02379223635303381), (2330, 0.023791869870272098), (220, 0.023790194204539684), (2736, 0.023767613360192653), (3747, 0.02376684712523397), (1502, 0.023762979705822473), (2484, 0.0237374240040484), (891, 0.023703474323994854), (3348, 0.02369026544889399), (320, 0.023683206030629757), (4430, 0.023652427886559947), (2467, 0.023617858854449354), (3406, 0.023616683454923352), (2413, 0.023603888682875863), (2465, 0.02359291164831434), (313, 0.02358378786307943), (3890, 0.0235763920256657), (1757, 0.023573864507570264), (3853, 0.023569129390491647), (496, 0.02353787993512388), (1396, 0.023532662629417393), (1117, 0.023516346039374254), (1177, 0.023513534799631575), (3134, 0.023486182406707933), (487, 0.023433692337777867), (4466, 0.023431666068984683), (3189, 0.023398578536485807), (4567, 0.0233960419514116), (27, 0.023375042680795287), (2715, 0.023371690250059675), (2620, 0.023359055224747394), (3907, 0.02334625466322946), (3845, 0.023341307946606982), (1208, 0.023338256496336016), (4251, 0.02333092285341986), (810, 0.02332101311110646), (157, 0.023314082393484085), (189, 0.023302294632030277), (127, 0.023300742907746478), (1552, 0.02329957098476164), (918, 0.02328723963122326), (3338, 0.02325517593623511), (1067, 0.023242604889707055), (4106, 0.023221586011180437), (3623, 0.023213252222365297), (2070, 0.023203106830517038), (1513, 0.023199669251556695), (779, 0.02318852370442331), (3118, 0.023163766363973794), (95, 0.023147446085894384), (3549, 0.02314324974352525), (2785, 0.023141654120279), (4582, 0.02313601311449446), (1932, 0.023125651791087196), (2325, 0.023120061058239973), (4756, 0.023116370203844157), (1623, 0.02311412580474305), (2521, 0.02311322005748939), (578, 0.023103627447470437), (2456, 0.023096631809886393), (61, 0.023095498548976082), (1735, 0.023077640693605937), (4314, 0.023074494695147264), (739, 0.02306374545463908), (59, 0.023055845228527813), (1740, 0.02304494651862031), (289, 0.023018160440227677), (1860, 0.023013823706813985), (1930, 0.023004614796443938), (2257, 0.022970808006612848), (2543, 0.022969528389078925), (1372, 0.022963255287683147), (919, 0.022957532692807574), (1197, 0.022950374781816052), (1008, 0.022942459630836916), (2964, 0.022939130124850514), (2984, 0.022916713340456064), (369, 0.022912317085965), (4004, 0.02291021539057477), (3597, 0.022902332528156117), (908, 0.02290062845331067), (3218, 0.022885565676984073), (354, 0.022842747107042594), (1413, 0.022837351583920272), (2091, 0.02281573011846515), (3908, 0.022798614531319022), (2061, 0.022791687440633646), (115, 0.022772487927131962), (1353, 0.02276101752732807), (1846, 0.02275889978039793), (4677, 0.022743995142036018), (4372, 0.02272753376049748), (1456, 0.022721584650234043), (1778, 0.022698521613395993), (113, 0.022671602065504892), (408, 0.022624991637224364), (2501, 0.0226107564158481), (1889, 0.022610463420958786), (39, 0.022594890617962972), (4383, 0.022581121550508884), (3367, 0.022537921820422836), (2525, 0.022533824775286374), (1566, 0.022520595292566087), (1129, 0.022511022928031553), (1611, 0.022506833652298386), (1326, 0.02250629620162771), (1535, 0.0224994879950911), (135, 0.022483173976166913), (1262, 0.022442547401532884), (2225, 0.022421520338844265), (389, 0.022402546797152183), (1817, 0.022400771328638217), (460, 0.022397931650035705), (3612, 0.022386521232227126), (2985, 0.022332651241164226), (1345, 0.022328357208215546), (2699, 0.022325438784048704), (2280, 0.022291012955157088), (2929, 0.022262332465808776), (375, 0.02223877908556779), (989, 0.02221978844296714), (3340, 0.02218274397612392), (4060, 0.022126539085096503), (466, 0.02212388114593227), (1538, 0.022119848758828956), (979, 0.022072165198043864), (1696, 0.0220659487434144), (4754, 0.022034909657014132), (2687, 0.022016379926546797), (90, 0.022004560201520088), (1202, 0.022000840559087468), (2439, 0.021967889613901857), (1511, 0.02194789524073374), (995, 0.02192227392196737), (72, 0.021909289101127705), (3619, 0.021899881359634492), (1842, 0.021895126809363348), (4506, 0.02185545417361606), (152, 0.021852687368633796), (2488, 0.021804454997026768), (3819, 0.0217682624905789), (4725, 0.021672082799090185), (2150, 0.02167042985274879), (4343, 0.021652516168062696), (4691, 0.021614630367521474), (2013, 0.02161344871564571), (2738, 0.02160278324700598), (1230, 0.021598742433845658), (1954, 0.021587056574892564), (3127, 0.021572554724958025), (3089, 0.021570171059654933), (689, 0.02156414736634879), (1261, 0.021562682966408727), (93, 0.02155268456501466), (2681, 0.021514099194535268), (2927, 0.02151378961198413), (3605, 0.021511859905297716), (396, 0.021504463199013814), (1125, 0.021504068165233856), (2685, 0.021503345327940064), (1969, 0.02149256649625121), (1368, 0.02148785563583978), (249, 0.021468393505091707), (1219, 0.021467981967753576), (4080, 0.02145658069271767), (748, 0.02144744951558513), (751, 0.021423163252994003), (2711, 0.0214115661982506), (4279, 0.021399590731832813), (2756, 0.0213719616215226), (772, 0.02136537842046368), (798, 0.021355303855289703), (260, 0.0213434458102355), (1539, 0.021338369737946276), (1700, 0.02132690591343953), (368, 0.02131002918007141), (1327, 0.021279789028653594), (2779, 0.021260179327046044), (1271, 0.021206475259874756), (2679, 0.021175550058509796), (31, 0.021162976826709905), (3133, 0.021150940299034346), (4730, 0.021148471356273735), (820, 0.02113856538983058), (1843, 0.021111685923450467), (2303, 0.021105426557012568), (2932, 0.02109840592562471), (1710, 0.021096318849065987), (2202, 0.021081911335090946), (1323, 0.021032557802100234), (3452, 0.020983147194732862), (501, 0.020979139087407565), (853, 0.020974093375739054), (1183, 0.020968799450603242), (1620, 0.02092467586214577), (571, 0.020915458978190273), (46, 0.020914897551345173), (2079, 0.02089718076292858), (3746, 0.02085796110163337), (1673, 0.02083294966287963), (1206, 0.020819161329779064), (410, 0.020819149246978832), (3737, 0.02078432390504324), (604, 0.020776590531728825), (491, 0.02075478133882114), (2513, 0.020754577735201174), (651, 0.020724942298276757), (4238, 0.02071667868819469), (4597, 0.020672050447737296), (94, 0.02066460553286447), (80, 0.02061838414057837), (968, 0.020614088530541353), (2269, 0.020604773033926122), (553, 0.02059616920376794), (3419, 0.02058982743936973), (397, 0.02057458521789142), (1014, 0.020568387699733934), (4276, 0.020563476314984695), (4339, 0.020555280773964683), (3408, 0.02053039309714077), (3355, 0.020526221675592624), (4219, 0.02051422744574566), (1499, 0.020491987925508385), (1672, 0.02048568948445886), (4547, 0.020480431930263554), (4599, 0.020465641208371618), (453, 0.020460225876894302), (788, 0.020448342728426327), (3532, 0.020440357216455474), (3759, 0.020426961403737322), (67, 0.020405118656607303), (1729, 0.020381775944885154), (2728, 0.020369024618018667), (2033, 0.020355203097146123), (3247, 0.02035176344032212), (4403, 0.0203390766301903), (2954, 0.020335232269243175), (3972, 0.020334139349184314), (4464, 0.020289953950388115), (1134, 0.020283615875070146), (981, 0.020258507432124255), (449, 0.02023888551721376), (997, 0.02023801147566505), (1276, 0.02023359879436402), (1378, 0.02019485599434158), (4108, 0.020149462857974434), (2518, 0.020141485144850563), (3057, 0.02013785771566235), (1532, 0.020112576582991416), (3243, 0.020105512698374368), (681, 0.020099454104297507), (1733, 0.020071575418506665), (1808, 0.0200692727631943), (47, 0.02005180755496404), (834, 0.020047461458145642), (1833, 0.020031158298412902), (1239, 0.020028414279955026), (3909, 0.020028168226515587), (81, 0.020026005180508545), (3795, 0.02001771625753119), (333, 0.020015561103751085), (954, 0.020000119051772992), (2724, 0.01999569221945745), (4078, 0.019981448911376872), (2723, 0.019962614363230324), (4371, 0.01996029975526458), (1900, 0.019935696337235867), (4668, 0.019915628498941726), (1712, 0.019896001689369388), (3469, 0.019881515739748078), (703, 0.01987782319149703), (4535, 0.019870772635888535), (1608, 0.019862602386141227), (4721, 0.019860628562885438), (3065, 0.01984419484189778), (3461, 0.01984082813481377), (2704, 0.019840456947117075), (4453, 0.019822316275193888), (495, 0.019792462842556494), (3080, 0.019788432233986342), (899, 0.019788217341663934), (4734, 0.0197829333814918), (2360, 0.019777090400171365), (2047, 0.019774619861288648), (3371, 0.019764163922585596), (1199, 0.019740607780888434), (2493, 0.019733825365709567), (663, 0.019731458266605693), (1210, 0.019725753236575484), (2843, 0.019714461332852384), (1836, 0.019711663746356772), (232, 0.019709411434976454), (2101, 0.01970574214799619), (4615, 0.019689019581727252), (569, 0.0196691487740883), (4277, 0.01966243142015757), (3697, 0.01965556836569444), (2637, 0.01965393405994114), (4468, 0.019647366313678673), (1731, 0.019625947280237376), (686, 0.019621160454670373), (1427, 0.019616601708106716), (4495, 0.01960756979345246), (1389, 0.01960063338405922), (277, 0.019576526495014686), (455, 0.0195637270264957), (227, 0.019563686560841263), (4077, 0.019561707404434248), (2811, 0.01953825900800238), (3453, 0.01952702592967895), (253, 0.019506659165476357), (762, 0.019504717422625762), (591, 0.01949660049992001), (2233, 0.019482590253524924), (1572, 0.019478194147913873), (733, 0.019469797133849456), (3333, 0.01946449608649846), (1091, 0.019435923300915117), (2879, 0.01943377730651401), (2369, 0.019409252254659996), (2516, 0.019396150983030068), (234, 0.019366776925817984), (977, 0.019365029957289448), (1546, 0.01935842092626072), (2898, 0.019346685778625028), (3181, 0.019345762180578395), (1064, 0.019333074880200297), (3229, 0.01933152312718888), (3515, 0.0193018020066719), (1450, 0.019284427820233284), (615, 0.01928146637732984), (781, 0.019278422289511748), (4676, 0.019270186208435618), (2860, 0.019261660935592784), (178, 0.01925700615458965), (3889, 0.01925377345255586), (3393, 0.019246262724260506), (4493, 0.019226663196502784), (2021, 0.01921683208604837), (1821, 0.019209517944468898), (4627, 0.019201753696992507), (2675, 0.019189850520916648), (1120, 0.019184904748561094), (1995, 0.019184806081123603), (1429, 0.01918374410457417), (3977, 0.019174186630155746), (2382, 0.019169471230531233), (4354, 0.019149828566909808), (3405, 0.019125716961132473), (4664, 0.01911179951846334), (835, 0.019110443789169256), (2622, 0.01909143744301433), (180, 0.019065629329948954), (1564, 0.019063390804694647), (1871, 0.019046508338638513), (3059, 0.0190191028338449), (3834, 0.018995416962790584), (4554, 0.018968682299853865), (1971, 0.018967521609784536), (413, 0.01895746819675936), (2729, 0.01894032159723199), (2762, 0.01893748672605355), (3527, 0.018922589570662295), (833, 0.018915937771844596), (78, 0.01891528942714432), (2086, 0.018908292440983934), (671, 0.01890229388089776), (4505, 0.018885333081805716), (603, 0.0188828405128941), (74, 0.018881320274018423), (4134, 0.01887374556682484), (3636, 0.018864881888583356), (314, 0.01886325184216677), (3756, 0.018858544984247896), (4318, 0.018853058002705887), (4622, 0.01884484792093132), (913, 0.01883152421754106), (3132, 0.01882241878243128), (1461, 0.018821818048940217), (2827, 0.0188019424182852), (2296, 0.01879822342057747), (2337, 0.018795927190224816), (4406, 0.018778437925947862), (3550, 0.018774849166975673), (2355, 0.01876025545424409), (1013, 0.01875878720068246), (2089, 0.01875078923676962), (3305, 0.018708012205981915), (599, 0.018677241661886095), (1688, 0.018666631303274436), (656, 0.018651403070229156), (937, 0.018643576794043625), (3968, 0.018643279676875173), (2155, 0.01862580958449689), (3310, 0.01861261721438924), (1081, 0.018595571017328054), (2227, 0.01859493649786664), (2217, 0.018585592804793157), (1204, 0.018573052536155255), (3665, 0.018569251457182433), (3919, 0.018558654603932082), (109, 0.018557152546051035), (359, 0.01854868870228832), (3957, 0.01854768215909764), (131, 0.018546345194671222), (4100, 0.018545065870548466), (2605, 0.018532574005549383), (2090, 0.01852862635059515), (3216, 0.018522753806013814), (4250, 0.018501336607847994), (4501, 0.0184945575309891), (4486, 0.018493140658083575), (796, 0.01848978888315283), (2745, 0.018477163355065638), (2691, 0.01847027388730923), (1470, 0.018467480730079165), (443, 0.018457021770951047), (57, 0.01845575988637732), (343, 0.01844463037873087), (3947, 0.0184405909542237), (993, 0.01844044101493843), (1911, 0.01843632434348368), (1530, 0.018428297693726902), (3798, 0.018415044135825648), (3265, 0.018386612089990532), (3278, 0.018378468256730885), (3743, 0.018369425075270493), (76, 0.018360845893808802), (4334, 0.018349008382401867), (2813, 0.018344847963765867), (151, 0.018339176505856314), (4467, 0.01833832631589548), (814, 0.018327672095057514), (3508, 0.018317990174548292), (3463, 0.018313650157397273), (760, 0.018306148020866945), (472, 0.01827711293410225), (778, 0.018270333700159364), (42, 0.01824958846679104), (1924, 0.01823054581873117), (2486, 0.01821926280221127), (1184, 0.018204809543809944), (3840, 0.018199490484095145), (3570, 0.01819127905025622), (1950, 0.018191248444259404), (3963, 0.018168780668808542), (3542, 0.018164311756884582), (4703, 0.018149547990939943), (3690, 0.018143031906388194), (1111, 0.0181418703675263), (400, 0.018137735139000282), (2638, 0.018130979429234664), (2955, 0.018129288080437105), (1108, 0.018114407232039997), (2181, 0.018112959208775835), (2881, 0.018072920726948903), (1101, 0.01804514751634019), (4494, 0.018027332980723357), (28, 0.018025109314420543), (817, 0.018012653895382293), (877, 0.017995345051551575), (167, 0.017981781774264634), (4014, 0.01796281858832327), (119, 0.01795965798108671), (4041, 0.017956528966708372), (4391, 0.017941483865552894), (4581, 0.017918697014825645), (2078, 0.017896415495494835), (1277, 0.017895205320461603), (2763, 0.017877432740376432), (3069, 0.01787653917666731), (258, 0.017874469601526815), (2029, 0.01787186128974541), (2503, 0.017856550979002395), (250, 0.01785633016915372), (1374, 0.017854543999622358), (436, 0.017853722959321312), (378, 0.017829370421410754), (2026, 0.017827464212182773), (3427, 0.017820395061829666), (701, 0.017813003646585293), (1505, 0.017804725799136136), (1151, 0.01780158709689312), (2906, 0.017794449315543893), (4043, 0.01778649495879666), (4178, 0.01778090912626605), (4364, 0.017770197663564725), (1701, 0.017769022005206775), (477, 0.017764931150906917), (2377, 0.017764033687527454), (2804, 0.01775876636372069), (4070, 0.01775660405917461), (2766, 0.01775644483237954), (3982, 0.017748885239345386), (2255, 0.01774353574455049), (2473, 0.017726960608628023), (1269, 0.017724706662444512), (3955, 0.017716646965501726), (164, 0.01771153969087585), (4128, 0.017688506491602318), (3594, 0.01768319942994845), (1376, 0.01767459191208864), (1022, 0.017672137964982685), (2326, 0.017669653805537425), (201, 0.017667649182039585), (881, 0.017652653866906527), (259, 0.01765168348839848), (2850, 0.017644777651192836), (4022, 0.01764309246434972), (3362, 0.01763532142295011), (2231, 0.017634103164713255), (1500, 0.0176284617171595), (22, 0.017627646202675224), (1867, 0.01762027002331587), (2112, 0.017612645338636237), (720, 0.01760601002741946), (674, 0.017598473528974205), (2996, 0.017561176959271438), (2471, 0.017549547429359325), (4646, 0.01753493176777567), (215, 0.017528098576512635), (3937, 0.017521257894146054), (613, 0.017499022167446008), (1416, 0.017493272039289534), (1813, 0.01748241846689245), (4254, 0.0174772529077465), (1589, 0.017477013717109833), (2686, 0.017465871321719867), (1744, 0.017463378741309703), (3301, 0.017439985344871616), (896, 0.017432421858425397), (3691, 0.01741882650685193), (3685, 0.017416709086381953), (3036, 0.017404103028242475), (2713, 0.017391985435770172), (150, 0.01737870685390217), (3368, 0.01733291572799713), (2823, 0.01733158048312399), (567, 0.017312348651843504), (3709, 0.017303745707757133), (1897, 0.017301841858664138), (1325, 0.01729605561626241), (3625, 0.017281976024425504), (3694, 0.017269702180313644), (3653, 0.01726183194456726), (1267, 0.017247511961842283), (3704, 0.017244541662859485), (2477, 0.017240875344751407), (3844, 0.01723401026805942), (3627, 0.01722226989643858), (554, 0.017221398560852027), (1592, 0.01721809875085727), (3501, 0.01721315840291672), (1245, 0.017208940199566227), (4588, 0.017193519059688637), (2642, 0.0171896584768312), (2152, 0.017187746344173915), (3407, 0.017185405091746802), (1952, 0.01718351394389676), (1668, 0.01717836781290849), (4472, 0.0171613038453556), (3641, 0.01714580013772195), (4139, 0.017143616048969114), (546, 0.017129168075942048), (2254, 0.017123943053254088), (3053, 0.01712159396251566), (3226, 0.01711946163514415), (4568, 0.017110259239695967), (3141, 0.01710412580393235), (3998, 0.01710366746858522), (2690, 0.017099730888590153), (390, 0.0170871058148684), (628, 0.017073120861747774), (3868, 0.017071427534209416), (4297, 0.017056949951879792), (4565, 0.017053879603843802), (1071, 0.01702912813433824), (427, 0.017028691521144296), (367, 0.01700728476346096), (1285, 0.016996848332403985), (1779, 0.016989415980122716), (3595, 0.016985810664507474), (2135, 0.01697408458221342), (622, 0.01695621854430963), (3965, 0.016955191601035192), (2044, 0.016950161065511605), (849, 0.016922713128250135), (3250, 0.016888615834631967), (2482, 0.016873419575986277), (2950, 0.016871074691664358), (3645, 0.01686724608188148), (765, 0.01686488590866755), (171, 0.01685208730952996), (2995, 0.01682573277499572), (3285, 0.016823190072472814), (1400, 0.016820990560743574), (654, 0.01681870911287111), (2959, 0.01679886078957686), (3942, 0.01677622961214211), (523, 0.01677454762008822), (1256, 0.01676241349078912), (763, 0.016760319761792108), (2203, 0.01675057158096396), (3783, 0.01674430326845474), (4359, 0.016712656448276946), (1783, 0.016704373654559932), (1621, 0.01669379535864085), (3193, 0.0166770421047874), (660, 0.016668902407100183), (1229, 0.016659565709684628), (482, 0.016655990500078918), (1292, 0.01665233566889835), (903, 0.016641410035107742), (3546, 0.016615806944372476), (1457, 0.016615488676345186), (702, 0.016609900559851044), (1903, 0.016607352601874553), (2578, 0.016594404292054325), (4698, 0.016592856760240027), (565, 0.016581739968801974), (4362, 0.016580879379369525), (492, 0.016575214806709555), (1406, 0.016550132182744474), (4275, 0.01654548796730064), (1949, 0.016543485001802076), (4379, 0.016533505783821786), (2780, 0.016522743087587485), (980, 0.016492507338840032), (2064, 0.016482730476068665), (2285, 0.016471954766117233), (35, 0.016462962814537536), (638, 0.01644395885393304), (3153, 0.016432071159103195), (745, 0.016414358335887815), (2235, 0.01639737149720284), (1354, 0.016377284301554707), (1477, 0.016374950845775303), (3294, 0.016374471500910273), (1066, 0.016350877471374918), (1343, 0.01634894163803737), (3696, 0.016330642114017534), (3389, 0.016327881977875568), (1421, 0.016324841504522698), (652, 0.01632209049475511), (2666, 0.016320120256070377), (1984, 0.016317248042165857), (1306, 0.01631320574668317), (3923, 0.01631251844956435), (1761, 0.016307266663227817), (36, 0.01630437246831304), (3535, 0.01628523123500165), (145, 0.01626755498318808), (1982, 0.01626110406945366), (657, 0.016255935206366243), (2125, 0.01623696752745269), (243, 0.016231422816502042), (832, 0.016225340568544598), (2210, 0.016224468196997393), (1584, 0.01621313568670377), (1528, 0.016205248625945017), (3598, 0.01620474514962228), (2236, 0.01619003597405202), (4153, 0.016178276597278246), (2749, 0.016157291436269382), (3614, 0.016149168939187677), (1138, 0.016142143508478545), (2130, 0.016130597936801036), (3047, 0.016121500945134485), (2265, 0.016116840457713798), (636, 0.016115822570623686), (4412, 0.016110358124958188), (3670, 0.016093939735088613), (4503, 0.016093618240425454), (1132, 0.0160933671788636), (515, 0.01608223547540179), (1171, 0.01608160013900678), (30, 0.016080122650479506), (1657, 0.016034031659177446), (2058, 0.016020924447648088), (2344, 0.0159906860385168), (2695, 0.015977201936436723), (108, 0.015921260890337068), (1088, 0.01591159938422728), (3231, 0.015897955539312256), (1, 0.015857237966330748), (4331, 0.015841852028459488), (1811, 0.015829190886745795), (3201, 0.01582436090579258), (4171, 0.015815397407448556), (4527, 0.015813414429841938), (1252, 0.015810118723484052), (1394, 0.015807316295321557), (2608, 0.015772024094247505), (1468, 0.015736342437672815), (855, 0.015703284442760902), (3063, 0.01569991158190085), (1314, 0.015697686239395922), (1283, 0.01569019801251049), (727, 0.015677956810620647), (4284, 0.01565729456107581), (2240, 0.015656935826149403), (480, 0.015656008207894784), (927, 0.01565263585324899), (2910, 0.015613122619820835), (912, 0.015611126719082791), (4746, 0.015598759252012956), (545, 0.015595668593161499), (1301, 0.015587339956254928), (2632, 0.015582427159339031), (4389, 0.015582243612034825), (4299, 0.01557790697307843), (2008, 0.01551859518095781), (1017, 0.015510390790882227), (329, 0.015480031003483614), (3470, 0.015436903873104505), (2889, 0.01542941901259127), (901, 0.015417147654558533), (2539, 0.015411572245912764), (3011, 0.015409285430881225), (3481, 0.015406437112195585), (87, 0.015404550620558552), (1565, 0.015392041204290653), (1249, 0.015391475669795172), (73, 0.01537001172414854), (278, 0.015366358754853782), (1158, 0.015365310645712773), (170, 0.015343091618669915), (4120, 0.01532989013365805), (1212, 0.01531561153395951), (2733, 0.015277161758563248), (364, 0.015273287760278363), (4337, 0.015270479697637528), (2177, 0.015262603816251948), (4227, 0.015182112612485806), (627, 0.015177004151833757), (1375, 0.015166746842940233), (601, 0.01514504220068116), (360, 0.015141665040812543), (1802, 0.015121106887328303), (2598, 0.01509755291952777), (1046, 0.015079017526285586), (1167, 0.01506711807656235), (116, 0.015060767519483556), (2229, 0.015029604859212276), (1009, 0.015022492145350192), (3634, 0.015010353267498406), (4133, 0.01499599337538655), (236, 0.01498914657821502), (196, 0.01498592498451922), (661, 0.01496959200499501), (1665, 0.014941162979245503), (3938, 0.014911591836697794), (75, 0.014911258041697753), (4328, 0.014907339034150013), (4595, 0.014881444391947099), (3559, 0.014880523072128364), (64, 0.014869130242940051), (3086, 0.014856792687506566), (4090, 0.01481961885607165), (1661, 0.014809966052216803), (1724, 0.014808106543828688), (2119, 0.014803222088961822), (420, 0.014788514716710568), (706, 0.014784102566542693), (3584, 0.014770087183284273), (991, 0.014762713763435752), (2221, 0.014759050599871704), (1068, 0.014757505759938182), (1519, 0.014756397287353524), (1760, 0.014753754804236522), (1614, 0.014712579202938534), (3711, 0.014702483829308475), (2949, 0.014694647573642007), (1119, 0.01468349582356827), (2770, 0.01468084554777163), (3460, 0.014673769467507427), (2630, 0.014647676096485568), (3413, 0.014635271953594011), (801, 0.014617423656884558), (1407, 0.014615247520069095), (910, 0.01460746977815348), (239, 0.014587650881698144), (489, 0.0145759417002107), (1341, 0.014570956763752932), (1796, 0.014559752703798176), (1452, 0.014536633117109279), (1531, 0.014531222714213806), (1360, 0.014523250686673456), (602, 0.014494994774083924), (2028, 0.014491702033945597), (1784, 0.014490174781749333), (1892, 0.014490155868835525), (2018, 0.014480656439642324), (1449, 0.014478457385078324), (3334, 0.014469947790096745), (3705, 0.014439701093471573), (2009, 0.014431394648582122), (461, 0.014429302457086596), (1964, 0.014424909155269337), (440, 0.01438300492544095), (2191, 0.014311049332839762), (3666, 0.014279792061468793), (4552, 0.014255270677619237), (1414, 0.014236072443847527), (3099, 0.014193816505794389), (3446, 0.014124113483048175), (3179, 0.014121931948969194), (200, 0.014100161631198448), (1431, 0.014082737144236884), (808, 0.014067862161170355), (1403, 0.014064614507741845), (3815, 0.014021473726684717), (149, 0.01398376758947862), (847, 0.013972582701202003), (2295, 0.013971543292963361), (1677, 0.01396723647428855), (3833, 0.013966637358572957), (1467, 0.013966414629285294), (2991, 0.013936031440488396), (3357, 0.013932059726853909), (926, 0.01391566211047544), (4295, 0.013911692724583308), (3005, 0.013900309917803324), (1348, 0.013899772446073776), (1985, 0.013896898649066083), (4517, 0.013836075481154552), (2284, 0.013827089914662187), (998, 0.013812958538300783), (2138, 0.013810032290716305), (1223, 0.013806080737225522), (3148, 0.013795690210465027), (3520, 0.013793801449460213), (1051, 0.013707696687281265), (4623, 0.013703225551382505), (2760, 0.01369417784423114), (2579, 0.01365781431309723), (4654, 0.013654048443495976), (4708, 0.013647840816414939), (1594, 0.013642267210164566), (4665, 0.013640246379188054), (2480, 0.013634682907914641), (4396, 0.013632329411267382), (2981, 0.013631634914878126), (1272, 0.013550698767323309), (2372, 0.013548972847484245), (1573, 0.013548743509222732), (4605, 0.013534541360024983), (3681, 0.013526399903837756), (3793, 0.013520295356533346), (1551, 0.013516881566822535), (634, 0.013510308283583343), (1356, 0.013506253695834587), (4138, 0.013505860208200018), (1635, 0.013487641258136462), (1773, 0.01347453711023833), (254, 0.01343002988558665), (1933, 0.013405759393204698), (2759, 0.013401023845696615), (4534, 0.013375950283757567), (4373, 0.01336450550992861), (3583, 0.013353909214745423), (2057, 0.013337414789216401), (1347, 0.013283905841612981), (1493, 0.013259026422203547), (293, 0.01323473416209231), (3664, 0.013219452796139458), (1632, 0.013186088475863904), (4261, 0.013171566520192121), (3126, 0.013170692710837978), (3970, 0.013153596247419456), (2116, 0.013150727590329026), (1633, 0.01314113277596882), (1207, 0.013138753857064272), (1103, 0.013129987872535354), (3881, 0.013115257235606324), (561, 0.01309137943353358), (4245, 0.013091370111778362), (4607, 0.013074376506031816), (395, 0.013072938426936492), (4441, 0.013064314652230312), (3781, 0.013055339210984084), (433, 0.013053151849697643), (1630, 0.01304942150964324), (4111, 0.01304394822201639), (1428, 0.013036886520527348), (1211, 0.013031607486988582), (284, 0.012994703583655379), (271, 0.012977779020371073), (3823, 0.012930830566748161), (1951, 0.012927670376116019), (1914, 0.012925283388071116), (3442, 0.012924532479370802), (1451, 0.01291827020082238), (1723, 0.012910620487435746), (2139, 0.01290757041610472), (4585, 0.012868802329555774), (1303, 0.01286587870829879), (2524, 0.012858493107765386), (3788, 0.012855666450581046), (3511, 0.012826053449412261), (4410, 0.012822918949630717), (719, 0.01281992878870869), (1819, 0.012812733178607106), (1555, 0.012802931225477135), (336, 0.012795799229325168), (1430, 0.012787989909877425), (1480, 0.012783028996183233), (7, 0.012753326647009032), (1562, 0.01273866244336781), (1006, 0.012729892331672476), (240, 0.012729699161604529), (4433, 0.01271241678236552), (2405, 0.012672836292736066), (2110, 0.012618450623048783), (3517, 0.01261612376251429), (4422, 0.01259163055203078), (813, 0.012588544730179067), (4618, 0.012578012179996004), (2917, 0.012569055255163528), (124, 0.012557938215999605), (1568, 0.012550320048648863), (971, 0.01254180431814611), (1990, 0.012529663359651399), (1768, 0.012527575718924657), (2234, 0.012514467071256072), (1840, 0.012513120338494225), (4329, 0.012511096025356716), (3474, 0.012496798449673968), (148, 0.012480252300197177), (1077, 0.01244804183682515), (2732, 0.012426623660312804), (4290, 0.012412700130678477), (2031, 0.012410353348587776), (4551, 0.012404177954186156), (893, 0.012401328777808415), (4210, 0.01235899552135917), (990, 0.012312555168013729), (1741, 0.0122832774111948), (2192, 0.012270642911993883), (312, 0.01226900211396274), (4609, 0.012268451657681671), (559, 0.012252499605670665), (4101, 0.012233311794089048), (3495, 0.012229263151075646), (2871, 0.012228610256154718), (202, 0.012213697985469202), (3926, 0.012204271159354262), (2097, 0.012196889524228817), (3188, 0.012170804371879092), (1948, 0.01216492191866201), (2082, 0.012159415647387678), (3104, 0.012156156112351484), (2074, 0.012141243315683406), (3673, 0.012135344755458327), (2617, 0.01212532532329943), (4511, 0.0121190306047602), (222, 0.012104744841818567), (724, 0.012100670295153413), (3586, 0.01206236683061493), (3350, 0.01202076871128427), (1447, 0.012018277416205364), (2316, 0.012005467479119847), (1705, 0.012002265619365715), (3173, 0.011999663529343235), (169, 0.011971390980846576), (296, 0.011959818439375623), (831, 0.011954601169687502), (2980, 0.011950079011676024), (1084, 0.011939409683113392), (4488, 0.011923246394984478), (26, 0.011922080128988388), (4530, 0.011916544198722479), (1699, 0.01189890675461915), (99, 0.011894150463635445), (4557, 0.011889300899509942), (4489, 0.01188747682283193), (4327, 0.01187469030393792), (693, 0.011859270804526487), (301, 0.01185628864840469), (1838, 0.011852029230970569), (755, 0.011841423768282011), (3702, 0.011827575563111032), (292, 0.01182177647864502), (662, 0.011813867599630575), (4158, 0.01180863284085054), (1373, 0.011804510950838978), (1007, 0.011799579551167411), (2801, 0.011797571856783557), (3279, 0.011784673705079945), (1627, 0.011756075861307468), (1076, 0.011745334598009163), (270, 0.011722102532350103), (646, 0.011717439763310616), (179, 0.011711946132673482), (1561, 0.011711789866493166), (3018, 0.011705154580781904), (2117, 0.01168771922360717), (3439, 0.011678230111983406), (1231, 0.011676006563972404), (1912, 0.011665749157293367), (2143, 0.011649706686989341), (2016, 0.01163564957913754), (1877, 0.011627144014336505), (970, 0.011619654158800513), (4040, 0.01161828358967303), (185, 0.011519407205312965), (1334, 0.011505947888143195), (1663, 0.011478866865794466), (3615, 0.011474203716584891), (4663, 0.01146900516282744), (1973, 0.011462319169426671), (279, 0.011406806071511037), (2958, 0.011351557068358602), (864, 0.011325645653272324), (3245, 0.0113245424441661), (2615, 0.011318740693726858), (2528, 0.011315353634610106), (454, 0.01130850750528555), (549, 0.011305005939149038), (104, 0.011279085206651142), (978, 0.011270244191803603), (1388, 0.011257130458766246), (4616, 0.011255665039732833), (324, 0.01123042969296312), (4174, 0.01121502186210932), (1979, 0.011211431184211976), (542, 0.011190148191429293), (2564, 0.011185596755210383), (524, 0.011177928007793162), (4268, 0.011163059025300376), (4186, 0.011153808025437454), (4056, 0.01114776075035718), (1529, 0.01112467295382602), (465, 0.011124053891507554), (3944, 0.011086072438145876), (3989, 0.011079383647417312), (953, 0.011073216225529457), (1395, 0.0110703022571036), (3098, 0.011069105994396347), (4674, 0.011045890623737358), (2402, 0.01103472772271759), (473, 0.011023590295716451), (4647, 0.01101813141179827), (2741, 0.010970958648858086), (1625, 0.010956626447063507), (3863, 0.010949145946457114), (2966, 0.010945347866288554), (3471, 0.010934970992554548), (4720, 0.01092817576095642), (2574, 0.010925776618732883), (2698, 0.01092031002003618), (3111, 0.010905527979875115), (1509, 0.01090136095158463), (1762, 0.01086999247748047), (4104, 0.010800374706699246), (85, 0.01078254243101782), (3758, 0.010768552828741024), (1033, 0.010743468650935927), (4536, 0.01070835603190093), (2781, 0.010697556358991436), (2886, 0.010693369315577957), (4558, 0.010676121704869807), (317, 0.010669198700102139), (4645, 0.010667581184315753), (780, 0.010663878129463442), (3171, 0.010661835477344544), (1482, 0.010650442534792717), (1307, 0.010547718785041748), (1492, 0.010544516122094323), (950, 0.010519412826820486), (3238, 0.010485935442663394), (655, 0.010466652242110215), (3547, 0.010457117160358402), (286, 0.010455914893517356), (4411, 0.010438645584785857), (4316, 0.010416659632779872), (2352, 0.01041336849321876), (3376, 0.010404849479712697), (2874, 0.010402573644981152), (4750, 0.010394175251268966), (4454, 0.010387402964508534), (1920, 0.010363369184246761), (925, 0.010352741055671605), (4538, 0.010352271864630964), (1352, 0.010350139699365673), (2952, 0.01030433287721855), (1365, 0.010289272920980053), (175, 0.01028880726058256), (4502, 0.010236878670553635), (58, 0.010216713503355046), (1062, 0.0101881392165522), (2400, 0.010183657324286891), (839, 0.010172507996013902), (1351, 0.0101423695756474), (3430, 0.010142149162871582), (2931, 0.010138845578489928), (1387, 0.010118231829311118), (214, 0.010106932858601878), (2921, 0.010074688974716937), (441, 0.010068999963679841), (2115, 0.010059906895163747), (158, 0.01005392644193608), (843, 0.01002031470732824), (4141, 0.009993419352834581), (4549, 0.009988108574505739), (3679, 0.009981041899061606), (1464, 0.009980998006918646), (3831, 0.009873392916903147), (2441, 0.009866861169539517), (100, 0.009847286645107544), (4226, 0.009843193613031894), (3959, 0.009837817723196578), (1646, 0.009803902297227406), (611, 0.009788233083147753), (2979, 0.009781974556335515), (3092, 0.009726886299254684), (309, 0.009691367302342076), (1805, 0.009671293372003573), (4288, 0.009663609665121139), (4167, 0.009658511152968771), (1153, 0.00964268681732027), (251, 0.009606677972301506), (3235, 0.009598280045743085), (3409, 0.009562507520912863), (960, 0.009555618697991297), (3401, 0.009543450849315896), (1116, 0.009538460662606886), (275, 0.00952134697777304), (1040, 0.00951676763996429), (4180, 0.009514698542772052), (1189, 0.009464706047871533), (607, 0.009389085676739607), (3626, 0.009348189684102035), (2194, 0.00933819070426099), (4716, 0.009331574658789478), (351, 0.009296168138694005), (4672, 0.009253976886346056), (3530, 0.009229986340833567), (3445, 0.009220939301664812), (3522, 0.009214903845216523), (2398, 0.009199414297789352), (4404, 0.009198742142786707), (2017, 0.009188723047875675), (2073, 0.00917626491073744), (381, 0.009154455271644754), (816, 0.009122575200364557), (4149, 0.009102725870645085), (630, 0.009097446484413588), (4583, 0.009096982043453071), (3526, 0.009084296656999101), (4755, 0.0090583196937143), (552, 0.009040766736085738), (265, 0.009024886158461233), (2773, 0.00898891195072805), (1163, 0.008987826766496086), (4188, 0.008946045921457684), (331, 0.008942414621790327), (2839, 0.008932217572188712), (4278, 0.008926924267422351), (1891, 0.008925573562641878), (1634, 0.008923751656290486), (4542, 0.00890175769458212), (2498, 0.008868780002808878), (4029, 0.008823557768107821), (4157, 0.008823157022505851), (1882, 0.008821698752077922), (3580, 0.008821299086498566), (4352, 0.008797787842450376), (746, 0.008792355403337246), (557, 0.008773876799600575), (641, 0.008725435318946472), (556, 0.00870344241448662), (2056, 0.008676304398722126), (3872, 0.0086761724457404), (1287, 0.008674669139153653), (4459, 0.00866189789359305), (2829, 0.008626259631405621), (4434, 0.0086250436102969), (1825, 0.008612680804657444), (3985, 0.008607181611338683), (1218, 0.008589345039340718), (3859, 0.008516227563457022), (3609, 0.008466087459515539), (1824, 0.008463326507385793), (3320, 0.008456455093213223), (4159, 0.008438214321015335), (1556, 0.008433044270994249), (1899, 0.00839365143892661), (3280, 0.008382575313964505), (1135, 0.008355156170939132), (770, 0.008316151392307992), (558, 0.008302469427767252), (411, 0.008264203330338143), (3244, 0.008247889409149658), (4525, 0.00824496553987768), (3738, 0.008235401962947805), (2835, 0.008228066476812457), (338, 0.008214521455618533), (3130, 0.00821390678455869), (352, 0.008183283373571883), (2596, 0.0081815176639916), (337, 0.008171925535439993), (2453, 0.00815843655589224), (4109, 0.008146789264879281), (2534, 0.007958978967053802), (3411, 0.007899388500034084), (4532, 0.00788145252532046), (2059, 0.007852446805833427), (3394, 0.007852117987402273), (4385, 0.007836618274411521), (1863, 0.00777597698058172), (3731, 0.007678387903252598), (4018, 0.007565800453275261), (1342, 0.007518542261798459), (2373, 0.007508761915139011), (3835, 0.007338493660184478), (163, 0.007308322341022115), (506, 0.007296407581587484), (3971, 0.007260965248644311), (3185, 0.0072062290112906565), (4414, 0.00682369827594029), (2768, 0.006750936474857672), (996, 0.006701556458746632), (2275, 0.006431422362117076), (4666, 0.006429601298192158), (3635, 0.006420944755629886), (947, 0.006406328386369638), (1939, 0.006302719632976592), (3721, 0.006300201974569067), (2655, 0.006293740219789358), (2075, 0.006222864799923974), (4444, 0.006221178628069916), (3715, 0.0061282887064349305), (2645, 0.006111982761310734), (2154, 0.006083217793614302), (3828, 0.006006293251125945), (4710, 0.0060030880153163005), (4047, 0.006002697077781745), (2795, 0.005997609902485271), (3638, 0.005921162748151002), (2939, 0.005914993085717658), (4612, 0.005912294025005953), (4242, 0.005900046869271418), (3049, 0.005896758553067528), (2660, 0.005879216143007714), (4724, 0.005854356729648233), (670, 0.005852838715550829), (3521, 0.00585077828289857), (3588, 0.005835062918965906), (2328, 0.005829001169170159), (1058, 0.00582104886656769), (4443, 0.00581786363535269), (3154, 0.005812747093018386), (842, 0.005807072960887791), (2459, 0.005780540858303863), (3448, 0.005761213248350558), (4514, 0.0057444796005501715), (2727, 0.005712170991072236), (1941, 0.005684206871722456), (4524, 0.005667363680358996), (3766, 0.005663559958393551), (3675, 0.005661240274031335), (512, 0.005644677069874178), (2567, 0.005635716620529137), (4735, 0.005619868295695251), (904, 0.005590513914611202), (2406, 0.0055785020996670645), (3384, 0.005567804003308773), (3377, 0.005557367764150885), (3275, 0.005550839420983144), (2468, 0.005548988687286575), (3019, 0.005528653014988015), (3741, 0.005516635653684263), (2427, 0.00551651700608958), (3450, 0.005515700947030083), (4163, 0.005506131591986444), (753, 0.00550527439240086), (860, 0.005502598525308567), (1591, 0.005500267923986093), (1815, 0.005497607765392245), (905, 0.005493792226884123), (4281, 0.005488965500892984), (3708, 0.005483434911049284), (1275, 0.0054798682260992675), (4162, 0.005466265150454416), (4747, 0.005465702101704306), (2012, 0.005461671904560838), (3117, 0.005444430861214207), (4244, 0.005440766725064447), (125, 0.005436927705426608), (876, 0.005420790736318287), (3661, 0.005416431073227096), (3883, 0.005413526625713565), (2555, 0.005400605087447439), (1713, 0.005392839038089217), (424, 0.0053923912113530035), (425, 0.00538771271223065), (3960, 0.00538410670112281), (4731, 0.005377084865604094), (4092, 0.005374476747779027), (2576, 0.005372761061293678), (4462, 0.005366938810126291), (207, 0.005364286789336238), (1148, 0.005362150669369248), (89, 0.005354802126107266), (3168, 0.005347747806494541), (2066, 0.005342607032670275), (533, 0.005341645808665071), (1489, 0.0053364969429291025), (2700, 0.005335229020766544), (4307, 0.005332032463113534), (2903, 0.005325894613899845), (3196, 0.005325510013488297), (3012, 0.00532456012140932), (4512, 0.005321370138942473), (3032, 0.0053158906588202225), (2840, 0.005296852901557952), (3640, 0.005296447876420376), (1332, 0.0052914074046814825), (4515, 0.005284742600555733), (2383, 0.00528059532005656), (4119, 0.005278468339345743), (2854, 0.005274433472381743), (687, 0.005269055437435875), (888, 0.005263536225394896), (4531, 0.005263225767773568), (688, 0.005261012241006073), (1960, 0.0052582635422219045), (3652, 0.005247590212349559), (4050, 0.00524624245302514), (3387, 0.005244458505695765), (967, 0.005243372189894497), (48, 0.005232896902209581), (1454, 0.005216366697066279), (1681, 0.005214011268447719), (2626, 0.0052122532068937626), (4601, 0.005198200780800122), (1866, 0.0051857505975053475), (635, 0.005185061377121375), (673, 0.005182609888709288), (675, 0.005179163798365801), (4116, 0.0051776969029786995), (3659, 0.005176073395483073), (2037, 0.005175652080653475), (4522, 0.005175548926237242), (3263, 0.00517383108985652), (4669, 0.005172504744287811), (4013, 0.005170595500862467), (350, 0.00517025604983358), (3163, 0.0051691852962105975), (481, 0.005164780593076943), (2978, 0.005164019036041873), (2214, 0.005163687760471981), (513, 0.005162651494323789), (1997, 0.005159833232914876), (514, 0.005150294505285848), (3642, 0.005149972703005595), (1015, 0.0051337430511130995), (2084, 0.005125388717280564), (728, 0.005122313966487824), (4436, 0.00512112626342274), (4579, 0.005119034719377813), (210, 0.0051184349626215665), (2252, 0.00511699178627529), (3112, 0.005106856419416023), (3095, 0.005098714869010201), (3451, 0.005090351977824741), (3782, 0.005087089008174156), (1537, 0.005084630492333509), (4431, 0.005078972426198692), (21, 0.005078716565588897), (4038, 0.005077284344617856), (1732, 0.00507589199257496), (1141, 0.005075327867800731), (2104, 0.005071986643796015), (2963, 0.005070829451550443), (3438, 0.005070050712589898), (4231, 0.0050661192133431435), (1659, 0.005062086014395072), (2096, 0.005062020564173703), (2522, 0.0050615571093085635), (3710, 0.005048937546780536), (493, 0.005042410180818854), (930, 0.005040849011676997), (68, 0.005036760741155667), (1687, 0.005035412528617262), (3618, 0.005034079690285422), (2208, 0.0050335647286804865), (2819, 0.005031011549885247), (3483, 0.00502838494029836), (1853, 0.005026954364375079), (2714, 0.005026237965545256), (4265, 0.005026127716899766), (1436, 0.005024973159585021), (418, 0.005023472693084736), (2196, 0.005022252660094149), (3777, 0.005017839103861261), (1918, 0.005016472712648792), (4123, 0.005014533583311265), (1225, 0.005010124580357992), (1380, 0.005008653360733266), (1185, 0.005003498874057845), (4474, 0.005000515560932016), (51, 0.004996706294267588), (667, 0.004993086325563159), (4757, 0.004987344584225062), (1188, 0.004984759781595884), (716, 0.004980176584926475), (4624, 0.004980074560448589), (2088, 0.0049757584382167435), (845, 0.004971963687025712), (502, 0.004971874249549014), (1881, 0.00496736191249008), (3862, 0.004960032413823766), (2015, 0.004959076910717237), (3514, 0.004957994190715945), (928, 0.004956028246414728), (879, 0.004954755308744264), (4629, 0.004954311540459093), (1432, 0.0049469994470867475), (1024, 0.004946434841379937), (543, 0.004946345465361073), (4586, 0.0049452820583268855), (34, 0.004941860582051031), (3849, 0.00493272039890669), (793, 0.0049322046041310385), (3124, 0.004930714656887598), (3349, 0.004927195275324317), (3507, 0.004923227827368), (637, 0.0049179954190632855), (1542, 0.00491707394291747), (584, 0.004914092414552113), (2919, 0.004906163325327199), (2053, 0.004903159493368719), (4249, 0.004900174267452354), (1443, 0.004899858397279449), (2988, 0.004898246711901536), (4470, 0.004896366191565023), (137, 0.004889549466508168), (2334, 0.004888211350348683), (2668, 0.0048865654969798685), (743, 0.004880227884961413), (685, 0.004878642202119039), (809, 0.0048756708576151685), (4376, 0.004869103890379728), (4098, 0.004868131372551668), (2947, 0.004867678584563452), (1901, 0.004867261788510852), (4088, 0.004866961400308961), (4533, 0.00486053673807857), (3571, 0.004856325835418645), (1174, 0.004855099760345486), (2784, 0.004854217940095118), (4678, 0.004853973734728262), (1931, 0.004852330444002857), (1832, 0.004850398963412606), (3486, 0.004849058126916857), (1337, 0.004846578068153392), (4684, 0.004846485791357211), (406, 0.004845439418051415), (1266, 0.004845209670067136), (238, 0.004843839266807821), (2960, 0.004843838057000615), (4283, 0.004841059595508693), (2788, 0.004834971955846787), (3303, 0.004832955984901398), (3404, 0.004831940823292053), (4068, 0.004824831161077879), (4375, 0.0048221419763720165), (1302, 0.0048168178654063865), (4255, 0.004814359688488428), (83, 0.0048126103288400855), (2647, 0.0048101152129432995), (1472, 0.004804405803813839), (1335, 0.004796479238147494), (3210, 0.004790455551425975), (3227, 0.004788547994116231), (1232, 0.00478582624523977), (696, 0.004780325789652252), (3436, 0.004779725531981272), (1876, 0.004776473447671737), (4103, 0.004774890340172639), (3125, 0.004772648978303397), (1191, 0.004767920977980664), (2506, 0.0047646116401190335), (315, 0.004763797372734563), (560, 0.004763553666169026), (4715, 0.004761443105074816), (1488, 0.00476113152757825), (1385, 0.004755163725961253), (4310, 0.004754002244761898), (761, 0.004749896174882409), (2558, 0.004749816236623632), (931, 0.004745912074055602), (986, 0.004745565601603896), (3416, 0.0047447463324693335), (1455, 0.004743419888293865), (370, 0.004741497976346871), (241, 0.00473752385857663), (4148, 0.0047306072912752534), (3807, 0.004724289611806599), (2336, 0.004722534275475671), (1678, 0.004722057214625571), (4248, 0.0047210666786612005), (3374, 0.004713198087897066), (1483, 0.004712354541379802), (4000, 0.004710698422751296), (3727, 0.004708780244091193), (3553, 0.004706881796966401), (3624, 0.004705182731857575), (1012, 0.00470471011896188), (3435, 0.004703030750070023), (1442, 0.0047017635871687245), (1226, 0.004701375776299481), (534, 0.004690601605686683), (2847, 0.004688947008852058), (233, 0.004687285377912401), (3161, 0.004685156692784605), (3443, 0.004684340664801903), (467, 0.004681544957614802), (1257, 0.004679894093485452), (322, 0.0046765891605474045), (2961, 0.004674717684240227), (1127, 0.004674373561570858), (3814, 0.004671291566368324), (3602, 0.004669692434621356), (2069, 0.0046661598664538605), (3499, 0.004665546068420559), (4211, 0.004661928133357725), (2216, 0.004654461997433947), (244, 0.004645983192009212), (4309, 0.004635351010919719), (4387, 0.004630813585501193), (500, 0.004630742514809082), (799, 0.0046297368989164185), (4039, 0.004629560967819856), (1035, 0.0046137212573131026), (1967, 0.0046137022123945255), (4576, 0.004612798156417187), (3370, 0.004609890274159297), (321, 0.004609600633909267), (825, 0.00460608161348732), (2808, 0.0046018781946470825), (1044, 0.004600641995658418), (1030, 0.004597173926552893), (1481, 0.004596565806320609), (4216, 0.0045896287243392475), (1063, 0.004588671029714711), (3660, 0.00457980968409831), (2918, 0.004575475992049198), (3582, 0.004575132884627651), (2716, 0.004574517128733375), (4543, 0.004574431636359799), (3156, 0.004574186554911734), (112, 0.004572208749502075), (4658, 0.004565788732563633), (310, 0.004562935378075824), (138, 0.0045600485350369676), (18, 0.004553941718540023), (4438, 0.0045531460132611345), (1478, 0.004547808167130866), (2024, 0.004547802465966501), (52, 0.0045409138659497), (2206, 0.004539472616091402), (4481, 0.004537597143100102), (3085, 0.004536964201153904), (356, 0.004530044562150124), (3978, 0.0045298769265570485), (2540, 0.004526346156531903), (3035, 0.004521192311965597), (1412, 0.004520358621133115), (2787, 0.004515924674932042), (1123, 0.004513586005669361), (644, 0.004511528060686085), (3465, 0.004510971087755828), (4374, 0.004508115005597724), (2224, 0.004506542161391473), (827, 0.00450542528293564), (911, 0.004499305701260463), (3794, 0.0044982348878411125), (4124, 0.0044937913129539245), (4071, 0.004493572105685072), (878, 0.004485671937736678), (1054, 0.004484497748753538), (3723, 0.004481989658825537), (276, 0.004477958799627537), (2348, 0.0044733494739893406), (3466, 0.0044709257050802404), (694, 0.0044660068020420446), (1788, 0.004465871766693725), (1749, 0.004454333358134618), (974, 0.00444584781747131), (468, 0.004444120054033296), (426, 0.004442103062085244), (3136, 0.004429446943910511), (2992, 0.004428181955238542), (690, 0.004418677614886363), (4591, 0.004417005316082903), (866, 0.004415049750966556), (417, 0.0044113828781023184), (3143, 0.004410786672936334), (3342, 0.004410017945915284), (532, 0.004410017239343374), (868, 0.004409438911426226), (2742, 0.004409406625416369), (3775, 0.0044072446272467114), (4325, 0.004405034393451712), (2429, 0.004402373264396121), (316, 0.004401527847322665), (463, 0.004401412558060447), (916, 0.004400586646934156), (2093, 0.004392306981494409), (3854, 0.004391802124503552), (4402, 0.004391428842785104), (1448, 0.004388286133955837), (3993, 0.004387916836930272), (1789, 0.004385467210396803), (540, 0.004383189709743281), (304, 0.004378499890693911), (590, 0.0043771564477045714), (306, 0.004375698348234609), (669, 0.0043697902574685275), (4176, 0.004366944814263835), (829, 0.004362743237499875), (3876, 0.004359446114394185), (1462, 0.004356056500222122), (4274, 0.004354747464851257), (4235, 0.004351465994018876), (3284, 0.004349621722005518), (4322, 0.0043483995463045625), (863, 0.00434115541062412), (1259, 0.004340768309451655), (1065, 0.00434073887447554), (4164, 0.004337190178755473), (4689, 0.00433355215623892), (199, 0.004330384989868604), (2803, 0.004321958924273247), (1236, 0.004319054862543918), (1680, 0.004313198278169296), (1865, 0.004308431709888398), (3860, 0.004305958188492614), (608, 0.0043050082502903006), (1173, 0.0042978467633379746), (1809, 0.004292073136824485), (563, 0.004282445218108909), (1061, 0.00427554359831674), (3974, 0.004274550465505125), (936, 0.004273173924745816), (1000, 0.0042716104201929415), (804, 0.004271526593262874), (4475, 0.004270702779872981), (1739, 0.004270231624901361), (800, 0.00426872794698287), (327, 0.004260296547756749), (3841, 0.004258998727242503), (2607, 0.004256915296965051), (3801, 0.004254945130343161), (323, 0.00424817647748584), (3556, 0.004246398678805554), (803, 0.004244693742820832), (1934, 0.004240552601255688), (732, 0.004239602010033927), (1694, 0.004216630457000304), (4450, 0.0042099402068198144), (4661, 0.00420975344638352), (519, 0.004193284093428077), (4679, 0.004175291454036135), (4432, 0.00415683996780754), (2820, 0.00415395808013234), (3637, 0.004153252687069397), (4553, 0.0041526892575018005), (3232, 0.004152310330333474), (653, 0.004132049794624718), (2621, 0.004131868498721008), (2692, 0.0041240318599223), (2412, 0.004123741020008835), (3684, 0.004121627955897624), (4096, 0.004114433024341343), (692, 0.004104701418791296), (642, 0.004102179217310515), (861, 0.004089647871866363), (3339, 0.004087068606332161), (3129, 0.004080296239793816), (3776, 0.004067395158931625), (1309, 0.0040646056832513485), (190, 0.00405277651319564), (1781, 0.004040916612681609), (3344, 0.004033309685414646), (288, 0.0040331988188885524), (4095, 0.004030434690164702), (2771, 0.004029827961073576), (723, 0.004020413248536821), (1458, 0.004019589586927498), (621, 0.004018228257958167), (2197, 0.004016780634401138), (1300, 0.004015790391061946), (1910, 0.004012116512218484), (639, 0.004010302376305075), (3674, 0.004008914154687124), (3806, 0.004006532414653535), (3213, 0.003981010278420397), (640, 0.0039758062664628354), (3215, 0.003971817397594869), (4733, 0.003962664909500371), (3713, 0.00395962513148466), (1092, 0.003958466117194984), (16, 0.003958391467168829), (44, 0.00395336030030767), (2602, 0.003940638862017523), (442, 0.00393790060917713), (469, 0.003924795577649672), (88, 0.003917095156092836), (738, 0.003912377756138218), (3317, 0.003889842442747662), (1369, 0.0038870715746513024), (290, 0.003875418010952379), (295, 0.003873028322195667), (942, 0.003860933158830022), (435, 0.003850986413817622), (1377, 0.0038310269042299994), (1115, 0.0038160693675418174), (1989, 0.0038144873573739304), (2925, 0.0038131066434405263), (1576, 0.003803977826605125), (294, 0.0037814103403163847), (3946, 0.003682948391332036), (266, 0.00365418086319333), (775, 0.0036332960236336665), (562, 0.0036029735036995033), (332, 0.0035560359657959783), (1506, 0.0032523077949412793), (3429, 0.003228986457301021), (0, 0.0), (3, 0.0), (4, 0.0), (5, 0.0), (8, 0.0), (9, 0.0), (10, 0.0), (11, 0.0), (12, 0.0), (13, 0.0), (20, 0.0), (23, 0.0), (24, 0.0), (25, 0.0), (29, 0.0), (32, 0.0), (33, 0.0), (37, 0.0), (38, 0.0), (40, 0.0), (41, 0.0), (43, 0.0), (49, 0.0), (50, 0.0), (55, 0.0), (56, 0.0), (60, 0.0), (63, 0.0), (66, 0.0), (71, 0.0), (82, 0.0), (86, 0.0), (92, 0.0), (96, 0.0), (97, 0.0), (98, 0.0), (101, 0.0), (103, 0.0), (105, 0.0), (110, 0.0), (111, 0.0), (114, 0.0), (117, 0.0), (120, 0.0), (121, 0.0), (122, 0.0), (123, 0.0), (129, 0.0), (130, 0.0), (132, 0.0), (133, 0.0), (134, 0.0), (139, 0.0), (141, 0.0), (142, 0.0), (143, 0.0), (153, 0.0), (155, 0.0), (156, 0.0), (159, 0.0), (162, 0.0), (165, 0.0), (168, 0.0), (174, 0.0), (177, 0.0), (181, 0.0), (182, 0.0), (184, 0.0), (186, 0.0), (192, 0.0), (193, 0.0), (194, 0.0), (195, 0.0), (197, 0.0), (204, 0.0), (205, 0.0), (209, 0.0), (211, 0.0), (212, 0.0), (213, 0.0), (216, 0.0), (217, 0.0), (219, 0.0), (221, 0.0), (223, 0.0), (224, 0.0), (225, 0.0), (228, 0.0), (229, 0.0), (230, 0.0), (231, 0.0), (235, 0.0), (242, 0.0), (246, 0.0), (256, 0.0), (262, 0.0), (267, 0.0), (268, 0.0), (269, 0.0), (272, 0.0), (274, 0.0), (280, 0.0), (281, 0.0), (285, 0.0), (287, 0.0), (297, 0.0), (298, 0.0), (299, 0.0), (300, 0.0), (302, 0.0), (308, 0.0), (318, 0.0), (319, 0.0), (325, 0.0), (328, 0.0), (330, 0.0), (335, 0.0), (340, 0.0), (342, 0.0), (344, 0.0), (345, 0.0), (348, 0.0), (349, 0.0), (353, 0.0), (357, 0.0), (358, 0.0), (361, 0.0), (362, 0.0), (363, 0.0), (366, 0.0), (372, 0.0), (373, 0.0), (377, 0.0), (382, 0.0), (383, 0.0), (384, 0.0), (385, 0.0), (386, 0.0), (387, 0.0), (388, 0.0), (391, 0.0), (392, 0.0), (393, 0.0), (398, 0.0), (399, 0.0), (401, 0.0), (402, 0.0), (403, 0.0), (404, 0.0), (407, 0.0), (409, 0.0), (412, 0.0), (416, 0.0), (419, 0.0), (421, 0.0), (422, 0.0), (423, 0.0), (428, 0.0), (431, 0.0), (434, 0.0), (437, 0.0), (445, 0.0), (446, 0.0), (448, 0.0), (452, 0.0), (456, 0.0), (459, 0.0), (462, 0.0), (464, 0.0), (474, 0.0), (475, 0.0), (476, 0.0), (478, 0.0), (479, 0.0), (483, 0.0), (484, 0.0), (485, 0.0), (486, 0.0), (490, 0.0), (494, 0.0), (498, 0.0), (499, 0.0), (503, 0.0), (504, 0.0), (505, 0.0), (507, 0.0), (508, 0.0), (510, 0.0), (520, 0.0), (521, 0.0), (525, 0.0), (526, 0.0), (527, 0.0), (528, 0.0), (529, 0.0), (531, 0.0), (535, 0.0), (536, 0.0), (539, 0.0), (541, 0.0), (544, 0.0), (547, 0.0), (551, 0.0), (564, 0.0), (566, 0.0), (568, 0.0), (570, 0.0), (573, 0.0), (574, 0.0), (575, 0.0), (576, 0.0), (579, 0.0), (582, 0.0), (583, 0.0), (586, 0.0), (589, 0.0), (592, 0.0), (593, 0.0), (594, 0.0), (596, 0.0), (597, 0.0), (598, 0.0), (605, 0.0), (609, 0.0), (610, 0.0), (612, 0.0), (616, 0.0), (618, 0.0), (623, 0.0), (624, 0.0), (626, 0.0), (631, 0.0), (632, 0.0), (645, 0.0), (647, 0.0), (648, 0.0), (649, 0.0), (650, 0.0), (658, 0.0), (659, 0.0), (664, 0.0), (665, 0.0), (672, 0.0), (677, 0.0), (679, 0.0), (680, 0.0), (683, 0.0), (684, 0.0), (697, 0.0), (698, 0.0), (699, 0.0), (700, 0.0), (707, 0.0), (708, 0.0), (709, 0.0), (710, 0.0), (711, 0.0), (712, 0.0), (713, 0.0), (714, 0.0), (717, 0.0), (718, 0.0), (721, 0.0), (722, 0.0), (725, 0.0), (726, 0.0), (731, 0.0), (734, 0.0), (735, 0.0), (736, 0.0), (737, 0.0), (740, 0.0), (741, 0.0), (749, 0.0), (754, 0.0), (757, 0.0), (759, 0.0), (764, 0.0), (766, 0.0), (767, 0.0), (768, 0.0), (773, 0.0), (774, 0.0), (782, 0.0), (783, 0.0), (784, 0.0), (786, 0.0), (787, 0.0), (791, 0.0), (792, 0.0), (794, 0.0), (795, 0.0), (797, 0.0), (805, 0.0), (807, 0.0), (818, 0.0), (819, 0.0), (821, 0.0), (822, 0.0), (823, 0.0), (826, 0.0), (828, 0.0), (830, 0.0), (836, 0.0), (837, 0.0), (838, 0.0), (840, 0.0), (841, 0.0), (844, 0.0), (848, 0.0), (850, 0.0), (851, 0.0), (854, 0.0), (856, 0.0), (857, 0.0), (858, 0.0), (859, 0.0), (862, 0.0), (867, 0.0), (869, 0.0), (871, 0.0), (873, 0.0), (874, 0.0), (882, 0.0), (883, 0.0), (884, 0.0), (885, 0.0), (886, 0.0), (887, 0.0), (889, 0.0), (890, 0.0), (892, 0.0), (894, 0.0), (897, 0.0), (906, 0.0), (907, 0.0), (909, 0.0), (914, 0.0), (917, 0.0), (920, 0.0), (921, 0.0), (922, 0.0), (924, 0.0), (929, 0.0), (933, 0.0), (934, 0.0), (938, 0.0), (939, 0.0), (940, 0.0), (941, 0.0), (943, 0.0), (944, 0.0), (945, 0.0), (946, 0.0), (948, 0.0), (949, 0.0), (951, 0.0), (955, 0.0), (956, 0.0), (957, 0.0), (958, 0.0), (959, 0.0), (962, 0.0), (965, 0.0), (966, 0.0), (969, 0.0), (972, 0.0), (973, 0.0), (975, 0.0), (982, 0.0), (983, 0.0), (984, 0.0), (985, 0.0), (987, 0.0), (999, 0.0), (1002, 0.0), (1005, 0.0), (1010, 0.0), (1016, 0.0), (1019, 0.0), (1020, 0.0), (1023, 0.0), (1025, 0.0), (1026, 0.0), (1027, 0.0), (1028, 0.0), (1029, 0.0), (1032, 0.0), (1034, 0.0), (1036, 0.0), (1037, 0.0), (1039, 0.0), (1042, 0.0), (1045, 0.0), (1048, 0.0), (1053, 0.0), (1059, 0.0), (1060, 0.0), (1070, 0.0), (1075, 0.0), (1078, 0.0), (1079, 0.0), (1080, 0.0), (1085, 0.0), (1086, 0.0), (1087, 0.0), (1089, 0.0), (1090, 0.0), (1093, 0.0), (1094, 0.0), (1098, 0.0), (1100, 0.0), (1105, 0.0), (1106, 0.0), (1109, 0.0), (1110, 0.0), (1113, 0.0), (1118, 0.0), (1121, 0.0), (1122, 0.0), (1124, 0.0), (1126, 0.0), (1130, 0.0), (1131, 0.0), (1133, 0.0), (1136, 0.0), (1139, 0.0), (1142, 0.0), (1143, 0.0), (1144, 0.0), (1145, 0.0), (1147, 0.0), (1152, 0.0), (1155, 0.0), (1156, 0.0), (1157, 0.0), (1159, 0.0), (1160, 0.0), (1161, 0.0), (1165, 0.0), (1166, 0.0), (1169, 0.0), (1170, 0.0), (1172, 0.0), (1175, 0.0), (1178, 0.0), (1180, 0.0), (1186, 0.0), (1187, 0.0), (1190, 0.0), (1193, 0.0), (1194, 0.0), (1196, 0.0), (1198, 0.0), (1200, 0.0), (1201, 0.0), (1203, 0.0), (1209, 0.0), (1213, 0.0), (1214, 0.0), (1216, 0.0), (1217, 0.0), (1221, 0.0), (1222, 0.0), (1227, 0.0), (1228, 0.0), (1234, 0.0), (1235, 0.0), (1238, 0.0), (1240, 0.0), (1241, 0.0), (1242, 0.0), (1243, 0.0), (1244, 0.0), (1247, 0.0), (1251, 0.0), (1254, 0.0), (1258, 0.0), (1260, 0.0), (1264, 0.0), (1268, 0.0), (1273, 0.0), (1278, 0.0), (1282, 0.0), (1286, 0.0), (1288, 0.0), (1289, 0.0), (1290, 0.0), (1291, 0.0), (1293, 0.0), (1294, 0.0), (1297, 0.0), (1298, 0.0), (1299, 0.0), (1304, 0.0), (1305, 0.0), (1308, 0.0), (1311, 0.0), (1312, 0.0), (1313, 0.0), (1316, 0.0), (1317, 0.0), (1318, 0.0), (1320, 0.0), (1321, 0.0), (1322, 0.0), (1324, 0.0), (1328, 0.0), (1329, 0.0), (1330, 0.0), (1333, 0.0), (1336, 0.0), (1338, 0.0), (1339, 0.0), (1340, 0.0), (1344, 0.0), (1346, 0.0), (1349, 0.0), (1350, 0.0), (1355, 0.0), (1359, 0.0), (1362, 0.0), (1363, 0.0), (1366, 0.0), (1367, 0.0), (1370, 0.0), (1371, 0.0), (1382, 0.0), (1390, 0.0), (1392, 0.0), (1393, 0.0), (1397, 0.0), (1398, 0.0), (1399, 0.0), (1401, 0.0), (1404, 0.0), (1408, 0.0), (1410, 0.0), (1411, 0.0), (1415, 0.0), (1418, 0.0), (1422, 0.0), (1423, 0.0), (1424, 0.0), (1425, 0.0), (1434, 0.0), (1437, 0.0), (1438, 0.0), (1439, 0.0), (1440, 0.0), (1441, 0.0), (1444, 0.0), (1445, 0.0), (1446, 0.0), (1453, 0.0), (1459, 0.0), (1460, 0.0), (1465, 0.0), (1466, 0.0), (1473, 0.0), (1474, 0.0), (1475, 0.0), (1476, 0.0), (1479, 0.0), (1485, 0.0), (1490, 0.0), (1491, 0.0), (1495, 0.0), (1496, 0.0), (1497, 0.0), (1503, 0.0), (1504, 0.0), (1507, 0.0), (1508, 0.0), (1512, 0.0), (1516, 0.0), (1517, 0.0), (1518, 0.0), (1520, 0.0), (1521, 0.0), (1522, 0.0), (1524, 0.0), (1525, 0.0), (1526, 0.0), (1527, 0.0), (1533, 0.0), (1540, 0.0), (1541, 0.0), (1543, 0.0), (1544, 0.0), (1545, 0.0), (1547, 0.0), (1549, 0.0), (1550, 0.0), (1553, 0.0), (1558, 0.0), (1563, 0.0), (1567, 0.0), (1569, 0.0), (1570, 0.0), (1571, 0.0), (1574, 0.0), (1577, 0.0), (1581, 0.0), (1582, 0.0), (1583, 0.0), (1585, 0.0), (1593, 0.0), (1596, 0.0), (1597, 0.0), (1598, 0.0), (1599, 0.0), (1600, 0.0), (1601, 0.0), (1602, 0.0), (1603, 0.0), (1604, 0.0), (1605, 0.0), (1606, 0.0), (1607, 0.0), (1610, 0.0), (1612, 0.0), (1615, 0.0), (1616, 0.0), (1617, 0.0), (1618, 0.0), (1619, 0.0), (1624, 0.0), (1626, 0.0), (1628, 0.0), (1637, 0.0), (1638, 0.0), (1640, 0.0), (1641, 0.0), (1642, 0.0), (1644, 0.0), (1648, 0.0), (1650, 0.0), (1652, 0.0), (1654, 0.0), (1655, 0.0), (1656, 0.0), (1658, 0.0), (1660, 0.0), (1666, 0.0), (1669, 0.0), (1670, 0.0), (1674, 0.0), (1676, 0.0), (1679, 0.0), (1682, 0.0), (1683, 0.0), (1684, 0.0), (1685, 0.0), (1686, 0.0), (1689, 0.0), (1690, 0.0), (1692, 0.0), (1693, 0.0), (1695, 0.0), (1697, 0.0), (1698, 0.0), (1702, 0.0), (1703, 0.0), (1704, 0.0), (1706, 0.0), (1707, 0.0), (1708, 0.0), (1711, 0.0), (1714, 0.0), (1717, 0.0), (1720, 0.0), (1721, 0.0), (1725, 0.0), (1727, 0.0), (1730, 0.0), (1734, 0.0), (1736, 0.0), (1737, 0.0), (1738, 0.0), (1742, 0.0), (1743, 0.0), (1746, 0.0), (1747, 0.0), (1748, 0.0), (1751, 0.0), (1754, 0.0), (1755, 0.0), (1758, 0.0), (1763, 0.0), (1764, 0.0), (1765, 0.0), (1766, 0.0), (1767, 0.0), (1769, 0.0), (1770, 0.0), (1771, 0.0), (1775, 0.0), (1776, 0.0), (1777, 0.0), (1780, 0.0), (1782, 0.0), (1785, 0.0), (1786, 0.0), (1787, 0.0), (1790, 0.0), (1792, 0.0), (1797, 0.0), (1798, 0.0), (1800, 0.0), (1801, 0.0), (1804, 0.0), (1806, 0.0), (1807, 0.0), (1814, 0.0), (1818, 0.0), (1820, 0.0), (1822, 0.0), (1823, 0.0), (1826, 0.0), (1827, 0.0), (1828, 0.0), (1830, 0.0), (1831, 0.0), (1834, 0.0), (1837, 0.0), (1839, 0.0), (1841, 0.0), (1847, 0.0), (1848, 0.0), (1850, 0.0), (1851, 0.0), (1854, 0.0), (1856, 0.0), (1858, 0.0), (1862, 0.0), (1868, 0.0), (1870, 0.0), (1872, 0.0), (1874, 0.0), (1878, 0.0), (1880, 0.0), (1883, 0.0), (1884, 0.0), (1885, 0.0), (1886, 0.0), (1887, 0.0), (1888, 0.0), (1890, 0.0), (1893, 0.0), (1894, 0.0), (1895, 0.0), (1896, 0.0), (1898, 0.0), (1906, 0.0), (1909, 0.0), (1915, 0.0), (1917, 0.0), (1919, 0.0), (1922, 0.0), (1923, 0.0), (1929, 0.0), (1936, 0.0), (1938, 0.0), (1943, 0.0), (1944, 0.0), (1945, 0.0), (1946, 0.0), (1947, 0.0), (1955, 0.0), (1956, 0.0), (1957, 0.0), (1961, 0.0), (1965, 0.0), (1972, 0.0), (1974, 0.0), (1977, 0.0), (1978, 0.0), (1980, 0.0), (1981, 0.0), (1986, 0.0), (1987, 0.0), (1988, 0.0), (1994, 0.0), (1999, 0.0), (2000, 0.0), (2001, 0.0), (2002, 0.0), (2003, 0.0), (2004, 0.0), (2005, 0.0), (2006, 0.0), (2007, 0.0), (2010, 0.0), (2011, 0.0), (2014, 0.0), (2019, 0.0), (2020, 0.0), (2022, 0.0), (2023, 0.0), (2025, 0.0), (2027, 0.0), (2030, 0.0), (2034, 0.0), (2036, 0.0), (2041, 0.0), (2042, 0.0), (2043, 0.0), (2046, 0.0), (2048, 0.0), (2049, 0.0), (2050, 0.0), (2051, 0.0), (2052, 0.0), (2054, 0.0), (2055, 0.0), (2063, 0.0), (2065, 0.0), (2067, 0.0), (2068, 0.0), (2071, 0.0), (2072, 0.0), (2076, 0.0), (2077, 0.0), (2080, 0.0), (2081, 0.0), (2083, 0.0), (2085, 0.0), (2087, 0.0), (2092, 0.0), (2095, 0.0), (2098, 0.0), (2099, 0.0), (2100, 0.0), (2102, 0.0), (2103, 0.0), (2106, 0.0), (2107, 0.0), (2108, 0.0), (2118, 0.0), (2120, 0.0), (2122, 0.0), (2123, 0.0), (2124, 0.0), (2126, 0.0), (2127, 0.0), (2128, 0.0), (2129, 0.0), (2131, 0.0), (2132, 0.0), (2133, 0.0), (2134, 0.0), (2137, 0.0), (2140, 0.0), (2141, 0.0), (2142, 0.0), (2145, 0.0), (2146, 0.0), (2147, 0.0), (2148, 0.0), (2149, 0.0), (2151, 0.0), (2153, 0.0), (2156, 0.0), (2157, 0.0), (2158, 0.0), (2159, 0.0), (2160, 0.0), (2161, 0.0), (2162, 0.0), (2163, 0.0), (2164, 0.0), (2165, 0.0), (2166, 0.0), (2168, 0.0), (2169, 0.0), (2170, 0.0), (2171, 0.0), (2172, 0.0), (2173, 0.0), (2175, 0.0), (2176, 0.0), (2179, 0.0), (2183, 0.0), (2184, 0.0), (2185, 0.0), (2186, 0.0), (2187, 0.0), (2189, 0.0), (2193, 0.0), (2195, 0.0), (2199, 0.0), (2200, 0.0), (2207, 0.0), (2212, 0.0), (2213, 0.0), (2215, 0.0), (2218, 0.0), (2219, 0.0), (2220, 0.0), (2223, 0.0), (2228, 0.0), (2230, 0.0), (2238, 0.0), (2239, 0.0), (2242, 0.0), (2243, 0.0), (2244, 0.0), (2247, 0.0), (2248, 0.0), (2249, 0.0), (2251, 0.0), (2253, 0.0), (2256, 0.0), (2258, 0.0), (2259, 0.0), (2260, 0.0), (2261, 0.0), (2262, 0.0), (2266, 0.0), (2267, 0.0), (2268, 0.0), (2270, 0.0), (2271, 0.0), (2272, 0.0), (2274, 0.0), (2279, 0.0), (2281, 0.0), (2282, 0.0), (2287, 0.0), (2288, 0.0), (2289, 0.0), (2290, 0.0), (2291, 0.0), (2294, 0.0), (2297, 0.0), (2298, 0.0), (2299, 0.0), (2300, 0.0), (2301, 0.0), (2302, 0.0), (2304, 0.0), (2305, 0.0), (2306, 0.0), (2307, 0.0), (2308, 0.0), (2309, 0.0), (2310, 0.0), (2312, 0.0), (2313, 0.0), (2315, 0.0), (2319, 0.0), (2320, 0.0), (2321, 0.0), (2322, 0.0), (2323, 0.0), (2324, 0.0), (2329, 0.0), (2331, 0.0), (2333, 0.0), (2335, 0.0), (2338, 0.0), (2339, 0.0), (2340, 0.0), (2341, 0.0), (2342, 0.0), (2343, 0.0), (2345, 0.0), (2346, 0.0), (2347, 0.0), (2349, 0.0), (2350, 0.0), (2351, 0.0), (2353, 0.0), (2354, 0.0), (2356, 0.0), (2358, 0.0), (2361, 0.0), (2362, 0.0), (2363, 0.0), (2364, 0.0), (2366, 0.0), (2367, 0.0), (2368, 0.0), (2371, 0.0), (2375, 0.0), (2376, 0.0), (2378, 0.0), (2379, 0.0), (2380, 0.0), (2381, 0.0), (2384, 0.0), (2385, 0.0), (2386, 0.0), (2387, 0.0), (2388, 0.0), (2389, 0.0), (2391, 0.0), (2392, 0.0), (2394, 0.0), (2395, 0.0), (2396, 0.0), (2397, 0.0), (2399, 0.0), (2401, 0.0), (2403, 0.0), (2404, 0.0), (2407, 0.0), (2408, 0.0), (2409, 0.0), (2410, 0.0), (2411, 0.0), (2414, 0.0), (2415, 0.0), (2416, 0.0), (2417, 0.0), (2418, 0.0), (2419, 0.0), (2420, 0.0), (2422, 0.0), (2423, 0.0), (2424, 0.0), (2425, 0.0), (2426, 0.0), (2430, 0.0), (2431, 0.0), (2433, 0.0), (2434, 0.0), (2435, 0.0), (2436, 0.0), (2437, 0.0), (2438, 0.0), (2440, 0.0), (2444, 0.0), (2445, 0.0), (2446, 0.0), (2448, 0.0), (2449, 0.0), (2452, 0.0), (2454, 0.0), (2455, 0.0), (2457, 0.0), (2458, 0.0), (2461, 0.0), (2462, 0.0), (2464, 0.0), (2466, 0.0), (2469, 0.0), (2470, 0.0), (2472, 0.0), (2474, 0.0), (2478, 0.0), (2481, 0.0), (2483, 0.0), (2485, 0.0), (2487, 0.0), (2489, 0.0), (2490, 0.0), (2491, 0.0), (2492, 0.0), (2494, 0.0), (2495, 0.0), (2499, 0.0), (2502, 0.0), (2504, 0.0), (2505, 0.0), (2507, 0.0), (2508, 0.0), (2509, 0.0), (2510, 0.0), (2511, 0.0), (2512, 0.0), (2514, 0.0), (2515, 0.0), (2517, 0.0), (2519, 0.0), (2520, 0.0), (2523, 0.0), (2526, 0.0), (2529, 0.0), (2530, 0.0), (2531, 0.0), (2532, 0.0), (2533, 0.0), (2535, 0.0), (2537, 0.0), (2538, 0.0), (2542, 0.0), (2545, 0.0), (2546, 0.0), (2547, 0.0), (2548, 0.0), (2549, 0.0), (2551, 0.0), (2552, 0.0), (2554, 0.0), (2556, 0.0), (2557, 0.0), (2559, 0.0), (2560, 0.0), (2561, 0.0), (2562, 0.0), (2563, 0.0), (2565, 0.0), (2566, 0.0), (2569, 0.0), (2572, 0.0), (2575, 0.0), (2577, 0.0), (2581, 0.0), (2582, 0.0), (2583, 0.0), (2584, 0.0), (2585, 0.0), (2586, 0.0), (2587, 0.0), (2588, 0.0), (2590, 0.0), (2591, 0.0), (2592, 0.0), (2593, 0.0), (2594, 0.0), (2595, 0.0), (2597, 0.0), (2600, 0.0), (2603, 0.0), (2604, 0.0), (2609, 0.0), (2610, 0.0), (2611, 0.0), (2612, 0.0), (2614, 0.0), (2616, 0.0), (2619, 0.0), (2623, 0.0), (2624, 0.0), (2625, 0.0), (2627, 0.0), (2628, 0.0), (2631, 0.0), (2633, 0.0), (2634, 0.0), (2635, 0.0), (2636, 0.0), (2639, 0.0), (2640, 0.0), (2641, 0.0), (2643, 0.0), (2646, 0.0), (2648, 0.0), (2649, 0.0), (2651, 0.0), (2653, 0.0), (2656, 0.0), (2657, 0.0), (2658, 0.0), (2659, 0.0), (2662, 0.0), (2664, 0.0), (2665, 0.0), (2667, 0.0), (2669, 0.0), (2670, 0.0), (2671, 0.0), (2672, 0.0), (2673, 0.0), (2674, 0.0), (2676, 0.0), (2677, 0.0), (2684, 0.0), (2688, 0.0), (2693, 0.0), (2694, 0.0), (2696, 0.0), (2702, 0.0), (2703, 0.0), (2705, 0.0), (2706, 0.0), (2707, 0.0), (2709, 0.0), (2710, 0.0), (2712, 0.0), (2717, 0.0), (2718, 0.0), (2719, 0.0), (2720, 0.0), (2721, 0.0), (2722, 0.0), (2725, 0.0), (2726, 0.0), (2731, 0.0), (2735, 0.0), (2737, 0.0), (2739, 0.0), (2740, 0.0), (2743, 0.0), (2744, 0.0), (2746, 0.0), (2747, 0.0), (2748, 0.0), (2750, 0.0), (2752, 0.0), (2753, 0.0), (2754, 0.0), (2757, 0.0), (2758, 0.0), (2761, 0.0), (2765, 0.0), (2767, 0.0), (2769, 0.0), (2772, 0.0), (2774, 0.0), (2775, 0.0), (2777, 0.0), (2783, 0.0), (2786, 0.0), (2792, 0.0), (2794, 0.0), (2798, 0.0), (2799, 0.0), (2805, 0.0), (2806, 0.0), (2807, 0.0), (2810, 0.0), (2812, 0.0), (2814, 0.0), (2815, 0.0), (2816, 0.0), (2817, 0.0), (2818, 0.0), (2821, 0.0), (2822, 0.0), (2825, 0.0), (2826, 0.0), (2830, 0.0), (2831, 0.0), (2832, 0.0), (2833, 0.0), (2834, 0.0), (2836, 0.0), (2838, 0.0), (2844, 0.0), (2845, 0.0), (2846, 0.0), (2848, 0.0), (2849, 0.0), (2852, 0.0), (2853, 0.0), (2855, 0.0), (2856, 0.0), (2857, 0.0), (2858, 0.0), (2859, 0.0), (2861, 0.0), (2862, 0.0), (2863, 0.0), (2866, 0.0), (2867, 0.0), (2868, 0.0), (2869, 0.0), (2870, 0.0), (2872, 0.0), (2873, 0.0), (2875, 0.0), (2876, 0.0), (2877, 0.0), (2878, 0.0), (2880, 0.0), (2882, 0.0), (2883, 0.0), (2884, 0.0), (2885, 0.0), (2887, 0.0), (2888, 0.0), (2890, 0.0), (2891, 0.0), (2892, 0.0), (2893, 0.0), (2894, 0.0), (2895, 0.0), (2897, 0.0), (2900, 0.0), (2901, 0.0), (2902, 0.0), (2904, 0.0), (2905, 0.0), (2907, 0.0), (2911, 0.0), (2912, 0.0), (2913, 0.0), (2914, 0.0), (2916, 0.0), (2920, 0.0), (2922, 0.0), (2923, 0.0), (2924, 0.0), (2926, 0.0), (2928, 0.0), (2930, 0.0), (2933, 0.0), (2934, 0.0), (2935, 0.0), (2936, 0.0), (2937, 0.0), (2940, 0.0), (2941, 0.0), (2942, 0.0), (2943, 0.0), (2945, 0.0), (2946, 0.0), (2948, 0.0), (2951, 0.0), (2953, 0.0), (2956, 0.0), (2957, 0.0), (2962, 0.0), (2965, 0.0), (2967, 0.0), (2969, 0.0), (2970, 0.0), (2971, 0.0), (2972, 0.0), (2973, 0.0), (2974, 0.0), (2975, 0.0), (2976, 0.0), (2977, 0.0), (2983, 0.0), (2986, 0.0), (2987, 0.0), (2989, 0.0), (2993, 0.0), (2994, 0.0), (2997, 0.0), (2998, 0.0), (3000, 0.0), (3003, 0.0), (3004, 0.0), (3006, 0.0), (3008, 0.0), (3009, 0.0), (3010, 0.0), (3014, 0.0), (3015, 0.0), (3016, 0.0), (3017, 0.0), (3020, 0.0), (3024, 0.0), (3025, 0.0), (3026, 0.0), (3028, 0.0), (3029, 0.0), (3030, 0.0), (3031, 0.0), (3033, 0.0), (3037, 0.0), (3038, 0.0), (3039, 0.0), (3040, 0.0), (3041, 0.0), (3042, 0.0), (3044, 0.0), (3046, 0.0), (3050, 0.0), (3052, 0.0), (3055, 0.0), (3056, 0.0), (3060, 0.0), (3061, 0.0), (3062, 0.0), (3064, 0.0), (3066, 0.0), (3067, 0.0), (3071, 0.0), (3072, 0.0), (3073, 0.0), (3074, 0.0), (3075, 0.0), (3077, 0.0), (3078, 0.0), (3081, 0.0), (3082, 0.0), (3084, 0.0), (3087, 0.0), (3088, 0.0), (3090, 0.0), (3091, 0.0), (3093, 0.0), (3096, 0.0), (3097, 0.0), (3102, 0.0), (3103, 0.0), (3106, 0.0), (3107, 0.0), (3109, 0.0), (3113, 0.0), (3115, 0.0), (3116, 0.0), (3119, 0.0), (3120, 0.0), (3121, 0.0), (3128, 0.0), (3137, 0.0), (3138, 0.0), (3139, 0.0), (3140, 0.0), (3142, 0.0), (3144, 0.0), (3145, 0.0), (3146, 0.0), (3147, 0.0), (3149, 0.0), (3150, 0.0), (3151, 0.0), (3152, 0.0), (3155, 0.0), (3157, 0.0), (3159, 0.0), (3162, 0.0), (3164, 0.0), (3165, 0.0), (3166, 0.0), (3167, 0.0), (3169, 0.0), (3170, 0.0), (3172, 0.0), (3174, 0.0), (3175, 0.0), (3176, 0.0), (3177, 0.0), (3182, 0.0), (3183, 0.0), (3186, 0.0), (3187, 0.0), (3190, 0.0), (3192, 0.0), (3194, 0.0), (3197, 0.0), (3198, 0.0), (3200, 0.0), (3203, 0.0), (3204, 0.0), (3205, 0.0), (3206, 0.0), (3207, 0.0), (3208, 0.0), (3209, 0.0), (3211, 0.0), (3214, 0.0), (3217, 0.0), (3219, 0.0), (3220, 0.0), (3221, 0.0), (3222, 0.0), (3223, 0.0), (3224, 0.0), (3230, 0.0), (3236, 0.0), (3237, 0.0), (3239, 0.0), (3240, 0.0), (3241, 0.0), (3242, 0.0), (3248, 0.0), (3249, 0.0), (3251, 0.0), (3253, 0.0), (3254, 0.0), (3255, 0.0), (3256, 0.0), (3257, 0.0), (3258, 0.0), (3259, 0.0), (3261, 0.0), (3262, 0.0), (3264, 0.0), (3266, 0.0), (3267, 0.0), (3268, 0.0), (3269, 0.0), (3271, 0.0), (3272, 0.0), (3273, 0.0), (3274, 0.0), (3276, 0.0), (3277, 0.0), (3282, 0.0), (3283, 0.0), (3286, 0.0), (3287, 0.0), (3289, 0.0), (3290, 0.0), (3291, 0.0), (3292, 0.0), (3295, 0.0), (3296, 0.0), (3297, 0.0), (3300, 0.0), (3302, 0.0), (3304, 0.0), (3306, 0.0), (3307, 0.0), (3308, 0.0), (3309, 0.0), (3311, 0.0), (3313, 0.0), (3314, 0.0), (3315, 0.0), (3316, 0.0), (3319, 0.0), (3321, 0.0), (3322, 0.0), (3324, 0.0), (3326, 0.0), (3327, 0.0), (3328, 0.0), (3329, 0.0), (3335, 0.0), (3336, 0.0), (3337, 0.0), (3343, 0.0), (3347, 0.0), (3352, 0.0), (3353, 0.0), (3354, 0.0), (3356, 0.0), (3358, 0.0), (3359, 0.0), (3360, 0.0), (3365, 0.0), (3366, 0.0), (3369, 0.0), (3372, 0.0), (3373, 0.0), (3375, 0.0), (3378, 0.0), (3379, 0.0), (3380, 0.0), (3381, 0.0), (3383, 0.0), (3388, 0.0), (3391, 0.0), (3397, 0.0), (3399, 0.0), (3400, 0.0), (3402, 0.0), (3410, 0.0), (3412, 0.0), (3414, 0.0), (3415, 0.0), (3417, 0.0), (3418, 0.0), (3420, 0.0), (3422, 0.0), (3423, 0.0), (3424, 0.0), (3425, 0.0), (3428, 0.0), (3431, 0.0), (3434, 0.0), (3441, 0.0), (3444, 0.0), (3447, 0.0), (3449, 0.0), (3454, 0.0), (3455, 0.0), (3457, 0.0), (3459, 0.0), (3462, 0.0), (3464, 0.0), (3472, 0.0), (3475, 0.0), (3476, 0.0), (3477, 0.0), (3478, 0.0), (3479, 0.0), (3482, 0.0), (3485, 0.0), (3489, 0.0), (3490, 0.0), (3491, 0.0), (3492, 0.0), (3493, 0.0), (3494, 0.0), (3496, 0.0), (3497, 0.0), (3500, 0.0), (3505, 0.0), (3506, 0.0), (3510, 0.0), (3512, 0.0), (3518, 0.0), (3519, 0.0), (3523, 0.0), (3524, 0.0), (3525, 0.0), (3529, 0.0), (3531, 0.0), (3533, 0.0), (3534, 0.0), (3536, 0.0), (3538, 0.0), (3539, 0.0), (3543, 0.0), (3544, 0.0), (3545, 0.0), (3551, 0.0), (3552, 0.0), (3554, 0.0), (3557, 0.0), (3558, 0.0), (3560, 0.0), (3561, 0.0), (3562, 0.0), (3563, 0.0), (3564, 0.0), (3565, 0.0), (3566, 0.0), (3568, 0.0), (3572, 0.0), (3573, 0.0), (3574, 0.0), (3575, 0.0), (3577, 0.0), (3578, 0.0), (3579, 0.0), (3581, 0.0), (3585, 0.0), (3587, 0.0), (3589, 0.0), (3590, 0.0), (3591, 0.0), (3592, 0.0), (3596, 0.0), (3599, 0.0), (3600, 0.0), (3601, 0.0), (3603, 0.0), (3607, 0.0), (3608, 0.0), (3610, 0.0), (3611, 0.0), (3613, 0.0), (3616, 0.0), (3617, 0.0), (3620, 0.0), (3621, 0.0), (3622, 0.0), (3628, 0.0), (3629, 0.0), (3630, 0.0), (3632, 0.0), (3633, 0.0), (3643, 0.0), (3644, 0.0), (3646, 0.0), (3647, 0.0), (3648, 0.0), (3649, 0.0), (3650, 0.0), (3651, 0.0), (3655, 0.0), (3657, 0.0), (3658, 0.0), (3663, 0.0), (3667, 0.0), (3668, 0.0), (3669, 0.0), (3671, 0.0), (3672, 0.0), (3676, 0.0), (3677, 0.0), (3678, 0.0), (3682, 0.0), (3683, 0.0), (3686, 0.0), (3687, 0.0), (3689, 0.0), (3695, 0.0), (3700, 0.0), (3701, 0.0), (3706, 0.0), (3707, 0.0), (3712, 0.0), (3716, 0.0), (3717, 0.0), (3719, 0.0), (3725, 0.0), (3726, 0.0), (3728, 0.0), (3729, 0.0), (3730, 0.0), (3732, 0.0), (3733, 0.0), (3735, 0.0), (3736, 0.0), (3739, 0.0), (3740, 0.0), (3742, 0.0), (3745, 0.0), (3748, 0.0), (3749, 0.0), (3750, 0.0), (3751, 0.0), (3752, 0.0), (3753, 0.0), (3754, 0.0), (3755, 0.0), (3757, 0.0), (3760, 0.0), (3761, 0.0), (3762, 0.0), (3764, 0.0), (3765, 0.0), (3767, 0.0), (3770, 0.0), (3778, 0.0), (3779, 0.0), (3784, 0.0), (3785, 0.0), (3786, 0.0), (3790, 0.0), (3791, 0.0), (3796, 0.0), (3799, 0.0), (3800, 0.0), (3803, 0.0), (3804, 0.0), (3811, 0.0), (3812, 0.0), (3813, 0.0), (3816, 0.0), (3817, 0.0), (3818, 0.0), (3820, 0.0), (3821, 0.0), (3825, 0.0), (3826, 0.0), (3827, 0.0), (3830, 0.0), (3832, 0.0), (3836, 0.0), (3837, 0.0), (3838, 0.0), (3842, 0.0), (3843, 0.0), (3846, 0.0), (3847, 0.0), (3848, 0.0), (3851, 0.0), (3855, 0.0), (3856, 0.0), (3857, 0.0), (3858, 0.0), (3866, 0.0), (3874, 0.0), (3875, 0.0), (3877, 0.0), (3878, 0.0), (3879, 0.0), (3880, 0.0), (3884, 0.0), (3885, 0.0), (3887, 0.0), (3891, 0.0), (3892, 0.0), (3893, 0.0), (3894, 0.0), (3895, 0.0), (3896, 0.0), (3898, 0.0), (3902, 0.0), (3903, 0.0), (3904, 0.0), (3905, 0.0), (3911, 0.0), (3912, 0.0), (3913, 0.0), (3914, 0.0), (3915, 0.0), (3917, 0.0), (3918, 0.0), (3920, 0.0), (3921, 0.0), (3922, 0.0), (3924, 0.0), (3925, 0.0), (3927, 0.0), (3928, 0.0), (3929, 0.0), (3930, 0.0), (3931, 0.0), (3932, 0.0), (3933, 0.0), (3934, 0.0), (3935, 0.0), (3936, 0.0), (3939, 0.0), (3941, 0.0), (3945, 0.0), (3948, 0.0), (3949, 0.0), (3950, 0.0), (3951, 0.0), (3952, 0.0), (3953, 0.0), (3954, 0.0), (3958, 0.0), (3962, 0.0), (3964, 0.0), (3969, 0.0), (3973, 0.0), (3976, 0.0), (3979, 0.0), (3980, 0.0), (3981, 0.0), (3983, 0.0), (3984, 0.0), (3987, 0.0), (3988, 0.0), (3990, 0.0), (3992, 0.0), (3996, 0.0), (3999, 0.0), (4002, 0.0), (4003, 0.0), (4007, 0.0), (4008, 0.0), (4009, 0.0), (4010, 0.0), (4011, 0.0), (4012, 0.0), (4016, 0.0), (4017, 0.0), (4019, 0.0), (4020, 0.0), (4021, 0.0), (4025, 0.0), (4026, 0.0), (4027, 0.0), (4030, 0.0), (4031, 0.0), (4032, 0.0), (4033, 0.0), (4034, 0.0), (4036, 0.0), (4042, 0.0), (4045, 0.0), (4048, 0.0), (4049, 0.0), (4051, 0.0), (4052, 0.0), (4053, 0.0), (4055, 0.0), (4057, 0.0), (4058, 0.0), (4059, 0.0), (4061, 0.0), (4062, 0.0), (4064, 0.0), (4065, 0.0), (4066, 0.0), (4067, 0.0), (4069, 0.0), (4072, 0.0), (4073, 0.0), (4074, 0.0), (4075, 0.0), (4079, 0.0), (4081, 0.0), (4083, 0.0), (4084, 0.0), (4086, 0.0), (4093, 0.0), (4094, 0.0), (4097, 0.0), (4102, 0.0), (4105, 0.0), (4107, 0.0), (4110, 0.0), (4112, 0.0), (4113, 0.0), (4114, 0.0), (4115, 0.0), (4117, 0.0), (4118, 0.0), (4122, 0.0), (4125, 0.0), (4126, 0.0), (4127, 0.0), (4129, 0.0), (4130, 0.0), (4131, 0.0), (4132, 0.0), (4135, 0.0), (4136, 0.0), (4137, 0.0), (4140, 0.0), (4142, 0.0), (4143, 0.0), (4144, 0.0), (4145, 0.0), (4146, 0.0), (4151, 0.0), (4155, 0.0), (4160, 0.0), (4161, 0.0), (4169, 0.0), (4170, 0.0), (4172, 0.0), (4173, 0.0), (4175, 0.0), (4177, 0.0), (4179, 0.0), (4182, 0.0), (4183, 0.0), (4184, 0.0), (4185, 0.0), (4190, 0.0), (4194, 0.0), (4195, 0.0), (4196, 0.0), (4198, 0.0), (4199, 0.0), (4200, 0.0), (4201, 0.0), (4202, 0.0), (4203, 0.0), (4204, 0.0), (4205, 0.0), (4206, 0.0), (4207, 0.0), (4209, 0.0), (4212, 0.0), (4213, 0.0), (4214, 0.0), (4215, 0.0), (4217, 0.0), (4218, 0.0), (4220, 0.0), (4221, 0.0), (4222, 0.0), (4223, 0.0), (4224, 0.0), (4225, 0.0), (4228, 0.0), (4229, 0.0), (4230, 0.0), (4232, 0.0), (4233, 0.0), (4234, 0.0), (4236, 0.0), (4237, 0.0), (4241, 0.0), (4243, 0.0), (4246, 0.0), (4247, 0.0), (4252, 0.0), (4253, 0.0), (4256, 0.0), (4257, 0.0), (4258, 0.0), (4259, 0.0), (4260, 0.0), (4262, 0.0), (4263, 0.0), (4267, 0.0), (4269, 0.0), (4270, 0.0), (4272, 0.0), (4273, 0.0), (4287, 0.0), (4289, 0.0), (4291, 0.0), (4293, 0.0), (4294, 0.0), (4296, 0.0), (4298, 0.0), (4300, 0.0), (4301, 0.0), (4303, 0.0), (4304, 0.0), (4305, 0.0), (4306, 0.0), (4308, 0.0), (4311, 0.0), (4313, 0.0), (4315, 0.0), (4317, 0.0), (4319, 0.0), (4320, 0.0), (4321, 0.0), (4324, 0.0), (4326, 0.0), (4330, 0.0), (4332, 0.0), (4333, 0.0), (4335, 0.0), (4336, 0.0), (4338, 0.0), (4340, 0.0), (4341, 0.0), (4342, 0.0), (4345, 0.0), (4347, 0.0), (4348, 0.0), (4349, 0.0), (4350, 0.0), (4351, 0.0), (4353, 0.0), (4355, 0.0), (4356, 0.0), (4357, 0.0), (4361, 0.0), (4367, 0.0), (4368, 0.0), (4369, 0.0), (4370, 0.0), (4378, 0.0), (4381, 0.0), (4382, 0.0), (4386, 0.0), (4388, 0.0), (4390, 0.0), (4393, 0.0), (4395, 0.0), (4397, 0.0), (4399, 0.0), (4400, 0.0), (4405, 0.0), (4407, 0.0), (4408, 0.0), (4409, 0.0), (4413, 0.0), (4416, 0.0), (4417, 0.0), (4418, 0.0), (4419, 0.0), (4423, 0.0), (4424, 0.0), (4425, 0.0), (4427, 0.0), (4428, 0.0), (4429, 0.0), (4435, 0.0), (4437, 0.0), (4439, 0.0), (4442, 0.0), (4445, 0.0), (4446, 0.0), (4447, 0.0), (4448, 0.0), (4451, 0.0), (4452, 0.0), (4455, 0.0), (4456, 0.0), (4457, 0.0), (4458, 0.0), (4460, 0.0), (4461, 0.0), (4463, 0.0), (4465, 0.0), (4469, 0.0), (4473, 0.0), (4476, 0.0), (4477, 0.0), (4478, 0.0), (4482, 0.0), (4484, 0.0), (4491, 0.0), (4492, 0.0), (4496, 0.0), (4498, 0.0), (4499, 0.0), (4500, 0.0), (4504, 0.0), (4507, 0.0), (4508, 0.0), (4509, 0.0), (4516, 0.0), (4519, 0.0), (4520, 0.0), (4521, 0.0), (4526, 0.0), (4528, 0.0), (4529, 0.0), (4540, 0.0), (4541, 0.0), (4544, 0.0), (4545, 0.0), (4550, 0.0), (4555, 0.0), (4556, 0.0), (4559, 0.0), (4560, 0.0), (4561, 0.0), (4562, 0.0), (4563, 0.0), (4564, 0.0), (4566, 0.0), (4569, 0.0), (4570, 0.0), (4571, 0.0), (4572, 0.0), (4573, 0.0), (4575, 0.0), (4577, 0.0), (4578, 0.0), (4580, 0.0), (4584, 0.0), (4589, 0.0), (4592, 0.0), (4594, 0.0), (4596, 0.0), (4598, 0.0), (4600, 0.0), (4602, 0.0), (4603, 0.0), (4604, 0.0), (4606, 0.0), (4608, 0.0), (4610, 0.0), (4611, 0.0), (4613, 0.0), (4617, 0.0), (4619, 0.0), (4620, 0.0), (4625, 0.0), (4628, 0.0), (4631, 0.0), (4632, 0.0), (4633, 0.0), (4634, 0.0), (4635, 0.0), (4636, 0.0), (4641, 0.0), (4643, 0.0), (4644, 0.0), (4648, 0.0), (4649, 0.0), (4650, 0.0), (4651, 0.0), (4652, 0.0), (4655, 0.0), (4656, 0.0), (4657, 0.0), (4659, 0.0), (4662, 0.0), (4667, 0.0), (4671, 0.0), (4675, 0.0), (4680, 0.0), (4681, 0.0), (4682, 0.0), (4685, 0.0), (4686, 0.0), (4687, 0.0), (4688, 0.0), (4690, 0.0), (4692, 0.0), (4693, 0.0), (4694, 0.0), (4696, 0.0), (4702, 0.0), (4704, 0.0), (4705, 0.0), (4706, 0.0), (4707, 0.0), (4711, 0.0), (4712, 0.0), (4713, 0.0), (4717, 0.0), (4719, 0.0), (4722, 0.0), (4723, 0.0), (4726, 0.0), (4727, 0.0), (4729, 0.0), (4732, 0.0), (4736, 0.0), (4737, 0.0), (4739, 0.0), (4740, 0.0), (4741, 0.0), (4742, 0.0), (4743, 0.0), (4744, 0.0), (4745, 0.0), (4748, 0.0), (4749, 0.0), (4752, 0.0), (4753, 0.0), (4758, 0.0)]\n"
          ]
        }
      ]
    },
    {
      "cell_type": "code",
      "source": [
        "print('Top 30 Movies Suggested for you:\\n')\n",
        "i=1\n",
        "for movie in Sorted_Similar_Movies:\n",
        "  index=movie[0]\n",
        "  title_from_index=df[df.index==index]['Movie_Title'].values[0]\n",
        "  if(i<31):\n",
        "    print(i,'.',title_from_index)\n",
        "    i+=1"
      ],
      "metadata": {
        "colab": {
          "base_uri": "https://localhost:8080/"
        },
        "id": "BzFOXiYn4DEH",
        "outputId": "87fca92a-1fa2-4aa2-d585-edc1c73a775f"
      },
      "execution_count": 35,
      "outputs": [
        {
          "output_type": "stream",
          "name": "stdout",
          "text": [
            "Top 30 Movies Suggested for you:\n",
            "\n",
            "1 . The Mist\n",
            "2 . Pollock\n",
            "3 . Mystic River\n",
            "4 . Welcome to Mooseport\n",
            "5 . The Majestic\n",
            "6 . Frequency\n",
            "7 . Elsa & Fred\n",
            "8 . Flubber\n",
            "9 . Dreamcatcher\n",
            "10 . Silent Hill\n",
            "11 . Dear John\n",
            "12 . Into the Wild\n",
            "13 . The Hoax\n",
            "14 . Meet Joe Black\n",
            "15 . House at the End of the Street\n",
            "16 . Duets\n",
            "17 . The Helix... Loaded\n",
            "18 . Spy Hard\n",
            "19 . The Children of Huang Shi\n",
            "20 . Death at a Funeral\n",
            "21 . The Shawshank Redemption\n",
            "22 . City of Angels\n",
            "23 . Real Steel\n",
            "24 . Pandorum\n",
            "25 . Jeepers Creepers 2\n",
            "26 . Ladyhawke\n",
            "27 . Dear Frankie\n",
            "28 . Trapeze\n",
            "29 . He Got Game\n",
            "30 . From Dusk Till Dawn\n"
          ]
        }
      ]
    },
    {
      "cell_type": "markdown",
      "source": [
        "**Top 10 Movie Recommendation System**"
      ],
      "metadata": {
        "id": "DeOw1gPT4dF7"
      }
    },
    {
      "cell_type": "code",
      "source": [
        "Movie_name=input(\"Enter Your Favorite Movie Name:\")\n",
        "List_of_all_titles=df[\"Movie_Title\"].tolist()\n",
        "Find_close_Match=difflib.get_close_matches(Movie_name,List_of_all_titles)\n",
        "Close_Match=Find_close_Match[0]\n",
        "Index_of_Movie=df[df.Movie_Title==Close_Match]['Movie_ID'].values[0]\n",
        "Recommendation_Score=list(enumerate(similarity_score[Index_of_Movie]))\n",
        "sorted_similar_movies =sorted(Recommendation_Score,key=lambda x:x[1],reverse=True)\n",
        "print('Top 10 Movies Suggested for you:\\n')\n",
        "i=1\n",
        "for movie in sorted_similar_movies:\n",
        "  index=movie[0]\n",
        "  title_from_index=df.iloc[index]['Movie_Title']\n",
        "  if(i<11):\n",
        "    print(i,'.',title_from_index)\n",
        "    i+=1"
      ],
      "metadata": {
        "colab": {
          "base_uri": "https://localhost:8080/"
        },
        "id": "-2JGuplv6htN",
        "outputId": "9cc1078f-13ba-418f-bcd6-8a7bd7b16950"
      },
      "execution_count": 40,
      "outputs": [
        {
          "output_type": "stream",
          "name": "stdout",
          "text": [
            "Enter Your Favorite Movie Name:family star\n",
            "Top 10 Movies Suggested for you:\n",
            "\n",
            "1 . The Mist\n",
            "2 . Pollock\n",
            "3 . Mystic River\n",
            "4 . Welcome to Mooseport\n",
            "5 . The Majestic\n",
            "6 . Frequency\n",
            "7 . Elsa & Fred\n",
            "8 . Flubber\n",
            "9 . Dreamcatcher\n",
            "10 . Silent Hill\n"
          ]
        }
      ]
    }
  ]
}